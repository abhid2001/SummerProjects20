{
  "nbformat": 4,
  "nbformat_minor": 0,
  "metadata": {
    "colab": {
      "name": "IEEE-Assing1.ipynb",
      "provenance": [],
      "collapsed_sections": []
    },
    "kernelspec": {
      "name": "python3",
      "display_name": "Python 3"
    }
  },
  "cells": [
    {
      "cell_type": "markdown",
      "metadata": {
        "id": "5MxjSvEwI7JR",
        "colab_type": "text"
      },
      "source": [
        "# Stundents dataset \n",
        "Analysing relationship between test scores and attendance "
      ]
    },
    {
      "cell_type": "markdown",
      "metadata": {
        "id": "P-QUYyCAtQno",
        "colab_type": "text"
      },
      "source": [
        "**IMPORTING DATA SET**"
      ]
    },
    {
      "cell_type": "code",
      "metadata": {
        "id": "QjCXus-K4vIU",
        "colab_type": "code",
        "outputId": "72ac7c4a-9f7e-4853-ef42-dd103d7eb0cd",
        "colab": {
          "resources": {
            "http://localhost:8080/nbextensions/google.colab/files.js": {
              "data": "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",
              "ok": true,
              "headers": [
                [
                  "content-type",
                  "application/javascript"
                ]
              ],
              "status": 200,
              "status_text": ""
            }
          },
          "base_uri": "https://localhost:8080/",
          "height": 75
        }
      },
      "source": [
        "import pandas as pd\n",
        "from google.colab import files\n",
        "\n",
        "uploaded = files.upload()\n",
        "\n"
      ],
      "execution_count": 0,
      "outputs": [
        {
          "output_type": "display_data",
          "data": {
            "text/html": [
              "\n",
              "     <input type=\"file\" id=\"files-8ead7f00-f7e2-4d51-b856-e67bcae5b52f\" name=\"files[]\" multiple disabled />\n",
              "     <output id=\"result-8ead7f00-f7e2-4d51-b856-e67bcae5b52f\">\n",
              "      Upload widget is only available when the cell has been executed in the\n",
              "      current browser session. Please rerun this cell to enable.\n",
              "      </output>\n",
              "      <script src=\"/nbextensions/google.colab/files.js\"></script> "
            ],
            "text/plain": [
              "<IPython.core.display.HTML object>"
            ]
          },
          "metadata": {
            "tags": []
          }
        },
        {
          "output_type": "stream",
          "text": [
            "Saving dataset.csv to dataset (1).csv\n"
          ],
          "name": "stdout"
        }
      ]
    },
    {
      "cell_type": "code",
      "metadata": {
        "id": "WK6113y16Tp1",
        "colab_type": "code",
        "outputId": "2eef8ded-ed1a-4418-f85b-c6d53aa15a52",
        "colab": {
          "base_uri": "https://localhost:8080/",
          "height": 35
        }
      },
      "source": [
        "for fn in uploaded.keys():\n",
        "  print('User uploaded file \"{name}\" with length {length} bytes'.format(\n",
        "      name=fn, length=len(uploaded[fn])))\n",
        "  "
      ],
      "execution_count": 0,
      "outputs": [
        {
          "output_type": "stream",
          "text": [
            "User uploaded file \"dataset.csv\" with length 3261 bytes\n"
          ],
          "name": "stdout"
        }
      ]
    },
    {
      "cell_type": "markdown",
      "metadata": {
        "id": "jcjW6SyiA1uh",
        "colab_type": "text"
      },
      "source": [
        "**DICTIONARY UPLOADED**"
      ]
    },
    {
      "cell_type": "code",
      "metadata": {
        "id": "CvZUAUcK6YLs",
        "colab_type": "code",
        "outputId": "626204b7-01c8-42e2-e722-c455c93205da",
        "colab": {
          "base_uri": "https://localhost:8080/",
          "height": 55
        }
      },
      "source": [
        "uploaded"
      ],
      "execution_count": 0,
      "outputs": [
        {
          "output_type": "execute_result",
          "data": {
            "text/plain": [
              "{'dataset.csv': b'Roll,CT-1 (Marks: 20),CT-2 (Marks: 20),CT-3 (Marks: 20),CT-4 (Marks: 20),\"Class Test (Total of best 3, Marks: 60)\",Attendance (Marks: 15),Observation (Marks: 15),Total (Marks: 90),Exam Mark (105),Exam Mark (105),Mark total 300\\r\\n2,12.5,15,14,18,47,15,13.5,75.5,45,46.5,167\\r\\n3,9,10,17,11,38,15,13.5,66.5,28,44,138.5\\r\\n4,10,15.5,12.5,6.5,38,15,13.5,66.5,26.5,43,136\\r\\n5,14,14,18,0,46,15,15,76,46,44,166\\r\\n6,14.5,15.5,15,15.5,46,15,15,76,26,74.5,176.5\\r\\n7,13.5,13,18,16.5,48,15,15,78,77,70,225\\r\\n8,14,16,14,16.5,46.5,15,15,76.5,69,79.5,225\\r\\n9,11,17,15.5,20,52.5,15,12,79.5,49,67,195.5\\r\\n10,8,15,14,8,37,15,15,67,26,38.5,131.5\\r\\n11,11.5,14.5,7,14.5,40.5,15,13.5,69,40,41,150\\r\\n12,7.5,13,18,7.5,38.5,15,13.5,67,51,45,163\\r\\n13,12.5,20,11,0,43.5,15,15,73.5,48,59.5,181\\r\\n14,7.5,11.5,17,8.5,37,15,13.5,65.5,42,23.5,131\\r\\n15,7.5,15.5,15,14.5,45,15,13.5,73.5,43,64,180.5\\r\\n16,1,10,7.5,0,18.5,15,13.5,47,3,2,52\\r\\n,,,,,,,,,,,\\r\\n,,,,,,,,,,,\\r\\n19,CT-1 (Marks: 20),CT-2 (Marks: 20),CT-3 (Marks: 20),CT-4 (Marks: 20),\"Class Test (Total of best 3, Marks: 60)\",Attendance (Marks: 15),Observation (Marks: 15),Total (Marks: 90),,,\\r\\n20,9.5,18,12,6.5,39.5,15,15,69.5,22,25.5,117\\r\\n21,14.5,12,19,17,50.5,15,13.5,79,18,47,144\\r\\n22,7,14.5,16,19.5,50,15,15,80,39,55.5,174.5\\r\\n23,5,14,18,14.5,46.5,15,12,73.5,49,79.5,202\\r\\n24,0,16,13,14.5,43.5,13.5,13.5,70.5,41,67,178.5\\r\\n25,13,15,14,15.5,44.5,15,15,74.5,53,30,157.5\\r\\n26,13.5,15,15,0,43.5,15,12,70.5,18,71,159.5\\r\\n27,12.5,18,12,7,42.5,15,15,72.5,9,18.5,100\\r\\n28,13.5,12,11.5,9,37,15,13.5,65.5,28,31.5,125\\r\\n29,0,16,14,8,38,15,14,67,25,71.5,163.5\\r\\n30,10,12,7,0,29,15,13.5,57.5,31,55,143.5\\r\\n31,6,12,10.5,10.5,33,15,13.5,61.5,41,85,187.5\\r\\n32,12,12,14,0,38,15,10.5,63.5,51,50,164.5\\r\\n33,14,15.5,8,9.5,39,15,15,69,29,82.5,180.5\\r\\n34,12,15,10,15,42,15,13.5,70.5,26,31,127.5\\r\\n,,,,,,,,,,,\\r\\n,,,,,,,,,,,\\r\\n37,CT-1 (Marks: 20),CT-2 (Marks: 20),CT-3 (Marks: 20),CT-4 (Marks: 20),\"Class Test (Total of best 3, Marks: 60)\",Attendance (Marks: 15),Observation (Marks: 15),Total (Marks: 90),,,\\r\\n38,13,17.5,15.5,17.5,50.5,15,13.5,79,30,67,176\\r\\n39,12.5,11,17,0,40.5,15,10.5,66,30,64,160\\r\\n40,20,15.5,10.5,6.5,46,15,15,76,12,59,147\\r\\n41,9,20,8,15,44,15,15,74,89,81,244\\r\\n42,17.5,17,18,13.5,52.5,15,13.5,81,30,66,177\\r\\n43,12,13,19,16,48,15,13.5,76.5,10,43,129.5\\r\\n44,11,20,10,17.5,48.5,15,13.5,77,49,93,219\\r\\n45,12,16.5,20,16.5,53,15,13.5,81.5,31,47,159.5\\r\\n46,15,15,14,7.5,44,15,12,71,48,64,183\\r\\n47,16,15.5,15,0,46.5,10.5,13.5,70.5,9,57,136.5\\r\\n48,15.5,20,18,6.5,53.5,15,13.5,82,38,60,180\\r\\n49,10.5,14,19,0,43.5,15,15,73.5,22,38,133.5\\r\\n50,10,17.5,16,0,43.5,15,12,70.5,40,78,188.5\\r\\n51,5,12,13,9.5,34.5,13.5,13.5,61.5,37,76.5,175\\r\\n52,12.5,18,15,11,45.5,15,15,75.5,60,97,232.5\\r\\n,,,,,,,,,,,\\r\\n,,,,,,,,,,,\\r\\n55,CT-1 (Marks: 20),CT-2 (Marks: 20),CT-3 (Marks: 20),CT-4 (Marks: 20),\"Class Test (Total of best 3, Marks: 60)\",Attendance (Marks: 15),Observation (Marks: 15),Total (Marks: 90),,,\\r\\n56,8,19,14,12,45,15,13.5,73.5,39,37,149.5\\r\\n57,17.5,19,15.5,3,52,15,15,82,56,79.5,217.5\\r\\n58,10,15,14.5,8.5,39.5,15,15,69.5,18,73,160.5\\r\\n59,19,20,15.5,15.5,54.5,15,15,84.5,34,73,191.5\\r\\n60,12,20,14,18,52,15,13.5,80.5,51,66,197.5\\r\\n61,19.5,17.5,17,0,54,15,15,84,32,84,200\\r\\n62,0,4,13,12.5,29.5,15,12.5,57,50,77.5,184.5\\r\\n63,0,4,16,7.5,27.5,13.5,12.5,53.5,16,39,108.5\\r\\n64,18,16.5,0,15,49.5,13.5,13.5,76.5,12,45,133.5\\r\\n'}"
            ]
          },
          "metadata": {
            "tags": []
          },
          "execution_count": 46
        }
      ]
    },
    {
      "cell_type": "markdown",
      "metadata": {
        "id": "tPSRzp76Azie",
        "colab_type": "text"
      },
      "source": [
        "**CONVERTING INTO PANDAS DATAFRAME**"
      ]
    },
    {
      "cell_type": "code",
      "metadata": {
        "id": "rCJ39WFz6yNy",
        "colab_type": "code",
        "outputId": "e227ee8a-ebf3-4ca7-c413-6605c96eaba7",
        "colab": {
          "base_uri": "https://localhost:8080/",
          "height": 277
        }
      },
      "source": [
        "import pandas as pd\n",
        "import io\n",
        "dataset = pd.read_csv(io.StringIO(uploaded['dataset.csv'].decode('utf-8')),index_col='Roll')\n",
        "print(dataset)"
      ],
      "execution_count": 0,
      "outputs": [
        {
          "output_type": "stream",
          "text": [
            "     CT-1 (Marks: 20) CT-2 (Marks: 20)  ... Exam Mark (105).1 Mark total 300\n",
            "Roll                                    ...                                 \n",
            "2.0              12.5               15  ...              46.5          167.0\n",
            "3.0                 9               10  ...              44.0          138.5\n",
            "4.0                10             15.5  ...              43.0          136.0\n",
            "5.0                14               14  ...              44.0          166.0\n",
            "6.0              14.5             15.5  ...              74.5          176.5\n",
            "...               ...              ...  ...               ...            ...\n",
            "60.0               12               20  ...              66.0          197.5\n",
            "61.0             19.5             17.5  ...              84.0          200.0\n",
            "62.0                0                4  ...              77.5          184.5\n",
            "63.0                0                4  ...              39.0          108.5\n",
            "64.0               18             16.5  ...              45.0          133.5\n",
            "\n",
            "[63 rows x 11 columns]\n"
          ],
          "name": "stdout"
        }
      ]
    },
    {
      "cell_type": "markdown",
      "metadata": {
        "id": "vYhmBT1Wtayt",
        "colab_type": "text"
      },
      "source": [
        "**GENERAL INFO ABOUT THE ENTIRE DATASET**"
      ]
    },
    {
      "cell_type": "code",
      "metadata": {
        "id": "r_NErKH18RrM",
        "colab_type": "code",
        "outputId": "6f8213dc-0967-4f09-9a69-16891e717256",
        "colab": {
          "base_uri": "https://localhost:8080/",
          "height": 329
        }
      },
      "source": [
        "dataset.info()"
      ],
      "execution_count": 0,
      "outputs": [
        {
          "output_type": "stream",
          "text": [
            "<class 'pandas.core.frame.DataFrame'>\n",
            "Float64Index: 63 entries, 2.0 to 64.0\n",
            "Data columns (total 11 columns):\n",
            " #   Column                                   Non-Null Count  Dtype  \n",
            "---  ------                                   --------------  -----  \n",
            " 0   CT-1 (Marks: 20)                         57 non-null     object \n",
            " 1   CT-2 (Marks: 20)                         57 non-null     object \n",
            " 2   CT-3 (Marks: 20)                         57 non-null     object \n",
            " 3   CT-4 (Marks: 20)                         57 non-null     object \n",
            " 4   Class Test (Total of best 3, Marks: 60)  57 non-null     object \n",
            " 5   Attendance (Marks: 15)                   57 non-null     object \n",
            " 6   Observation (Marks: 15)                  57 non-null     object \n",
            " 7   Total (Marks: 90)                        57 non-null     object \n",
            " 8   Exam Mark (105)                          54 non-null     float64\n",
            " 9   Exam Mark (105).1                        54 non-null     float64\n",
            " 10  Mark total 300                           54 non-null     float64\n",
            "dtypes: float64(3), object(8)\n",
            "memory usage: 5.9+ KB\n"
          ],
          "name": "stdout"
        }
      ]
    },
    {
      "cell_type": "code",
      "metadata": {
        "id": "CqsXHaiu8lOF",
        "colab_type": "code",
        "outputId": "442b7830-fb76-4ad8-ae1b-f972ef406794",
        "colab": {
          "base_uri": "https://localhost:8080/",
          "height": 35
        }
      },
      "source": [
        "type(dataset)"
      ],
      "execution_count": 0,
      "outputs": [
        {
          "output_type": "execute_result",
          "data": {
            "text/plain": [
              "pandas.core.frame.DataFrame"
            ]
          },
          "metadata": {
            "tags": []
          },
          "execution_count": 49
        }
      ]
    },
    {
      "cell_type": "code",
      "metadata": {
        "id": "0JTA2y1zAoUr",
        "colab_type": "code",
        "outputId": "247ca0f1-d584-4e55-8a0c-20a8b720ed97",
        "colab": {
          "base_uri": "https://localhost:8080/",
          "height": 267
        }
      },
      "source": [
        "dataset.head()"
      ],
      "execution_count": 0,
      "outputs": [
        {
          "output_type": "execute_result",
          "data": {
            "text/html": [
              "<div>\n",
              "<style scoped>\n",
              "    .dataframe tbody tr th:only-of-type {\n",
              "        vertical-align: middle;\n",
              "    }\n",
              "\n",
              "    .dataframe tbody tr th {\n",
              "        vertical-align: top;\n",
              "    }\n",
              "\n",
              "    .dataframe thead th {\n",
              "        text-align: right;\n",
              "    }\n",
              "</style>\n",
              "<table border=\"1\" class=\"dataframe\">\n",
              "  <thead>\n",
              "    <tr style=\"text-align: right;\">\n",
              "      <th></th>\n",
              "      <th>CT-1 (Marks: 20)</th>\n",
              "      <th>CT-2 (Marks: 20)</th>\n",
              "      <th>CT-3 (Marks: 20)</th>\n",
              "      <th>CT-4 (Marks: 20)</th>\n",
              "      <th>Class Test (Total of best 3, Marks: 60)</th>\n",
              "      <th>Attendance (Marks: 15)</th>\n",
              "      <th>Observation (Marks: 15)</th>\n",
              "      <th>Total (Marks: 90)</th>\n",
              "      <th>Exam Mark (105)</th>\n",
              "      <th>Exam Mark (105).1</th>\n",
              "      <th>Mark total 300</th>\n",
              "    </tr>\n",
              "    <tr>\n",
              "      <th>Roll</th>\n",
              "      <th></th>\n",
              "      <th></th>\n",
              "      <th></th>\n",
              "      <th></th>\n",
              "      <th></th>\n",
              "      <th></th>\n",
              "      <th></th>\n",
              "      <th></th>\n",
              "      <th></th>\n",
              "      <th></th>\n",
              "      <th></th>\n",
              "    </tr>\n",
              "  </thead>\n",
              "  <tbody>\n",
              "    <tr>\n",
              "      <th>2.0</th>\n",
              "      <td>12.5</td>\n",
              "      <td>15</td>\n",
              "      <td>14</td>\n",
              "      <td>18</td>\n",
              "      <td>47</td>\n",
              "      <td>15</td>\n",
              "      <td>13.5</td>\n",
              "      <td>75.5</td>\n",
              "      <td>45.0</td>\n",
              "      <td>46.5</td>\n",
              "      <td>167.0</td>\n",
              "    </tr>\n",
              "    <tr>\n",
              "      <th>3.0</th>\n",
              "      <td>9</td>\n",
              "      <td>10</td>\n",
              "      <td>17</td>\n",
              "      <td>11</td>\n",
              "      <td>38</td>\n",
              "      <td>15</td>\n",
              "      <td>13.5</td>\n",
              "      <td>66.5</td>\n",
              "      <td>28.0</td>\n",
              "      <td>44.0</td>\n",
              "      <td>138.5</td>\n",
              "    </tr>\n",
              "    <tr>\n",
              "      <th>4.0</th>\n",
              "      <td>10</td>\n",
              "      <td>15.5</td>\n",
              "      <td>12.5</td>\n",
              "      <td>6.5</td>\n",
              "      <td>38</td>\n",
              "      <td>15</td>\n",
              "      <td>13.5</td>\n",
              "      <td>66.5</td>\n",
              "      <td>26.5</td>\n",
              "      <td>43.0</td>\n",
              "      <td>136.0</td>\n",
              "    </tr>\n",
              "    <tr>\n",
              "      <th>5.0</th>\n",
              "      <td>14</td>\n",
              "      <td>14</td>\n",
              "      <td>18</td>\n",
              "      <td>0</td>\n",
              "      <td>46</td>\n",
              "      <td>15</td>\n",
              "      <td>15</td>\n",
              "      <td>76</td>\n",
              "      <td>46.0</td>\n",
              "      <td>44.0</td>\n",
              "      <td>166.0</td>\n",
              "    </tr>\n",
              "    <tr>\n",
              "      <th>6.0</th>\n",
              "      <td>14.5</td>\n",
              "      <td>15.5</td>\n",
              "      <td>15</td>\n",
              "      <td>15.5</td>\n",
              "      <td>46</td>\n",
              "      <td>15</td>\n",
              "      <td>15</td>\n",
              "      <td>76</td>\n",
              "      <td>26.0</td>\n",
              "      <td>74.5</td>\n",
              "      <td>176.5</td>\n",
              "    </tr>\n",
              "  </tbody>\n",
              "</table>\n",
              "</div>"
            ],
            "text/plain": [
              "     CT-1 (Marks: 20) CT-2 (Marks: 20)  ... Exam Mark (105).1 Mark total 300\n",
              "Roll                                    ...                                 \n",
              "2.0              12.5               15  ...              46.5          167.0\n",
              "3.0                 9               10  ...              44.0          138.5\n",
              "4.0                10             15.5  ...              43.0          136.0\n",
              "5.0                14               14  ...              44.0          166.0\n",
              "6.0              14.5             15.5  ...              74.5          176.5\n",
              "\n",
              "[5 rows x 11 columns]"
            ]
          },
          "metadata": {
            "tags": []
          },
          "execution_count": 50
        }
      ]
    },
    {
      "cell_type": "markdown",
      "metadata": {
        "id": "8zOnVLq4FXCG",
        "colab_type": "text"
      },
      "source": [
        "**Converting the datatype of marks lists from \"objects\" to \"float\"**"
      ]
    },
    {
      "cell_type": "code",
      "metadata": {
        "id": "fMaQnkgGB3Qt",
        "colab_type": "code",
        "colab": {}
      },
      "source": [
        "dataset['CT-1 (Marks: 20)'] = pd.to_numeric(dataset['CT-1 (Marks: 20)'], errors='coerce')\n",
        "dataset['CT-2 (Marks: 20)'] = pd.to_numeric(dataset['CT-2 (Marks: 20)'], errors='coerce')\n",
        "dataset['CT-3 (Marks: 20)'] = pd.to_numeric(dataset['CT-3 (Marks: 20)'], errors='coerce')\n",
        "dataset['CT-4 (Marks: 20)'] = pd.to_numeric(dataset['CT-4 (Marks: 20)'], errors='coerce')\n",
        "dataset['Class Test (Total of best 3, Marks: 60)'] = pd.to_numeric(dataset['Class Test (Total of best 3, Marks: 60)'], errors='coerce')\n",
        "dataset['Attendance (Marks: 15)'] = pd.to_numeric(dataset['Attendance (Marks: 15)'], errors='coerce')\n",
        "dataset['Observation (Marks: 15)'] = pd.to_numeric(dataset['Observation (Marks: 15)'], errors='coerce')\n",
        "dataset['Total (Marks: 90)'] = pd.to_numeric(dataset['Total (Marks: 90)'], errors='coerce')"
      ],
      "execution_count": 0,
      "outputs": []
    },
    {
      "cell_type": "code",
      "metadata": {
        "id": "ZpRlomMayXGL",
        "colab_type": "code",
        "outputId": "a9d6be1e-0a55-407f-ef95-3b6cd580a18a",
        "colab": {
          "base_uri": "https://localhost:8080/",
          "height": 329
        }
      },
      "source": [
        "dataset.info()"
      ],
      "execution_count": 0,
      "outputs": [
        {
          "output_type": "stream",
          "text": [
            "<class 'pandas.core.frame.DataFrame'>\n",
            "Float64Index: 63 entries, 2.0 to 64.0\n",
            "Data columns (total 11 columns):\n",
            " #   Column                                   Non-Null Count  Dtype  \n",
            "---  ------                                   --------------  -----  \n",
            " 0   CT-1 (Marks: 20)                         54 non-null     float64\n",
            " 1   CT-2 (Marks: 20)                         54 non-null     float64\n",
            " 2   CT-3 (Marks: 20)                         54 non-null     float64\n",
            " 3   CT-4 (Marks: 20)                         54 non-null     float64\n",
            " 4   Class Test (Total of best 3, Marks: 60)  54 non-null     float64\n",
            " 5   Attendance (Marks: 15)                   54 non-null     float64\n",
            " 6   Observation (Marks: 15)                  54 non-null     float64\n",
            " 7   Total (Marks: 90)                        54 non-null     float64\n",
            " 8   Exam Mark (105)                          54 non-null     float64\n",
            " 9   Exam Mark (105).1                        54 non-null     float64\n",
            " 10  Mark total 300                           54 non-null     float64\n",
            "dtypes: float64(11)\n",
            "memory usage: 5.9 KB\n"
          ],
          "name": "stdout"
        }
      ]
    },
    {
      "cell_type": "markdown",
      "metadata": {
        "id": "66kBOhsXEDET",
        "colab_type": "text"
      },
      "source": [
        "**All columns converted to float values. **"
      ]
    },
    {
      "cell_type": "markdown",
      "metadata": {
        "id": "9e047oqfFx1o",
        "colab_type": "text"
      },
      "source": [
        "#####**Dropping of rows with roll info as it doesnt serve any purpose**"
      ]
    },
    {
      "cell_type": "code",
      "metadata": {
        "id": "LCZa57No3XQW",
        "colab_type": "code",
        "outputId": "a6caf734-e49f-4459-8514-9788cd53c84b",
        "colab": {
          "base_uri": "https://localhost:8080/",
          "height": 1000
        }
      },
      "source": [
        "dataset.drop([19,37,55,],axis=0)\n"
      ],
      "execution_count": 0,
      "outputs": [
        {
          "output_type": "execute_result",
          "data": {
            "text/html": [
              "<div>\n",
              "<style scoped>\n",
              "    .dataframe tbody tr th:only-of-type {\n",
              "        vertical-align: middle;\n",
              "    }\n",
              "\n",
              "    .dataframe tbody tr th {\n",
              "        vertical-align: top;\n",
              "    }\n",
              "\n",
              "    .dataframe thead th {\n",
              "        text-align: right;\n",
              "    }\n",
              "</style>\n",
              "<table border=\"1\" class=\"dataframe\">\n",
              "  <thead>\n",
              "    <tr style=\"text-align: right;\">\n",
              "      <th></th>\n",
              "      <th>CT-1 (Marks: 20)</th>\n",
              "      <th>CT-2 (Marks: 20)</th>\n",
              "      <th>CT-3 (Marks: 20)</th>\n",
              "      <th>CT-4 (Marks: 20)</th>\n",
              "      <th>Class Test (Total of best 3, Marks: 60)</th>\n",
              "      <th>Attendance (Marks: 15)</th>\n",
              "      <th>Observation (Marks: 15)</th>\n",
              "      <th>Total (Marks: 90)</th>\n",
              "      <th>Exam Mark (105)</th>\n",
              "      <th>Exam Mark (105).1</th>\n",
              "      <th>Mark total 300</th>\n",
              "    </tr>\n",
              "    <tr>\n",
              "      <th>Roll</th>\n",
              "      <th></th>\n",
              "      <th></th>\n",
              "      <th></th>\n",
              "      <th></th>\n",
              "      <th></th>\n",
              "      <th></th>\n",
              "      <th></th>\n",
              "      <th></th>\n",
              "      <th></th>\n",
              "      <th></th>\n",
              "      <th></th>\n",
              "    </tr>\n",
              "  </thead>\n",
              "  <tbody>\n",
              "    <tr>\n",
              "      <th>2.0</th>\n",
              "      <td>12.5</td>\n",
              "      <td>15.0</td>\n",
              "      <td>14.0</td>\n",
              "      <td>18.0</td>\n",
              "      <td>47.0</td>\n",
              "      <td>15.0</td>\n",
              "      <td>13.5</td>\n",
              "      <td>75.5</td>\n",
              "      <td>45.0</td>\n",
              "      <td>46.5</td>\n",
              "      <td>167.0</td>\n",
              "    </tr>\n",
              "    <tr>\n",
              "      <th>3.0</th>\n",
              "      <td>9.0</td>\n",
              "      <td>10.0</td>\n",
              "      <td>17.0</td>\n",
              "      <td>11.0</td>\n",
              "      <td>38.0</td>\n",
              "      <td>15.0</td>\n",
              "      <td>13.5</td>\n",
              "      <td>66.5</td>\n",
              "      <td>28.0</td>\n",
              "      <td>44.0</td>\n",
              "      <td>138.5</td>\n",
              "    </tr>\n",
              "    <tr>\n",
              "      <th>4.0</th>\n",
              "      <td>10.0</td>\n",
              "      <td>15.5</td>\n",
              "      <td>12.5</td>\n",
              "      <td>6.5</td>\n",
              "      <td>38.0</td>\n",
              "      <td>15.0</td>\n",
              "      <td>13.5</td>\n",
              "      <td>66.5</td>\n",
              "      <td>26.5</td>\n",
              "      <td>43.0</td>\n",
              "      <td>136.0</td>\n",
              "    </tr>\n",
              "    <tr>\n",
              "      <th>5.0</th>\n",
              "      <td>14.0</td>\n",
              "      <td>14.0</td>\n",
              "      <td>18.0</td>\n",
              "      <td>0.0</td>\n",
              "      <td>46.0</td>\n",
              "      <td>15.0</td>\n",
              "      <td>15.0</td>\n",
              "      <td>76.0</td>\n",
              "      <td>46.0</td>\n",
              "      <td>44.0</td>\n",
              "      <td>166.0</td>\n",
              "    </tr>\n",
              "    <tr>\n",
              "      <th>6.0</th>\n",
              "      <td>14.5</td>\n",
              "      <td>15.5</td>\n",
              "      <td>15.0</td>\n",
              "      <td>15.5</td>\n",
              "      <td>46.0</td>\n",
              "      <td>15.0</td>\n",
              "      <td>15.0</td>\n",
              "      <td>76.0</td>\n",
              "      <td>26.0</td>\n",
              "      <td>74.5</td>\n",
              "      <td>176.5</td>\n",
              "    </tr>\n",
              "    <tr>\n",
              "      <th>7.0</th>\n",
              "      <td>13.5</td>\n",
              "      <td>13.0</td>\n",
              "      <td>18.0</td>\n",
              "      <td>16.5</td>\n",
              "      <td>48.0</td>\n",
              "      <td>15.0</td>\n",
              "      <td>15.0</td>\n",
              "      <td>78.0</td>\n",
              "      <td>77.0</td>\n",
              "      <td>70.0</td>\n",
              "      <td>225.0</td>\n",
              "    </tr>\n",
              "    <tr>\n",
              "      <th>8.0</th>\n",
              "      <td>14.0</td>\n",
              "      <td>16.0</td>\n",
              "      <td>14.0</td>\n",
              "      <td>16.5</td>\n",
              "      <td>46.5</td>\n",
              "      <td>15.0</td>\n",
              "      <td>15.0</td>\n",
              "      <td>76.5</td>\n",
              "      <td>69.0</td>\n",
              "      <td>79.5</td>\n",
              "      <td>225.0</td>\n",
              "    </tr>\n",
              "    <tr>\n",
              "      <th>9.0</th>\n",
              "      <td>11.0</td>\n",
              "      <td>17.0</td>\n",
              "      <td>15.5</td>\n",
              "      <td>20.0</td>\n",
              "      <td>52.5</td>\n",
              "      <td>15.0</td>\n",
              "      <td>12.0</td>\n",
              "      <td>79.5</td>\n",
              "      <td>49.0</td>\n",
              "      <td>67.0</td>\n",
              "      <td>195.5</td>\n",
              "    </tr>\n",
              "    <tr>\n",
              "      <th>10.0</th>\n",
              "      <td>8.0</td>\n",
              "      <td>15.0</td>\n",
              "      <td>14.0</td>\n",
              "      <td>8.0</td>\n",
              "      <td>37.0</td>\n",
              "      <td>15.0</td>\n",
              "      <td>15.0</td>\n",
              "      <td>67.0</td>\n",
              "      <td>26.0</td>\n",
              "      <td>38.5</td>\n",
              "      <td>131.5</td>\n",
              "    </tr>\n",
              "    <tr>\n",
              "      <th>11.0</th>\n",
              "      <td>11.5</td>\n",
              "      <td>14.5</td>\n",
              "      <td>7.0</td>\n",
              "      <td>14.5</td>\n",
              "      <td>40.5</td>\n",
              "      <td>15.0</td>\n",
              "      <td>13.5</td>\n",
              "      <td>69.0</td>\n",
              "      <td>40.0</td>\n",
              "      <td>41.0</td>\n",
              "      <td>150.0</td>\n",
              "    </tr>\n",
              "    <tr>\n",
              "      <th>12.0</th>\n",
              "      <td>7.5</td>\n",
              "      <td>13.0</td>\n",
              "      <td>18.0</td>\n",
              "      <td>7.5</td>\n",
              "      <td>38.5</td>\n",
              "      <td>15.0</td>\n",
              "      <td>13.5</td>\n",
              "      <td>67.0</td>\n",
              "      <td>51.0</td>\n",
              "      <td>45.0</td>\n",
              "      <td>163.0</td>\n",
              "    </tr>\n",
              "    <tr>\n",
              "      <th>13.0</th>\n",
              "      <td>12.5</td>\n",
              "      <td>20.0</td>\n",
              "      <td>11.0</td>\n",
              "      <td>0.0</td>\n",
              "      <td>43.5</td>\n",
              "      <td>15.0</td>\n",
              "      <td>15.0</td>\n",
              "      <td>73.5</td>\n",
              "      <td>48.0</td>\n",
              "      <td>59.5</td>\n",
              "      <td>181.0</td>\n",
              "    </tr>\n",
              "    <tr>\n",
              "      <th>14.0</th>\n",
              "      <td>7.5</td>\n",
              "      <td>11.5</td>\n",
              "      <td>17.0</td>\n",
              "      <td>8.5</td>\n",
              "      <td>37.0</td>\n",
              "      <td>15.0</td>\n",
              "      <td>13.5</td>\n",
              "      <td>65.5</td>\n",
              "      <td>42.0</td>\n",
              "      <td>23.5</td>\n",
              "      <td>131.0</td>\n",
              "    </tr>\n",
              "    <tr>\n",
              "      <th>15.0</th>\n",
              "      <td>7.5</td>\n",
              "      <td>15.5</td>\n",
              "      <td>15.0</td>\n",
              "      <td>14.5</td>\n",
              "      <td>45.0</td>\n",
              "      <td>15.0</td>\n",
              "      <td>13.5</td>\n",
              "      <td>73.5</td>\n",
              "      <td>43.0</td>\n",
              "      <td>64.0</td>\n",
              "      <td>180.5</td>\n",
              "    </tr>\n",
              "    <tr>\n",
              "      <th>16.0</th>\n",
              "      <td>1.0</td>\n",
              "      <td>10.0</td>\n",
              "      <td>7.5</td>\n",
              "      <td>0.0</td>\n",
              "      <td>18.5</td>\n",
              "      <td>15.0</td>\n",
              "      <td>13.5</td>\n",
              "      <td>47.0</td>\n",
              "      <td>3.0</td>\n",
              "      <td>2.0</td>\n",
              "      <td>52.0</td>\n",
              "    </tr>\n",
              "    <tr>\n",
              "      <th>NaN</th>\n",
              "      <td>NaN</td>\n",
              "      <td>NaN</td>\n",
              "      <td>NaN</td>\n",
              "      <td>NaN</td>\n",
              "      <td>NaN</td>\n",
              "      <td>NaN</td>\n",
              "      <td>NaN</td>\n",
              "      <td>NaN</td>\n",
              "      <td>NaN</td>\n",
              "      <td>NaN</td>\n",
              "      <td>NaN</td>\n",
              "    </tr>\n",
              "    <tr>\n",
              "      <th>NaN</th>\n",
              "      <td>NaN</td>\n",
              "      <td>NaN</td>\n",
              "      <td>NaN</td>\n",
              "      <td>NaN</td>\n",
              "      <td>NaN</td>\n",
              "      <td>NaN</td>\n",
              "      <td>NaN</td>\n",
              "      <td>NaN</td>\n",
              "      <td>NaN</td>\n",
              "      <td>NaN</td>\n",
              "      <td>NaN</td>\n",
              "    </tr>\n",
              "    <tr>\n",
              "      <th>20.0</th>\n",
              "      <td>9.5</td>\n",
              "      <td>18.0</td>\n",
              "      <td>12.0</td>\n",
              "      <td>6.5</td>\n",
              "      <td>39.5</td>\n",
              "      <td>15.0</td>\n",
              "      <td>15.0</td>\n",
              "      <td>69.5</td>\n",
              "      <td>22.0</td>\n",
              "      <td>25.5</td>\n",
              "      <td>117.0</td>\n",
              "    </tr>\n",
              "    <tr>\n",
              "      <th>21.0</th>\n",
              "      <td>14.5</td>\n",
              "      <td>12.0</td>\n",
              "      <td>19.0</td>\n",
              "      <td>17.0</td>\n",
              "      <td>50.5</td>\n",
              "      <td>15.0</td>\n",
              "      <td>13.5</td>\n",
              "      <td>79.0</td>\n",
              "      <td>18.0</td>\n",
              "      <td>47.0</td>\n",
              "      <td>144.0</td>\n",
              "    </tr>\n",
              "    <tr>\n",
              "      <th>22.0</th>\n",
              "      <td>7.0</td>\n",
              "      <td>14.5</td>\n",
              "      <td>16.0</td>\n",
              "      <td>19.5</td>\n",
              "      <td>50.0</td>\n",
              "      <td>15.0</td>\n",
              "      <td>15.0</td>\n",
              "      <td>80.0</td>\n",
              "      <td>39.0</td>\n",
              "      <td>55.5</td>\n",
              "      <td>174.5</td>\n",
              "    </tr>\n",
              "    <tr>\n",
              "      <th>23.0</th>\n",
              "      <td>5.0</td>\n",
              "      <td>14.0</td>\n",
              "      <td>18.0</td>\n",
              "      <td>14.5</td>\n",
              "      <td>46.5</td>\n",
              "      <td>15.0</td>\n",
              "      <td>12.0</td>\n",
              "      <td>73.5</td>\n",
              "      <td>49.0</td>\n",
              "      <td>79.5</td>\n",
              "      <td>202.0</td>\n",
              "    </tr>\n",
              "    <tr>\n",
              "      <th>24.0</th>\n",
              "      <td>0.0</td>\n",
              "      <td>16.0</td>\n",
              "      <td>13.0</td>\n",
              "      <td>14.5</td>\n",
              "      <td>43.5</td>\n",
              "      <td>13.5</td>\n",
              "      <td>13.5</td>\n",
              "      <td>70.5</td>\n",
              "      <td>41.0</td>\n",
              "      <td>67.0</td>\n",
              "      <td>178.5</td>\n",
              "    </tr>\n",
              "    <tr>\n",
              "      <th>25.0</th>\n",
              "      <td>13.0</td>\n",
              "      <td>15.0</td>\n",
              "      <td>14.0</td>\n",
              "      <td>15.5</td>\n",
              "      <td>44.5</td>\n",
              "      <td>15.0</td>\n",
              "      <td>15.0</td>\n",
              "      <td>74.5</td>\n",
              "      <td>53.0</td>\n",
              "      <td>30.0</td>\n",
              "      <td>157.5</td>\n",
              "    </tr>\n",
              "    <tr>\n",
              "      <th>26.0</th>\n",
              "      <td>13.5</td>\n",
              "      <td>15.0</td>\n",
              "      <td>15.0</td>\n",
              "      <td>0.0</td>\n",
              "      <td>43.5</td>\n",
              "      <td>15.0</td>\n",
              "      <td>12.0</td>\n",
              "      <td>70.5</td>\n",
              "      <td>18.0</td>\n",
              "      <td>71.0</td>\n",
              "      <td>159.5</td>\n",
              "    </tr>\n",
              "    <tr>\n",
              "      <th>27.0</th>\n",
              "      <td>12.5</td>\n",
              "      <td>18.0</td>\n",
              "      <td>12.0</td>\n",
              "      <td>7.0</td>\n",
              "      <td>42.5</td>\n",
              "      <td>15.0</td>\n",
              "      <td>15.0</td>\n",
              "      <td>72.5</td>\n",
              "      <td>9.0</td>\n",
              "      <td>18.5</td>\n",
              "      <td>100.0</td>\n",
              "    </tr>\n",
              "    <tr>\n",
              "      <th>28.0</th>\n",
              "      <td>13.5</td>\n",
              "      <td>12.0</td>\n",
              "      <td>11.5</td>\n",
              "      <td>9.0</td>\n",
              "      <td>37.0</td>\n",
              "      <td>15.0</td>\n",
              "      <td>13.5</td>\n",
              "      <td>65.5</td>\n",
              "      <td>28.0</td>\n",
              "      <td>31.5</td>\n",
              "      <td>125.0</td>\n",
              "    </tr>\n",
              "    <tr>\n",
              "      <th>29.0</th>\n",
              "      <td>0.0</td>\n",
              "      <td>16.0</td>\n",
              "      <td>14.0</td>\n",
              "      <td>8.0</td>\n",
              "      <td>38.0</td>\n",
              "      <td>15.0</td>\n",
              "      <td>14.0</td>\n",
              "      <td>67.0</td>\n",
              "      <td>25.0</td>\n",
              "      <td>71.5</td>\n",
              "      <td>163.5</td>\n",
              "    </tr>\n",
              "    <tr>\n",
              "      <th>30.0</th>\n",
              "      <td>10.0</td>\n",
              "      <td>12.0</td>\n",
              "      <td>7.0</td>\n",
              "      <td>0.0</td>\n",
              "      <td>29.0</td>\n",
              "      <td>15.0</td>\n",
              "      <td>13.5</td>\n",
              "      <td>57.5</td>\n",
              "      <td>31.0</td>\n",
              "      <td>55.0</td>\n",
              "      <td>143.5</td>\n",
              "    </tr>\n",
              "    <tr>\n",
              "      <th>31.0</th>\n",
              "      <td>6.0</td>\n",
              "      <td>12.0</td>\n",
              "      <td>10.5</td>\n",
              "      <td>10.5</td>\n",
              "      <td>33.0</td>\n",
              "      <td>15.0</td>\n",
              "      <td>13.5</td>\n",
              "      <td>61.5</td>\n",
              "      <td>41.0</td>\n",
              "      <td>85.0</td>\n",
              "      <td>187.5</td>\n",
              "    </tr>\n",
              "    <tr>\n",
              "      <th>32.0</th>\n",
              "      <td>12.0</td>\n",
              "      <td>12.0</td>\n",
              "      <td>14.0</td>\n",
              "      <td>0.0</td>\n",
              "      <td>38.0</td>\n",
              "      <td>15.0</td>\n",
              "      <td>10.5</td>\n",
              "      <td>63.5</td>\n",
              "      <td>51.0</td>\n",
              "      <td>50.0</td>\n",
              "      <td>164.5</td>\n",
              "    </tr>\n",
              "    <tr>\n",
              "      <th>33.0</th>\n",
              "      <td>14.0</td>\n",
              "      <td>15.5</td>\n",
              "      <td>8.0</td>\n",
              "      <td>9.5</td>\n",
              "      <td>39.0</td>\n",
              "      <td>15.0</td>\n",
              "      <td>15.0</td>\n",
              "      <td>69.0</td>\n",
              "      <td>29.0</td>\n",
              "      <td>82.5</td>\n",
              "      <td>180.5</td>\n",
              "    </tr>\n",
              "    <tr>\n",
              "      <th>34.0</th>\n",
              "      <td>12.0</td>\n",
              "      <td>15.0</td>\n",
              "      <td>10.0</td>\n",
              "      <td>15.0</td>\n",
              "      <td>42.0</td>\n",
              "      <td>15.0</td>\n",
              "      <td>13.5</td>\n",
              "      <td>70.5</td>\n",
              "      <td>26.0</td>\n",
              "      <td>31.0</td>\n",
              "      <td>127.5</td>\n",
              "    </tr>\n",
              "    <tr>\n",
              "      <th>NaN</th>\n",
              "      <td>NaN</td>\n",
              "      <td>NaN</td>\n",
              "      <td>NaN</td>\n",
              "      <td>NaN</td>\n",
              "      <td>NaN</td>\n",
              "      <td>NaN</td>\n",
              "      <td>NaN</td>\n",
              "      <td>NaN</td>\n",
              "      <td>NaN</td>\n",
              "      <td>NaN</td>\n",
              "      <td>NaN</td>\n",
              "    </tr>\n",
              "    <tr>\n",
              "      <th>NaN</th>\n",
              "      <td>NaN</td>\n",
              "      <td>NaN</td>\n",
              "      <td>NaN</td>\n",
              "      <td>NaN</td>\n",
              "      <td>NaN</td>\n",
              "      <td>NaN</td>\n",
              "      <td>NaN</td>\n",
              "      <td>NaN</td>\n",
              "      <td>NaN</td>\n",
              "      <td>NaN</td>\n",
              "      <td>NaN</td>\n",
              "    </tr>\n",
              "    <tr>\n",
              "      <th>38.0</th>\n",
              "      <td>13.0</td>\n",
              "      <td>17.5</td>\n",
              "      <td>15.5</td>\n",
              "      <td>17.5</td>\n",
              "      <td>50.5</td>\n",
              "      <td>15.0</td>\n",
              "      <td>13.5</td>\n",
              "      <td>79.0</td>\n",
              "      <td>30.0</td>\n",
              "      <td>67.0</td>\n",
              "      <td>176.0</td>\n",
              "    </tr>\n",
              "    <tr>\n",
              "      <th>39.0</th>\n",
              "      <td>12.5</td>\n",
              "      <td>11.0</td>\n",
              "      <td>17.0</td>\n",
              "      <td>0.0</td>\n",
              "      <td>40.5</td>\n",
              "      <td>15.0</td>\n",
              "      <td>10.5</td>\n",
              "      <td>66.0</td>\n",
              "      <td>30.0</td>\n",
              "      <td>64.0</td>\n",
              "      <td>160.0</td>\n",
              "    </tr>\n",
              "    <tr>\n",
              "      <th>40.0</th>\n",
              "      <td>20.0</td>\n",
              "      <td>15.5</td>\n",
              "      <td>10.5</td>\n",
              "      <td>6.5</td>\n",
              "      <td>46.0</td>\n",
              "      <td>15.0</td>\n",
              "      <td>15.0</td>\n",
              "      <td>76.0</td>\n",
              "      <td>12.0</td>\n",
              "      <td>59.0</td>\n",
              "      <td>147.0</td>\n",
              "    </tr>\n",
              "    <tr>\n",
              "      <th>41.0</th>\n",
              "      <td>9.0</td>\n",
              "      <td>20.0</td>\n",
              "      <td>8.0</td>\n",
              "      <td>15.0</td>\n",
              "      <td>44.0</td>\n",
              "      <td>15.0</td>\n",
              "      <td>15.0</td>\n",
              "      <td>74.0</td>\n",
              "      <td>89.0</td>\n",
              "      <td>81.0</td>\n",
              "      <td>244.0</td>\n",
              "    </tr>\n",
              "    <tr>\n",
              "      <th>42.0</th>\n",
              "      <td>17.5</td>\n",
              "      <td>17.0</td>\n",
              "      <td>18.0</td>\n",
              "      <td>13.5</td>\n",
              "      <td>52.5</td>\n",
              "      <td>15.0</td>\n",
              "      <td>13.5</td>\n",
              "      <td>81.0</td>\n",
              "      <td>30.0</td>\n",
              "      <td>66.0</td>\n",
              "      <td>177.0</td>\n",
              "    </tr>\n",
              "    <tr>\n",
              "      <th>43.0</th>\n",
              "      <td>12.0</td>\n",
              "      <td>13.0</td>\n",
              "      <td>19.0</td>\n",
              "      <td>16.0</td>\n",
              "      <td>48.0</td>\n",
              "      <td>15.0</td>\n",
              "      <td>13.5</td>\n",
              "      <td>76.5</td>\n",
              "      <td>10.0</td>\n",
              "      <td>43.0</td>\n",
              "      <td>129.5</td>\n",
              "    </tr>\n",
              "    <tr>\n",
              "      <th>44.0</th>\n",
              "      <td>11.0</td>\n",
              "      <td>20.0</td>\n",
              "      <td>10.0</td>\n",
              "      <td>17.5</td>\n",
              "      <td>48.5</td>\n",
              "      <td>15.0</td>\n",
              "      <td>13.5</td>\n",
              "      <td>77.0</td>\n",
              "      <td>49.0</td>\n",
              "      <td>93.0</td>\n",
              "      <td>219.0</td>\n",
              "    </tr>\n",
              "    <tr>\n",
              "      <th>45.0</th>\n",
              "      <td>12.0</td>\n",
              "      <td>16.5</td>\n",
              "      <td>20.0</td>\n",
              "      <td>16.5</td>\n",
              "      <td>53.0</td>\n",
              "      <td>15.0</td>\n",
              "      <td>13.5</td>\n",
              "      <td>81.5</td>\n",
              "      <td>31.0</td>\n",
              "      <td>47.0</td>\n",
              "      <td>159.5</td>\n",
              "    </tr>\n",
              "    <tr>\n",
              "      <th>46.0</th>\n",
              "      <td>15.0</td>\n",
              "      <td>15.0</td>\n",
              "      <td>14.0</td>\n",
              "      <td>7.5</td>\n",
              "      <td>44.0</td>\n",
              "      <td>15.0</td>\n",
              "      <td>12.0</td>\n",
              "      <td>71.0</td>\n",
              "      <td>48.0</td>\n",
              "      <td>64.0</td>\n",
              "      <td>183.0</td>\n",
              "    </tr>\n",
              "    <tr>\n",
              "      <th>47.0</th>\n",
              "      <td>16.0</td>\n",
              "      <td>15.5</td>\n",
              "      <td>15.0</td>\n",
              "      <td>0.0</td>\n",
              "      <td>46.5</td>\n",
              "      <td>10.5</td>\n",
              "      <td>13.5</td>\n",
              "      <td>70.5</td>\n",
              "      <td>9.0</td>\n",
              "      <td>57.0</td>\n",
              "      <td>136.5</td>\n",
              "    </tr>\n",
              "    <tr>\n",
              "      <th>48.0</th>\n",
              "      <td>15.5</td>\n",
              "      <td>20.0</td>\n",
              "      <td>18.0</td>\n",
              "      <td>6.5</td>\n",
              "      <td>53.5</td>\n",
              "      <td>15.0</td>\n",
              "      <td>13.5</td>\n",
              "      <td>82.0</td>\n",
              "      <td>38.0</td>\n",
              "      <td>60.0</td>\n",
              "      <td>180.0</td>\n",
              "    </tr>\n",
              "    <tr>\n",
              "      <th>49.0</th>\n",
              "      <td>10.5</td>\n",
              "      <td>14.0</td>\n",
              "      <td>19.0</td>\n",
              "      <td>0.0</td>\n",
              "      <td>43.5</td>\n",
              "      <td>15.0</td>\n",
              "      <td>15.0</td>\n",
              "      <td>73.5</td>\n",
              "      <td>22.0</td>\n",
              "      <td>38.0</td>\n",
              "      <td>133.5</td>\n",
              "    </tr>\n",
              "    <tr>\n",
              "      <th>50.0</th>\n",
              "      <td>10.0</td>\n",
              "      <td>17.5</td>\n",
              "      <td>16.0</td>\n",
              "      <td>0.0</td>\n",
              "      <td>43.5</td>\n",
              "      <td>15.0</td>\n",
              "      <td>12.0</td>\n",
              "      <td>70.5</td>\n",
              "      <td>40.0</td>\n",
              "      <td>78.0</td>\n",
              "      <td>188.5</td>\n",
              "    </tr>\n",
              "    <tr>\n",
              "      <th>51.0</th>\n",
              "      <td>5.0</td>\n",
              "      <td>12.0</td>\n",
              "      <td>13.0</td>\n",
              "      <td>9.5</td>\n",
              "      <td>34.5</td>\n",
              "      <td>13.5</td>\n",
              "      <td>13.5</td>\n",
              "      <td>61.5</td>\n",
              "      <td>37.0</td>\n",
              "      <td>76.5</td>\n",
              "      <td>175.0</td>\n",
              "    </tr>\n",
              "    <tr>\n",
              "      <th>52.0</th>\n",
              "      <td>12.5</td>\n",
              "      <td>18.0</td>\n",
              "      <td>15.0</td>\n",
              "      <td>11.0</td>\n",
              "      <td>45.5</td>\n",
              "      <td>15.0</td>\n",
              "      <td>15.0</td>\n",
              "      <td>75.5</td>\n",
              "      <td>60.0</td>\n",
              "      <td>97.0</td>\n",
              "      <td>232.5</td>\n",
              "    </tr>\n",
              "    <tr>\n",
              "      <th>NaN</th>\n",
              "      <td>NaN</td>\n",
              "      <td>NaN</td>\n",
              "      <td>NaN</td>\n",
              "      <td>NaN</td>\n",
              "      <td>NaN</td>\n",
              "      <td>NaN</td>\n",
              "      <td>NaN</td>\n",
              "      <td>NaN</td>\n",
              "      <td>NaN</td>\n",
              "      <td>NaN</td>\n",
              "      <td>NaN</td>\n",
              "    </tr>\n",
              "    <tr>\n",
              "      <th>NaN</th>\n",
              "      <td>NaN</td>\n",
              "      <td>NaN</td>\n",
              "      <td>NaN</td>\n",
              "      <td>NaN</td>\n",
              "      <td>NaN</td>\n",
              "      <td>NaN</td>\n",
              "      <td>NaN</td>\n",
              "      <td>NaN</td>\n",
              "      <td>NaN</td>\n",
              "      <td>NaN</td>\n",
              "      <td>NaN</td>\n",
              "    </tr>\n",
              "    <tr>\n",
              "      <th>56.0</th>\n",
              "      <td>8.0</td>\n",
              "      <td>19.0</td>\n",
              "      <td>14.0</td>\n",
              "      <td>12.0</td>\n",
              "      <td>45.0</td>\n",
              "      <td>15.0</td>\n",
              "      <td>13.5</td>\n",
              "      <td>73.5</td>\n",
              "      <td>39.0</td>\n",
              "      <td>37.0</td>\n",
              "      <td>149.5</td>\n",
              "    </tr>\n",
              "    <tr>\n",
              "      <th>57.0</th>\n",
              "      <td>17.5</td>\n",
              "      <td>19.0</td>\n",
              "      <td>15.5</td>\n",
              "      <td>3.0</td>\n",
              "      <td>52.0</td>\n",
              "      <td>15.0</td>\n",
              "      <td>15.0</td>\n",
              "      <td>82.0</td>\n",
              "      <td>56.0</td>\n",
              "      <td>79.5</td>\n",
              "      <td>217.5</td>\n",
              "    </tr>\n",
              "    <tr>\n",
              "      <th>58.0</th>\n",
              "      <td>10.0</td>\n",
              "      <td>15.0</td>\n",
              "      <td>14.5</td>\n",
              "      <td>8.5</td>\n",
              "      <td>39.5</td>\n",
              "      <td>15.0</td>\n",
              "      <td>15.0</td>\n",
              "      <td>69.5</td>\n",
              "      <td>18.0</td>\n",
              "      <td>73.0</td>\n",
              "      <td>160.5</td>\n",
              "    </tr>\n",
              "    <tr>\n",
              "      <th>59.0</th>\n",
              "      <td>19.0</td>\n",
              "      <td>20.0</td>\n",
              "      <td>15.5</td>\n",
              "      <td>15.5</td>\n",
              "      <td>54.5</td>\n",
              "      <td>15.0</td>\n",
              "      <td>15.0</td>\n",
              "      <td>84.5</td>\n",
              "      <td>34.0</td>\n",
              "      <td>73.0</td>\n",
              "      <td>191.5</td>\n",
              "    </tr>\n",
              "    <tr>\n",
              "      <th>60.0</th>\n",
              "      <td>12.0</td>\n",
              "      <td>20.0</td>\n",
              "      <td>14.0</td>\n",
              "      <td>18.0</td>\n",
              "      <td>52.0</td>\n",
              "      <td>15.0</td>\n",
              "      <td>13.5</td>\n",
              "      <td>80.5</td>\n",
              "      <td>51.0</td>\n",
              "      <td>66.0</td>\n",
              "      <td>197.5</td>\n",
              "    </tr>\n",
              "    <tr>\n",
              "      <th>61.0</th>\n",
              "      <td>19.5</td>\n",
              "      <td>17.5</td>\n",
              "      <td>17.0</td>\n",
              "      <td>0.0</td>\n",
              "      <td>54.0</td>\n",
              "      <td>15.0</td>\n",
              "      <td>15.0</td>\n",
              "      <td>84.0</td>\n",
              "      <td>32.0</td>\n",
              "      <td>84.0</td>\n",
              "      <td>200.0</td>\n",
              "    </tr>\n",
              "    <tr>\n",
              "      <th>62.0</th>\n",
              "      <td>0.0</td>\n",
              "      <td>4.0</td>\n",
              "      <td>13.0</td>\n",
              "      <td>12.5</td>\n",
              "      <td>29.5</td>\n",
              "      <td>15.0</td>\n",
              "      <td>12.5</td>\n",
              "      <td>57.0</td>\n",
              "      <td>50.0</td>\n",
              "      <td>77.5</td>\n",
              "      <td>184.5</td>\n",
              "    </tr>\n",
              "    <tr>\n",
              "      <th>63.0</th>\n",
              "      <td>0.0</td>\n",
              "      <td>4.0</td>\n",
              "      <td>16.0</td>\n",
              "      <td>7.5</td>\n",
              "      <td>27.5</td>\n",
              "      <td>13.5</td>\n",
              "      <td>12.5</td>\n",
              "      <td>53.5</td>\n",
              "      <td>16.0</td>\n",
              "      <td>39.0</td>\n",
              "      <td>108.5</td>\n",
              "    </tr>\n",
              "    <tr>\n",
              "      <th>64.0</th>\n",
              "      <td>18.0</td>\n",
              "      <td>16.5</td>\n",
              "      <td>0.0</td>\n",
              "      <td>15.0</td>\n",
              "      <td>49.5</td>\n",
              "      <td>13.5</td>\n",
              "      <td>13.5</td>\n",
              "      <td>76.5</td>\n",
              "      <td>12.0</td>\n",
              "      <td>45.0</td>\n",
              "      <td>133.5</td>\n",
              "    </tr>\n",
              "  </tbody>\n",
              "</table>\n",
              "</div>"
            ],
            "text/plain": [
              "      CT-1 (Marks: 20)  CT-2 (Marks: 20)  ...  Exam Mark (105).1  Mark total 300\n",
              "Roll                                      ...                                   \n",
              "2.0               12.5              15.0  ...               46.5           167.0\n",
              "3.0                9.0              10.0  ...               44.0           138.5\n",
              "4.0               10.0              15.5  ...               43.0           136.0\n",
              "5.0               14.0              14.0  ...               44.0           166.0\n",
              "6.0               14.5              15.5  ...               74.5           176.5\n",
              "7.0               13.5              13.0  ...               70.0           225.0\n",
              "8.0               14.0              16.0  ...               79.5           225.0\n",
              "9.0               11.0              17.0  ...               67.0           195.5\n",
              "10.0               8.0              15.0  ...               38.5           131.5\n",
              "11.0              11.5              14.5  ...               41.0           150.0\n",
              "12.0               7.5              13.0  ...               45.0           163.0\n",
              "13.0              12.5              20.0  ...               59.5           181.0\n",
              "14.0               7.5              11.5  ...               23.5           131.0\n",
              "15.0               7.5              15.5  ...               64.0           180.5\n",
              "16.0               1.0              10.0  ...                2.0            52.0\n",
              "NaN                NaN               NaN  ...                NaN             NaN\n",
              "NaN                NaN               NaN  ...                NaN             NaN\n",
              "20.0               9.5              18.0  ...               25.5           117.0\n",
              "21.0              14.5              12.0  ...               47.0           144.0\n",
              "22.0               7.0              14.5  ...               55.5           174.5\n",
              "23.0               5.0              14.0  ...               79.5           202.0\n",
              "24.0               0.0              16.0  ...               67.0           178.5\n",
              "25.0              13.0              15.0  ...               30.0           157.5\n",
              "26.0              13.5              15.0  ...               71.0           159.5\n",
              "27.0              12.5              18.0  ...               18.5           100.0\n",
              "28.0              13.5              12.0  ...               31.5           125.0\n",
              "29.0               0.0              16.0  ...               71.5           163.5\n",
              "30.0              10.0              12.0  ...               55.0           143.5\n",
              "31.0               6.0              12.0  ...               85.0           187.5\n",
              "32.0              12.0              12.0  ...               50.0           164.5\n",
              "33.0              14.0              15.5  ...               82.5           180.5\n",
              "34.0              12.0              15.0  ...               31.0           127.5\n",
              "NaN                NaN               NaN  ...                NaN             NaN\n",
              "NaN                NaN               NaN  ...                NaN             NaN\n",
              "38.0              13.0              17.5  ...               67.0           176.0\n",
              "39.0              12.5              11.0  ...               64.0           160.0\n",
              "40.0              20.0              15.5  ...               59.0           147.0\n",
              "41.0               9.0              20.0  ...               81.0           244.0\n",
              "42.0              17.5              17.0  ...               66.0           177.0\n",
              "43.0              12.0              13.0  ...               43.0           129.5\n",
              "44.0              11.0              20.0  ...               93.0           219.0\n",
              "45.0              12.0              16.5  ...               47.0           159.5\n",
              "46.0              15.0              15.0  ...               64.0           183.0\n",
              "47.0              16.0              15.5  ...               57.0           136.5\n",
              "48.0              15.5              20.0  ...               60.0           180.0\n",
              "49.0              10.5              14.0  ...               38.0           133.5\n",
              "50.0              10.0              17.5  ...               78.0           188.5\n",
              "51.0               5.0              12.0  ...               76.5           175.0\n",
              "52.0              12.5              18.0  ...               97.0           232.5\n",
              "NaN                NaN               NaN  ...                NaN             NaN\n",
              "NaN                NaN               NaN  ...                NaN             NaN\n",
              "56.0               8.0              19.0  ...               37.0           149.5\n",
              "57.0              17.5              19.0  ...               79.5           217.5\n",
              "58.0              10.0              15.0  ...               73.0           160.5\n",
              "59.0              19.0              20.0  ...               73.0           191.5\n",
              "60.0              12.0              20.0  ...               66.0           197.5\n",
              "61.0              19.5              17.5  ...               84.0           200.0\n",
              "62.0               0.0               4.0  ...               77.5           184.5\n",
              "63.0               0.0               4.0  ...               39.0           108.5\n",
              "64.0              18.0              16.5  ...               45.0           133.5\n",
              "\n",
              "[60 rows x 11 columns]"
            ]
          },
          "metadata": {
            "tags": []
          },
          "execution_count": 70
        }
      ]
    },
    {
      "cell_type": "markdown",
      "metadata": {
        "id": "30-SWEQFtwFZ",
        "colab_type": "text"
      },
      "source": [
        "**GROUPING DATA BASED ON ATTENDANCE**"
      ]
    },
    {
      "cell_type": "code",
      "metadata": {
        "id": "c0T-028de95u",
        "colab_type": "code",
        "outputId": "bade7c79-9b92-4835-fee3-6eb74ac97da3",
        "colab": {
          "base_uri": "https://localhost:8080/",
          "height": 87
        }
      },
      "source": [
        "dataset['Attendance (Marks: 15)'].value_counts()\n"
      ],
      "execution_count": 0,
      "outputs": [
        {
          "output_type": "execute_result",
          "data": {
            "text/plain": [
              "15.0    49\n",
              "13.5     4\n",
              "10.5     1\n",
              "Name: Attendance (Marks: 15), dtype: int64"
            ]
          },
          "metadata": {
            "tags": []
          },
          "execution_count": 54
        }
      ]
    },
    {
      "cell_type": "code",
      "metadata": {
        "id": "nVQxZR_ue-5j",
        "colab_type": "code",
        "colab": {}
      },
      "source": [
        "grp=dataset.groupby(['Attendance (Marks: 15)'])"
      ],
      "execution_count": 0,
      "outputs": []
    },
    {
      "cell_type": "code",
      "metadata": {
        "id": "ICoGJumGgm2-",
        "colab_type": "code",
        "outputId": "812f179e-9619-4cda-e744-c801a579a5f0",
        "colab": {
          "base_uri": "https://localhost:8080/",
          "height": 104
        }
      },
      "source": [
        "import numpy as np\n",
        "grp['CT-1 (Marks: 20)'].agg(np.mean)"
      ],
      "execution_count": 0,
      "outputs": [
        {
          "output_type": "execute_result",
          "data": {
            "text/plain": [
              "Attendance (Marks: 15)\n",
              "10.5    16.000000\n",
              "13.5     5.750000\n",
              "15.0    11.285714\n",
              "Name: CT-1 (Marks: 20), dtype: float64"
            ]
          },
          "metadata": {
            "tags": []
          },
          "execution_count": 56
        }
      ]
    },
    {
      "cell_type": "markdown",
      "metadata": {
        "id": "EK9VskZJ7ZDw",
        "colab_type": "text"
      },
      "source": [
        "\n",
        "####Observation 1\n",
        "Student with attendance=10.5 has high mean value"
      ]
    },
    {
      "cell_type": "code",
      "metadata": {
        "id": "Y5p83DKEmTEY",
        "colab_type": "code",
        "outputId": "7acb63d9-f974-4bf9-d1f8-538a83d4f218",
        "colab": {
          "base_uri": "https://localhost:8080/",
          "height": 104
        }
      },
      "source": [
        "import numpy as np\n",
        "grp['CT-2 (Marks: 20)'].agg(np.mean)"
      ],
      "execution_count": 0,
      "outputs": [
        {
          "output_type": "execute_result",
          "data": {
            "text/plain": [
              "Attendance (Marks: 15)\n",
              "10.5    15.50000\n",
              "13.5    12.12500\n",
              "15.0    15.22449\n",
              "Name: CT-2 (Marks: 20), dtype: float64"
            ]
          },
          "metadata": {
            "tags": []
          },
          "execution_count": 57
        }
      ]
    },
    {
      "cell_type": "code",
      "metadata": {
        "id": "b2w5nD87mp-2",
        "colab_type": "code",
        "outputId": "4851e27b-05fc-46e6-f757-dd778b9b8a1d",
        "colab": {
          "base_uri": "https://localhost:8080/",
          "height": 104
        }
      },
      "source": [
        "import numpy as np\n",
        "grp['CT-3 (Marks: 20)'].agg(np.mean)"
      ],
      "execution_count": 0,
      "outputs": [
        {
          "output_type": "execute_result",
          "data": {
            "text/plain": [
              "Attendance (Marks: 15)\n",
              "10.5    15.000000\n",
              "13.5    10.500000\n",
              "15.0    14.244898\n",
              "Name: CT-3 (Marks: 20), dtype: float64"
            ]
          },
          "metadata": {
            "tags": []
          },
          "execution_count": 58
        }
      ]
    },
    {
      "cell_type": "code",
      "metadata": {
        "id": "KWgRLQvjm09s",
        "colab_type": "code",
        "outputId": "281f9b62-3aee-4dc2-c115-24c5efb71fc5",
        "colab": {
          "base_uri": "https://localhost:8080/",
          "height": 104
        }
      },
      "source": [
        "import numpy as np\n",
        "grp['CT-4 (Marks: 20)'].agg(np.mean)"
      ],
      "execution_count": 0,
      "outputs": [
        {
          "output_type": "execute_result",
          "data": {
            "text/plain": [
              "Attendance (Marks: 15)\n",
              "10.5     0.000000\n",
              "13.5    11.625000\n",
              "15.0     9.918367\n",
              "Name: CT-4 (Marks: 20), dtype: float64"
            ]
          },
          "metadata": {
            "tags": []
          },
          "execution_count": 59
        }
      ]
    },
    {
      "cell_type": "code",
      "metadata": {
        "id": "B_kAb9MTnZX2",
        "colab_type": "code",
        "outputId": "1fc149fa-7090-4c96-9dfd-92b26873b472",
        "colab": {
          "base_uri": "https://localhost:8080/",
          "height": 104
        }
      },
      "source": [
        "import numpy as np\n",
        "grp['Mark total 300'].agg(np.mean)\n",
        "\n"
      ],
      "execution_count": 0,
      "outputs": [
        {
          "output_type": "execute_result",
          "data": {
            "text/plain": [
              "Attendance (Marks: 15)\n",
              "10.5    136.500000\n",
              "13.5    148.875000\n",
              "15.0    167.255102\n",
              "Name: Mark total 300, dtype: float64"
            ]
          },
          "metadata": {
            "tags": []
          },
          "execution_count": 60
        }
      ]
    },
    {
      "cell_type": "code",
      "metadata": {
        "id": "P8xNL2bzrnVl",
        "colab_type": "code",
        "outputId": "6c19368b-c57b-459b-cd88-98021c4ab191",
        "colab": {
          "base_uri": "https://localhost:8080/",
          "height": 104
        }
      },
      "source": [
        "grp['Class Test (Total of best 3, Marks: 60)'].agg(np.mean)\n"
      ],
      "execution_count": 0,
      "outputs": [
        {
          "output_type": "execute_result",
          "data": {
            "text/plain": [
              "Attendance (Marks: 15)\n",
              "10.5    46.500000\n",
              "13.5    38.750000\n",
              "15.0    43.561224\n",
              "Name: Class Test (Total of best 3, Marks: 60), dtype: float64"
            ]
          },
          "metadata": {
            "tags": []
          },
          "execution_count": 61
        }
      ]
    },
    {
      "cell_type": "markdown",
      "metadata": {
        "id": "NR0z8jJKstpw",
        "colab_type": "text"
      },
      "source": [
        "###Observation 2\n",
        "The top four CT means suggest that the guy with attendance marks= 10.5 has been scoring well except for the last test.\n",
        "Hence in conclusion, he might have lost his attendace due to some health issues but he's inherently smart. "
      ]
    },
    {
      "cell_type": "code",
      "metadata": {
        "id": "M6pu8R7SsIKR",
        "colab_type": "code",
        "outputId": "c222a908-0e42-481c-a0f3-557a2fbfdee7",
        "colab": {
          "base_uri": "https://localhost:8080/",
          "height": 104
        }
      },
      "source": [
        "grp['Exam Mark (105)'].agg(np.mean)"
      ],
      "execution_count": 0,
      "outputs": [
        {
          "output_type": "execute_result",
          "data": {
            "text/plain": [
              "Attendance (Marks: 15)\n",
              "10.5     9.000000\n",
              "13.5    26.500000\n",
              "15.0    37.295918\n",
              "Name: Exam Mark (105), dtype: float64"
            ]
          },
          "metadata": {
            "tags": []
          },
          "execution_count": 62
        }
      ]
    },
    {
      "cell_type": "markdown",
      "metadata": {
        "id": "dZhW_x_msPYu",
        "colab_type": "text"
      },
      "source": [
        "###Observation 3\n",
        "High marks here again hints at a possiblity that the person might have been suffereing from some form of illness due to wich he couldnt perfoem well in CT4 and subsequent exams, but eventually fared well in the final test (105.1) "
      ]
    },
    {
      "cell_type": "code",
      "metadata": {
        "id": "7O54Gn8577_a",
        "colab_type": "code",
        "outputId": "d0febc3e-3772-4a81-bf5f-f9d0eb2aeb00",
        "colab": {
          "base_uri": "https://localhost:8080/",
          "height": 313
        }
      },
      "source": [
        "dataset.plot.scatter(x='Mark total 300',y='Attendance (Marks: 15)',title='Total marks vs attendance plot',color='r')"
      ],
      "execution_count": 0,
      "outputs": [
        {
          "output_type": "execute_result",
          "data": {
            "text/plain": [
              "<matplotlib.axes._subplots.AxesSubplot at 0x7f3a2250e860>"
            ]
          },
          "metadata": {
            "tags": []
          },
          "execution_count": 64
        },
        {
          "output_type": "display_data",
          "data": {
            "image/png": "[encoded data removed]",
            "text/plain": [
              "<Figure size 432x288 with 1 Axes>"
            ]
          },
          "metadata": {
            "tags": [],
            "needs_background": "light"
          }
        }
      ]
    },
    {
      "cell_type": "markdown",
      "metadata": {
        "id": "OrbLHci3972L",
        "colab_type": "text"
      },
      "source": [
        "A student with really low attendace has got mean score which is acceptable.\n",
        "But most of the so called nerds with 100% attendance have still failed to score well. So this student is an outliner as he is inherently smart (excedptional character).\n",
        "Therefore, this observation is neglected in training dataset?"
      ]
    },
    {
      "cell_type": "markdown",
      "metadata": {
        "id": "PdBzzlJWABJJ",
        "colab_type": "text"
      },
      "source": [
        "## Conclusions from the scatter plot\n",
        "Students who have scored above 200 marks definely have 100% attenadnce.\n"
      ]
    },
    {
      "cell_type": "markdown",
      "metadata": {
        "id": "8tT6zJOADd49",
        "colab_type": "text"
      },
      "source": [
        "**DATA divided into training set and testing set**"
      ]
    },
    {
      "cell_type": "code",
      "metadata": {
        "id": "_T0Mqa8Z9n0F",
        "colab_type": "code",
        "outputId": "b2f98d0d-552b-46c6-cb9a-bf831adc5b22",
        "colab": {
          "base_uri": "https://localhost:8080/",
          "height": 287
        }
      },
      "source": [
        "train_dataset=dataset[]"
      ],
      "execution_count": 0,
      "outputs": [
        {
          "output_type": "error",
          "ename": "AttributeError",
          "evalue": "ignored",
          "traceback": [
            "\u001b[0;31m---------------------------------------------------------------------------\u001b[0m",
            "\u001b[0;31mAttributeError\u001b[0m                            Traceback (most recent call last)",
            "\u001b[0;32m<ipython-input-65-d62cbe5429fd>\u001b[0m in \u001b[0;36m<module>\u001b[0;34m()\u001b[0m\n\u001b[0;32m----> 1\u001b[0;31m \u001b[0mdataset\u001b[0m\u001b[0;34m[\u001b[0m\u001b[0;34m'Mark total 300'\u001b[0m\u001b[0;34m]\u001b[0m\u001b[0;34m.\u001b[0m\u001b[0minfo\u001b[0m\u001b[0;34m(\u001b[0m\u001b[0;34m)\u001b[0m\u001b[0;34m\u001b[0m\u001b[0;34m\u001b[0m\u001b[0m\n\u001b[0m",
            "\u001b[0;32m/usr/local/lib/python3.6/dist-packages/pandas/core/generic.py\u001b[0m in \u001b[0;36m__getattr__\u001b[0;34m(self, name)\u001b[0m\n\u001b[1;32m   5272\u001b[0m             \u001b[0;32mif\u001b[0m \u001b[0mself\u001b[0m\u001b[0;34m.\u001b[0m\u001b[0m_info_axis\u001b[0m\u001b[0;34m.\u001b[0m\u001b[0m_can_hold_identifiers_and_holds_name\u001b[0m\u001b[0;34m(\u001b[0m\u001b[0mname\u001b[0m\u001b[0;34m)\u001b[0m\u001b[0;34m:\u001b[0m\u001b[0;34m\u001b[0m\u001b[0;34m\u001b[0m\u001b[0m\n\u001b[1;32m   5273\u001b[0m                 \u001b[0;32mreturn\u001b[0m \u001b[0mself\u001b[0m\u001b[0;34m[\u001b[0m\u001b[0mname\u001b[0m\u001b[0;34m]\u001b[0m\u001b[0;34m\u001b[0m\u001b[0;34m\u001b[0m\u001b[0m\n\u001b[0;32m-> 5274\u001b[0;31m             \u001b[0;32mreturn\u001b[0m \u001b[0mobject\u001b[0m\u001b[0;34m.\u001b[0m\u001b[0m__getattribute__\u001b[0m\u001b[0;34m(\u001b[0m\u001b[0mself\u001b[0m\u001b[0;34m,\u001b[0m \u001b[0mname\u001b[0m\u001b[0;34m)\u001b[0m\u001b[0;34m\u001b[0m\u001b[0;34m\u001b[0m\u001b[0m\n\u001b[0m\u001b[1;32m   5275\u001b[0m \u001b[0;34m\u001b[0m\u001b[0m\n\u001b[1;32m   5276\u001b[0m     \u001b[0;32mdef\u001b[0m \u001b[0m__setattr__\u001b[0m\u001b[0;34m(\u001b[0m\u001b[0mself\u001b[0m\u001b[0;34m,\u001b[0m \u001b[0mname\u001b[0m\u001b[0;34m:\u001b[0m \u001b[0mstr\u001b[0m\u001b[0;34m,\u001b[0m \u001b[0mvalue\u001b[0m\u001b[0;34m)\u001b[0m \u001b[0;34m->\u001b[0m \u001b[0;32mNone\u001b[0m\u001b[0;34m:\u001b[0m\u001b[0;34m\u001b[0m\u001b[0;34m\u001b[0m\u001b[0m\n",
            "\u001b[0;31mAttributeError\u001b[0m: 'Series' object has no attribute 'info'"
          ]
        }
      ]
    },
    {
      "cell_type": "markdown",
      "metadata": {
        "id": "gbLnovFHCHLT",
        "colab_type": "text"
      },
      "source": [
        ""
      ]
    },
    {
      "cell_type": "code",
      "metadata": {
        "id": "OFGvhY0n-hgA",
        "colab_type": "code",
        "colab": {}
      },
      "source": [
        ""
      ],
      "execution_count": 0,
      "outputs": []
    }
  ]
}
