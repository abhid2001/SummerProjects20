{
  "nbformat": 4,
  "nbformat_minor": 0,
  "metadata": {
    "colab": {
      "name": "Assignment-1.ipynb",
      "provenance": []
    },
    "kernelspec": {
      "name": "python3",
      "display_name": "Python 3"
    }
  },
  "cells": [
    {
      "cell_type": "markdown",
      "metadata": {
        "id": "TNfdivoYmyW0",
        "colab_type": "text"
      },
      "source": [
        ""
      ]
    },
    {
      "cell_type": "markdown",
      "metadata": {
        "id": "yVfS0II7m9Ih",
        "colab_type": "text"
      },
      "source": [
        ""
      ]
    },
    {
      "cell_type": "code",
      "metadata": {
        "id": "OoT3vMPmmiHQ",
        "colab_type": "code",
        "colab": {}
      },
      "source": [
        "import pandas as pd\n",
        "import numpy as np\n"
      ],
      "execution_count": 0,
      "outputs": []
    },
    {
      "cell_type": "code",
      "metadata": {
        "id": "jxsLW5fkmuk0",
        "colab_type": "code",
        "outputId": "a9367efd-8147-4c17-a6be-294bf420a77f",
        "colab": {
          "resources": {
            "http://localhost:8080/nbextensions/google.colab/files.js": {
              "data": "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",
              "ok": true,
              "headers": [
                [
                  "content-type",
                  "application/javascript"
                ]
              ],
              "status": 200,
              "status_text": ""
            }
          },
          "base_uri": "https://localhost:8080/",
          "height": 71
        }
      },
      "source": [
        "from google.colab import files\n",
        "uploaded = files.upload()"
      ],
      "execution_count": 0,
      "outputs": [
        {
          "output_type": "display_data",
          "data": {
            "text/html": [
              "\n",
              "     <input type=\"file\" id=\"files-a1f8fd99-b06f-466d-9184-be8fa24348fd\" name=\"files[]\" multiple disabled />\n",
              "     <output id=\"result-a1f8fd99-b06f-466d-9184-be8fa24348fd\">\n",
              "      Upload widget is only available when the cell has been executed in the\n",
              "      current browser session. Please rerun this cell to enable.\n",
              "      </output>\n",
              "      <script src=\"/nbextensions/google.colab/files.js\"></script> "
            ],
            "text/plain": [
              "<IPython.core.display.HTML object>"
            ]
          },
          "metadata": {
            "tags": []
          }
        },
        {
          "output_type": "stream",
          "text": [
            "Saving dataset.csv to dataset.csv\n"
          ],
          "name": "stdout"
        }
      ]
    },
    {
      "cell_type": "code",
      "metadata": {
        "id": "sZcsAU74m4e8",
        "colab_type": "code",
        "outputId": "4dd9060e-8f24-4302-db9f-dfa85be81868",
        "colab": {
          "base_uri": "https://localhost:8080/",
          "height": 720
        }
      },
      "source": [
        "df = pd.read_csv('dataset.csv')\n",
        "df.head(20)\n"
      ],
      "execution_count": 0,
      "outputs": [
        {
          "output_type": "execute_result",
          "data": {
            "text/html": [
              "<div>\n",
              "<style scoped>\n",
              "    .dataframe tbody tr th:only-of-type {\n",
              "        vertical-align: middle;\n",
              "    }\n",
              "\n",
              "    .dataframe tbody tr th {\n",
              "        vertical-align: top;\n",
              "    }\n",
              "\n",
              "    .dataframe thead th {\n",
              "        text-align: right;\n",
              "    }\n",
              "</style>\n",
              "<table border=\"1\" class=\"dataframe\">\n",
              "  <thead>\n",
              "    <tr style=\"text-align: right;\">\n",
              "      <th></th>\n",
              "      <th>Roll</th>\n",
              "      <th>CT-1 (Marks: 20)</th>\n",
              "      <th>CT-2 (Marks: 20)</th>\n",
              "      <th>CT-3 (Marks: 20)</th>\n",
              "      <th>CT-4 (Marks: 20)</th>\n",
              "      <th>Class Test (Total of best 3, Marks: 60)</th>\n",
              "      <th>Attendance (Marks: 15)</th>\n",
              "      <th>Observation (Marks: 15)</th>\n",
              "      <th>Total (Marks: 90)</th>\n",
              "      <th>Exam Mark (105)</th>\n",
              "      <th>Exam Mark (105).1</th>\n",
              "      <th>Mark total 300</th>\n",
              "    </tr>\n",
              "  </thead>\n",
              "  <tbody>\n",
              "    <tr>\n",
              "      <th>0</th>\n",
              "      <td>2.0</td>\n",
              "      <td>12.5</td>\n",
              "      <td>15</td>\n",
              "      <td>14</td>\n",
              "      <td>18</td>\n",
              "      <td>47</td>\n",
              "      <td>15</td>\n",
              "      <td>13.5</td>\n",
              "      <td>75.5</td>\n",
              "      <td>45.0</td>\n",
              "      <td>46.5</td>\n",
              "      <td>167.0</td>\n",
              "    </tr>\n",
              "    <tr>\n",
              "      <th>1</th>\n",
              "      <td>3.0</td>\n",
              "      <td>9</td>\n",
              "      <td>10</td>\n",
              "      <td>17</td>\n",
              "      <td>11</td>\n",
              "      <td>38</td>\n",
              "      <td>15</td>\n",
              "      <td>13.5</td>\n",
              "      <td>66.5</td>\n",
              "      <td>28.0</td>\n",
              "      <td>44.0</td>\n",
              "      <td>138.5</td>\n",
              "    </tr>\n",
              "    <tr>\n",
              "      <th>2</th>\n",
              "      <td>4.0</td>\n",
              "      <td>10</td>\n",
              "      <td>15.5</td>\n",
              "      <td>12.5</td>\n",
              "      <td>6.5</td>\n",
              "      <td>38</td>\n",
              "      <td>15</td>\n",
              "      <td>13.5</td>\n",
              "      <td>66.5</td>\n",
              "      <td>26.5</td>\n",
              "      <td>43.0</td>\n",
              "      <td>136.0</td>\n",
              "    </tr>\n",
              "    <tr>\n",
              "      <th>3</th>\n",
              "      <td>5.0</td>\n",
              "      <td>14</td>\n",
              "      <td>14</td>\n",
              "      <td>18</td>\n",
              "      <td>0</td>\n",
              "      <td>46</td>\n",
              "      <td>15</td>\n",
              "      <td>15</td>\n",
              "      <td>76</td>\n",
              "      <td>46.0</td>\n",
              "      <td>44.0</td>\n",
              "      <td>166.0</td>\n",
              "    </tr>\n",
              "    <tr>\n",
              "      <th>4</th>\n",
              "      <td>6.0</td>\n",
              "      <td>14.5</td>\n",
              "      <td>15.5</td>\n",
              "      <td>15</td>\n",
              "      <td>15.5</td>\n",
              "      <td>46</td>\n",
              "      <td>15</td>\n",
              "      <td>15</td>\n",
              "      <td>76</td>\n",
              "      <td>26.0</td>\n",
              "      <td>74.5</td>\n",
              "      <td>176.5</td>\n",
              "    </tr>\n",
              "    <tr>\n",
              "      <th>5</th>\n",
              "      <td>7.0</td>\n",
              "      <td>13.5</td>\n",
              "      <td>13</td>\n",
              "      <td>18</td>\n",
              "      <td>16.5</td>\n",
              "      <td>48</td>\n",
              "      <td>15</td>\n",
              "      <td>15</td>\n",
              "      <td>78</td>\n",
              "      <td>77.0</td>\n",
              "      <td>70.0</td>\n",
              "      <td>225.0</td>\n",
              "    </tr>\n",
              "    <tr>\n",
              "      <th>6</th>\n",
              "      <td>8.0</td>\n",
              "      <td>14</td>\n",
              "      <td>16</td>\n",
              "      <td>14</td>\n",
              "      <td>16.5</td>\n",
              "      <td>46.5</td>\n",
              "      <td>15</td>\n",
              "      <td>15</td>\n",
              "      <td>76.5</td>\n",
              "      <td>69.0</td>\n",
              "      <td>79.5</td>\n",
              "      <td>225.0</td>\n",
              "    </tr>\n",
              "    <tr>\n",
              "      <th>7</th>\n",
              "      <td>9.0</td>\n",
              "      <td>11</td>\n",
              "      <td>17</td>\n",
              "      <td>15.5</td>\n",
              "      <td>20</td>\n",
              "      <td>52.5</td>\n",
              "      <td>15</td>\n",
              "      <td>12</td>\n",
              "      <td>79.5</td>\n",
              "      <td>49.0</td>\n",
              "      <td>67.0</td>\n",
              "      <td>195.5</td>\n",
              "    </tr>\n",
              "    <tr>\n",
              "      <th>8</th>\n",
              "      <td>10.0</td>\n",
              "      <td>8</td>\n",
              "      <td>15</td>\n",
              "      <td>14</td>\n",
              "      <td>8</td>\n",
              "      <td>37</td>\n",
              "      <td>15</td>\n",
              "      <td>15</td>\n",
              "      <td>67</td>\n",
              "      <td>26.0</td>\n",
              "      <td>38.5</td>\n",
              "      <td>131.5</td>\n",
              "    </tr>\n",
              "    <tr>\n",
              "      <th>9</th>\n",
              "      <td>11.0</td>\n",
              "      <td>11.5</td>\n",
              "      <td>14.5</td>\n",
              "      <td>7</td>\n",
              "      <td>14.5</td>\n",
              "      <td>40.5</td>\n",
              "      <td>15</td>\n",
              "      <td>13.5</td>\n",
              "      <td>69</td>\n",
              "      <td>40.0</td>\n",
              "      <td>41.0</td>\n",
              "      <td>150.0</td>\n",
              "    </tr>\n",
              "    <tr>\n",
              "      <th>10</th>\n",
              "      <td>12.0</td>\n",
              "      <td>7.5</td>\n",
              "      <td>13</td>\n",
              "      <td>18</td>\n",
              "      <td>7.5</td>\n",
              "      <td>38.5</td>\n",
              "      <td>15</td>\n",
              "      <td>13.5</td>\n",
              "      <td>67</td>\n",
              "      <td>51.0</td>\n",
              "      <td>45.0</td>\n",
              "      <td>163.0</td>\n",
              "    </tr>\n",
              "    <tr>\n",
              "      <th>11</th>\n",
              "      <td>13.0</td>\n",
              "      <td>12.5</td>\n",
              "      <td>20</td>\n",
              "      <td>11</td>\n",
              "      <td>0</td>\n",
              "      <td>43.5</td>\n",
              "      <td>15</td>\n",
              "      <td>15</td>\n",
              "      <td>73.5</td>\n",
              "      <td>48.0</td>\n",
              "      <td>59.5</td>\n",
              "      <td>181.0</td>\n",
              "    </tr>\n",
              "    <tr>\n",
              "      <th>12</th>\n",
              "      <td>14.0</td>\n",
              "      <td>7.5</td>\n",
              "      <td>11.5</td>\n",
              "      <td>17</td>\n",
              "      <td>8.5</td>\n",
              "      <td>37</td>\n",
              "      <td>15</td>\n",
              "      <td>13.5</td>\n",
              "      <td>65.5</td>\n",
              "      <td>42.0</td>\n",
              "      <td>23.5</td>\n",
              "      <td>131.0</td>\n",
              "    </tr>\n",
              "    <tr>\n",
              "      <th>13</th>\n",
              "      <td>15.0</td>\n",
              "      <td>7.5</td>\n",
              "      <td>15.5</td>\n",
              "      <td>15</td>\n",
              "      <td>14.5</td>\n",
              "      <td>45</td>\n",
              "      <td>15</td>\n",
              "      <td>13.5</td>\n",
              "      <td>73.5</td>\n",
              "      <td>43.0</td>\n",
              "      <td>64.0</td>\n",
              "      <td>180.5</td>\n",
              "    </tr>\n",
              "    <tr>\n",
              "      <th>14</th>\n",
              "      <td>16.0</td>\n",
              "      <td>1</td>\n",
              "      <td>10</td>\n",
              "      <td>7.5</td>\n",
              "      <td>0</td>\n",
              "      <td>18.5</td>\n",
              "      <td>15</td>\n",
              "      <td>13.5</td>\n",
              "      <td>47</td>\n",
              "      <td>3.0</td>\n",
              "      <td>2.0</td>\n",
              "      <td>52.0</td>\n",
              "    </tr>\n",
              "    <tr>\n",
              "      <th>15</th>\n",
              "      <td>NaN</td>\n",
              "      <td>NaN</td>\n",
              "      <td>NaN</td>\n",
              "      <td>NaN</td>\n",
              "      <td>NaN</td>\n",
              "      <td>NaN</td>\n",
              "      <td>NaN</td>\n",
              "      <td>NaN</td>\n",
              "      <td>NaN</td>\n",
              "      <td>NaN</td>\n",
              "      <td>NaN</td>\n",
              "      <td>NaN</td>\n",
              "    </tr>\n",
              "    <tr>\n",
              "      <th>16</th>\n",
              "      <td>NaN</td>\n",
              "      <td>NaN</td>\n",
              "      <td>NaN</td>\n",
              "      <td>NaN</td>\n",
              "      <td>NaN</td>\n",
              "      <td>NaN</td>\n",
              "      <td>NaN</td>\n",
              "      <td>NaN</td>\n",
              "      <td>NaN</td>\n",
              "      <td>NaN</td>\n",
              "      <td>NaN</td>\n",
              "      <td>NaN</td>\n",
              "    </tr>\n",
              "    <tr>\n",
              "      <th>17</th>\n",
              "      <td>19.0</td>\n",
              "      <td>CT-1 (Marks: 20)</td>\n",
              "      <td>CT-2 (Marks: 20)</td>\n",
              "      <td>CT-3 (Marks: 20)</td>\n",
              "      <td>CT-4 (Marks: 20)</td>\n",
              "      <td>Class Test (Total of best 3, Marks: 60)</td>\n",
              "      <td>Attendance (Marks: 15)</td>\n",
              "      <td>Observation (Marks: 15)</td>\n",
              "      <td>Total (Marks: 90)</td>\n",
              "      <td>NaN</td>\n",
              "      <td>NaN</td>\n",
              "      <td>NaN</td>\n",
              "    </tr>\n",
              "    <tr>\n",
              "      <th>18</th>\n",
              "      <td>20.0</td>\n",
              "      <td>9.5</td>\n",
              "      <td>18</td>\n",
              "      <td>12</td>\n",
              "      <td>6.5</td>\n",
              "      <td>39.5</td>\n",
              "      <td>15</td>\n",
              "      <td>15</td>\n",
              "      <td>69.5</td>\n",
              "      <td>22.0</td>\n",
              "      <td>25.5</td>\n",
              "      <td>117.0</td>\n",
              "    </tr>\n",
              "    <tr>\n",
              "      <th>19</th>\n",
              "      <td>21.0</td>\n",
              "      <td>14.5</td>\n",
              "      <td>12</td>\n",
              "      <td>19</td>\n",
              "      <td>17</td>\n",
              "      <td>50.5</td>\n",
              "      <td>15</td>\n",
              "      <td>13.5</td>\n",
              "      <td>79</td>\n",
              "      <td>18.0</td>\n",
              "      <td>47.0</td>\n",
              "      <td>144.0</td>\n",
              "    </tr>\n",
              "  </tbody>\n",
              "</table>\n",
              "</div>"
            ],
            "text/plain": [
              "    Roll  CT-1 (Marks: 20)  ... Exam Mark (105).1 Mark total 300\n",
              "0    2.0              12.5  ...              46.5          167.0\n",
              "1    3.0                 9  ...              44.0          138.5\n",
              "2    4.0                10  ...              43.0          136.0\n",
              "3    5.0                14  ...              44.0          166.0\n",
              "4    6.0              14.5  ...              74.5          176.5\n",
              "5    7.0              13.5  ...              70.0          225.0\n",
              "6    8.0                14  ...              79.5          225.0\n",
              "7    9.0                11  ...              67.0          195.5\n",
              "8   10.0                 8  ...              38.5          131.5\n",
              "9   11.0              11.5  ...              41.0          150.0\n",
              "10  12.0               7.5  ...              45.0          163.0\n",
              "11  13.0              12.5  ...              59.5          181.0\n",
              "12  14.0               7.5  ...              23.5          131.0\n",
              "13  15.0               7.5  ...              64.0          180.5\n",
              "14  16.0                 1  ...               2.0           52.0\n",
              "15   NaN               NaN  ...               NaN            NaN\n",
              "16   NaN               NaN  ...               NaN            NaN\n",
              "17  19.0  CT-1 (Marks: 20)  ...               NaN            NaN\n",
              "18  20.0               9.5  ...              25.5          117.0\n",
              "19  21.0              14.5  ...              47.0          144.0\n",
              "\n",
              "[20 rows x 12 columns]"
            ]
          },
          "metadata": {
            "tags": []
          },
          "execution_count": 9
        }
      ]
    },
    {
      "cell_type": "code",
      "metadata": {
        "id": "gmSIjioInVWc",
        "colab_type": "code",
        "colab": {}
      },
      "source": [
        "df.loc[df.Roll == 19, :] = np.nan\n",
        "df.loc[df.Roll == 37, :] = np.nan\n",
        "df.loc[df.Roll == 55, :] = np.nan\n",
        "\n"
      ],
      "execution_count": 0,
      "outputs": []
    },
    {
      "cell_type": "code",
      "metadata": {
        "id": "gxUBclPsohyq",
        "colab_type": "code",
        "outputId": "5111ce35-520b-4525-925b-730c8c531faa",
        "colab": {
          "base_uri": "https://localhost:8080/",
          "height": 340
        }
      },
      "source": [
        "df.info()\n"
      ],
      "execution_count": 0,
      "outputs": [
        {
          "output_type": "stream",
          "text": [
            "<class 'pandas.core.frame.DataFrame'>\n",
            "RangeIndex: 63 entries, 0 to 62\n",
            "Data columns (total 12 columns):\n",
            " #   Column                                   Non-Null Count  Dtype  \n",
            "---  ------                                   --------------  -----  \n",
            " 0   Roll                                     54 non-null     float64\n",
            " 1   CT-1 (Marks: 20)                         54 non-null     object \n",
            " 2   CT-2 (Marks: 20)                         54 non-null     object \n",
            " 3   CT-3 (Marks: 20)                         54 non-null     object \n",
            " 4   CT-4 (Marks: 20)                         54 non-null     object \n",
            " 5   Class Test (Total of best 3, Marks: 60)  54 non-null     object \n",
            " 6   Attendance (Marks: 15)                   54 non-null     object \n",
            " 7   Observation (Marks: 15)                  54 non-null     object \n",
            " 8   Total (Marks: 90)                        54 non-null     object \n",
            " 9   Exam Mark (105)                          54 non-null     float64\n",
            " 10  Exam Mark (105).1                        54 non-null     float64\n",
            " 11  Mark total 300                           54 non-null     float64\n",
            "dtypes: float64(4), object(8)\n",
            "memory usage: 6.0+ KB\n"
          ],
          "name": "stdout"
        }
      ]
    },
    {
      "cell_type": "code",
      "metadata": {
        "id": "y887cCZCo5nm",
        "colab_type": "code",
        "outputId": "ebf3ac49-eac1-4630-c7b3-cdc0ca4f4e8b",
        "colab": {
          "base_uri": "https://localhost:8080/",
          "height": 453
        }
      },
      "source": [
        "df"
      ],
      "execution_count": 0,
      "outputs": [
        {
          "output_type": "execute_result",
          "data": {
            "text/html": [
              "<div>\n",
              "<style scoped>\n",
              "    .dataframe tbody tr th:only-of-type {\n",
              "        vertical-align: middle;\n",
              "    }\n",
              "\n",
              "    .dataframe tbody tr th {\n",
              "        vertical-align: top;\n",
              "    }\n",
              "\n",
              "    .dataframe thead th {\n",
              "        text-align: right;\n",
              "    }\n",
              "</style>\n",
              "<table border=\"1\" class=\"dataframe\">\n",
              "  <thead>\n",
              "    <tr style=\"text-align: right;\">\n",
              "      <th></th>\n",
              "      <th>Roll</th>\n",
              "      <th>CT-1 (Marks: 20)</th>\n",
              "      <th>CT-2 (Marks: 20)</th>\n",
              "      <th>CT-3 (Marks: 20)</th>\n",
              "      <th>CT-4 (Marks: 20)</th>\n",
              "      <th>Class Test (Total of best 3, Marks: 60)</th>\n",
              "      <th>Attendance (Marks: 15)</th>\n",
              "      <th>Observation (Marks: 15)</th>\n",
              "      <th>Total (Marks: 90)</th>\n",
              "      <th>Exam Mark (105)</th>\n",
              "      <th>Exam Mark (105).1</th>\n",
              "      <th>Mark total 300</th>\n",
              "    </tr>\n",
              "  </thead>\n",
              "  <tbody>\n",
              "    <tr>\n",
              "      <th>0</th>\n",
              "      <td>2.0</td>\n",
              "      <td>12.5</td>\n",
              "      <td>15</td>\n",
              "      <td>14</td>\n",
              "      <td>18</td>\n",
              "      <td>47</td>\n",
              "      <td>15</td>\n",
              "      <td>13.5</td>\n",
              "      <td>75.5</td>\n",
              "      <td>45.0</td>\n",
              "      <td>46.5</td>\n",
              "      <td>167.0</td>\n",
              "    </tr>\n",
              "    <tr>\n",
              "      <th>1</th>\n",
              "      <td>3.0</td>\n",
              "      <td>9</td>\n",
              "      <td>10</td>\n",
              "      <td>17</td>\n",
              "      <td>11</td>\n",
              "      <td>38</td>\n",
              "      <td>15</td>\n",
              "      <td>13.5</td>\n",
              "      <td>66.5</td>\n",
              "      <td>28.0</td>\n",
              "      <td>44.0</td>\n",
              "      <td>138.5</td>\n",
              "    </tr>\n",
              "    <tr>\n",
              "      <th>2</th>\n",
              "      <td>4.0</td>\n",
              "      <td>10</td>\n",
              "      <td>15.5</td>\n",
              "      <td>12.5</td>\n",
              "      <td>6.5</td>\n",
              "      <td>38</td>\n",
              "      <td>15</td>\n",
              "      <td>13.5</td>\n",
              "      <td>66.5</td>\n",
              "      <td>26.5</td>\n",
              "      <td>43.0</td>\n",
              "      <td>136.0</td>\n",
              "    </tr>\n",
              "    <tr>\n",
              "      <th>3</th>\n",
              "      <td>5.0</td>\n",
              "      <td>14</td>\n",
              "      <td>14</td>\n",
              "      <td>18</td>\n",
              "      <td>0</td>\n",
              "      <td>46</td>\n",
              "      <td>15</td>\n",
              "      <td>15</td>\n",
              "      <td>76</td>\n",
              "      <td>46.0</td>\n",
              "      <td>44.0</td>\n",
              "      <td>166.0</td>\n",
              "    </tr>\n",
              "    <tr>\n",
              "      <th>4</th>\n",
              "      <td>6.0</td>\n",
              "      <td>14.5</td>\n",
              "      <td>15.5</td>\n",
              "      <td>15</td>\n",
              "      <td>15.5</td>\n",
              "      <td>46</td>\n",
              "      <td>15</td>\n",
              "      <td>15</td>\n",
              "      <td>76</td>\n",
              "      <td>26.0</td>\n",
              "      <td>74.5</td>\n",
              "      <td>176.5</td>\n",
              "    </tr>\n",
              "    <tr>\n",
              "      <th>...</th>\n",
              "      <td>...</td>\n",
              "      <td>...</td>\n",
              "      <td>...</td>\n",
              "      <td>...</td>\n",
              "      <td>...</td>\n",
              "      <td>...</td>\n",
              "      <td>...</td>\n",
              "      <td>...</td>\n",
              "      <td>...</td>\n",
              "      <td>...</td>\n",
              "      <td>...</td>\n",
              "      <td>...</td>\n",
              "    </tr>\n",
              "    <tr>\n",
              "      <th>58</th>\n",
              "      <td>60.0</td>\n",
              "      <td>12</td>\n",
              "      <td>20</td>\n",
              "      <td>14</td>\n",
              "      <td>18</td>\n",
              "      <td>52</td>\n",
              "      <td>15</td>\n",
              "      <td>13.5</td>\n",
              "      <td>80.5</td>\n",
              "      <td>51.0</td>\n",
              "      <td>66.0</td>\n",
              "      <td>197.5</td>\n",
              "    </tr>\n",
              "    <tr>\n",
              "      <th>59</th>\n",
              "      <td>61.0</td>\n",
              "      <td>19.5</td>\n",
              "      <td>17.5</td>\n",
              "      <td>17</td>\n",
              "      <td>0</td>\n",
              "      <td>54</td>\n",
              "      <td>15</td>\n",
              "      <td>15</td>\n",
              "      <td>84</td>\n",
              "      <td>32.0</td>\n",
              "      <td>84.0</td>\n",
              "      <td>200.0</td>\n",
              "    </tr>\n",
              "    <tr>\n",
              "      <th>60</th>\n",
              "      <td>62.0</td>\n",
              "      <td>0</td>\n",
              "      <td>4</td>\n",
              "      <td>13</td>\n",
              "      <td>12.5</td>\n",
              "      <td>29.5</td>\n",
              "      <td>15</td>\n",
              "      <td>12.5</td>\n",
              "      <td>57</td>\n",
              "      <td>50.0</td>\n",
              "      <td>77.5</td>\n",
              "      <td>184.5</td>\n",
              "    </tr>\n",
              "    <tr>\n",
              "      <th>61</th>\n",
              "      <td>63.0</td>\n",
              "      <td>0</td>\n",
              "      <td>4</td>\n",
              "      <td>16</td>\n",
              "      <td>7.5</td>\n",
              "      <td>27.5</td>\n",
              "      <td>13.5</td>\n",
              "      <td>12.5</td>\n",
              "      <td>53.5</td>\n",
              "      <td>16.0</td>\n",
              "      <td>39.0</td>\n",
              "      <td>108.5</td>\n",
              "    </tr>\n",
              "    <tr>\n",
              "      <th>62</th>\n",
              "      <td>64.0</td>\n",
              "      <td>18</td>\n",
              "      <td>16.5</td>\n",
              "      <td>0</td>\n",
              "      <td>15</td>\n",
              "      <td>49.5</td>\n",
              "      <td>13.5</td>\n",
              "      <td>13.5</td>\n",
              "      <td>76.5</td>\n",
              "      <td>12.0</td>\n",
              "      <td>45.0</td>\n",
              "      <td>133.5</td>\n",
              "    </tr>\n",
              "  </tbody>\n",
              "</table>\n",
              "<p>63 rows × 12 columns</p>\n",
              "</div>"
            ],
            "text/plain": [
              "    Roll CT-1 (Marks: 20)  ... Exam Mark (105).1 Mark total 300\n",
              "0    2.0             12.5  ...              46.5          167.0\n",
              "1    3.0                9  ...              44.0          138.5\n",
              "2    4.0               10  ...              43.0          136.0\n",
              "3    5.0               14  ...              44.0          166.0\n",
              "4    6.0             14.5  ...              74.5          176.5\n",
              "..   ...              ...  ...               ...            ...\n",
              "58  60.0               12  ...              66.0          197.5\n",
              "59  61.0             19.5  ...              84.0          200.0\n",
              "60  62.0                0  ...              77.5          184.5\n",
              "61  63.0                0  ...              39.0          108.5\n",
              "62  64.0               18  ...              45.0          133.5\n",
              "\n",
              "[63 rows x 12 columns]"
            ]
          },
          "metadata": {
            "tags": []
          },
          "execution_count": 19
        }
      ]
    },
    {
      "cell_type": "code",
      "metadata": {
        "id": "fYkjXar-qXZl",
        "colab_type": "code",
        "colab": {}
      },
      "source": [
        "df.fillna(0,inplace = True)"
      ],
      "execution_count": 0,
      "outputs": []
    },
    {
      "cell_type": "code",
      "metadata": {
        "id": "JMZ16k1PqzCt",
        "colab_type": "code",
        "outputId": "89a45856-68e6-4c5e-bd00-c08fe29309e6",
        "colab": {
          "base_uri": "https://localhost:8080/",
          "height": 641
        }
      },
      "source": [
        "df.head(20)\n",
        "df1 = df[df['Roll'] != 0]\n",
        "df1.loc[:20,]"
      ],
      "execution_count": 0,
      "outputs": [
        {
          "output_type": "execute_result",
          "data": {
            "text/html": [
              "<div>\n",
              "<style scoped>\n",
              "    .dataframe tbody tr th:only-of-type {\n",
              "        vertical-align: middle;\n",
              "    }\n",
              "\n",
              "    .dataframe tbody tr th {\n",
              "        vertical-align: top;\n",
              "    }\n",
              "\n",
              "    .dataframe thead th {\n",
              "        text-align: right;\n",
              "    }\n",
              "</style>\n",
              "<table border=\"1\" class=\"dataframe\">\n",
              "  <thead>\n",
              "    <tr style=\"text-align: right;\">\n",
              "      <th></th>\n",
              "      <th>Roll</th>\n",
              "      <th>CT-1 (Marks: 20)</th>\n",
              "      <th>CT-2 (Marks: 20)</th>\n",
              "      <th>CT-3 (Marks: 20)</th>\n",
              "      <th>CT-4 (Marks: 20)</th>\n",
              "      <th>Class Test (Total of best 3, Marks: 60)</th>\n",
              "      <th>Attendance (Marks: 15)</th>\n",
              "      <th>Observation (Marks: 15)</th>\n",
              "      <th>Total (Marks: 90)</th>\n",
              "      <th>Exam Mark (105)</th>\n",
              "      <th>Exam Mark (105).1</th>\n",
              "      <th>Mark total 300</th>\n",
              "    </tr>\n",
              "  </thead>\n",
              "  <tbody>\n",
              "    <tr>\n",
              "      <th>0</th>\n",
              "      <td>2.0</td>\n",
              "      <td>12.5</td>\n",
              "      <td>15</td>\n",
              "      <td>14</td>\n",
              "      <td>18</td>\n",
              "      <td>47</td>\n",
              "      <td>15</td>\n",
              "      <td>13.5</td>\n",
              "      <td>75.5</td>\n",
              "      <td>45.0</td>\n",
              "      <td>46.5</td>\n",
              "      <td>167.0</td>\n",
              "    </tr>\n",
              "    <tr>\n",
              "      <th>1</th>\n",
              "      <td>3.0</td>\n",
              "      <td>9</td>\n",
              "      <td>10</td>\n",
              "      <td>17</td>\n",
              "      <td>11</td>\n",
              "      <td>38</td>\n",
              "      <td>15</td>\n",
              "      <td>13.5</td>\n",
              "      <td>66.5</td>\n",
              "      <td>28.0</td>\n",
              "      <td>44.0</td>\n",
              "      <td>138.5</td>\n",
              "    </tr>\n",
              "    <tr>\n",
              "      <th>2</th>\n",
              "      <td>4.0</td>\n",
              "      <td>10</td>\n",
              "      <td>15.5</td>\n",
              "      <td>12.5</td>\n",
              "      <td>6.5</td>\n",
              "      <td>38</td>\n",
              "      <td>15</td>\n",
              "      <td>13.5</td>\n",
              "      <td>66.5</td>\n",
              "      <td>26.5</td>\n",
              "      <td>43.0</td>\n",
              "      <td>136.0</td>\n",
              "    </tr>\n",
              "    <tr>\n",
              "      <th>3</th>\n",
              "      <td>5.0</td>\n",
              "      <td>14</td>\n",
              "      <td>14</td>\n",
              "      <td>18</td>\n",
              "      <td>0</td>\n",
              "      <td>46</td>\n",
              "      <td>15</td>\n",
              "      <td>15</td>\n",
              "      <td>76</td>\n",
              "      <td>46.0</td>\n",
              "      <td>44.0</td>\n",
              "      <td>166.0</td>\n",
              "    </tr>\n",
              "    <tr>\n",
              "      <th>4</th>\n",
              "      <td>6.0</td>\n",
              "      <td>14.5</td>\n",
              "      <td>15.5</td>\n",
              "      <td>15</td>\n",
              "      <td>15.5</td>\n",
              "      <td>46</td>\n",
              "      <td>15</td>\n",
              "      <td>15</td>\n",
              "      <td>76</td>\n",
              "      <td>26.0</td>\n",
              "      <td>74.5</td>\n",
              "      <td>176.5</td>\n",
              "    </tr>\n",
              "    <tr>\n",
              "      <th>5</th>\n",
              "      <td>7.0</td>\n",
              "      <td>13.5</td>\n",
              "      <td>13</td>\n",
              "      <td>18</td>\n",
              "      <td>16.5</td>\n",
              "      <td>48</td>\n",
              "      <td>15</td>\n",
              "      <td>15</td>\n",
              "      <td>78</td>\n",
              "      <td>77.0</td>\n",
              "      <td>70.0</td>\n",
              "      <td>225.0</td>\n",
              "    </tr>\n",
              "    <tr>\n",
              "      <th>6</th>\n",
              "      <td>8.0</td>\n",
              "      <td>14</td>\n",
              "      <td>16</td>\n",
              "      <td>14</td>\n",
              "      <td>16.5</td>\n",
              "      <td>46.5</td>\n",
              "      <td>15</td>\n",
              "      <td>15</td>\n",
              "      <td>76.5</td>\n",
              "      <td>69.0</td>\n",
              "      <td>79.5</td>\n",
              "      <td>225.0</td>\n",
              "    </tr>\n",
              "    <tr>\n",
              "      <th>7</th>\n",
              "      <td>9.0</td>\n",
              "      <td>11</td>\n",
              "      <td>17</td>\n",
              "      <td>15.5</td>\n",
              "      <td>20</td>\n",
              "      <td>52.5</td>\n",
              "      <td>15</td>\n",
              "      <td>12</td>\n",
              "      <td>79.5</td>\n",
              "      <td>49.0</td>\n",
              "      <td>67.0</td>\n",
              "      <td>195.5</td>\n",
              "    </tr>\n",
              "    <tr>\n",
              "      <th>8</th>\n",
              "      <td>10.0</td>\n",
              "      <td>8</td>\n",
              "      <td>15</td>\n",
              "      <td>14</td>\n",
              "      <td>8</td>\n",
              "      <td>37</td>\n",
              "      <td>15</td>\n",
              "      <td>15</td>\n",
              "      <td>67</td>\n",
              "      <td>26.0</td>\n",
              "      <td>38.5</td>\n",
              "      <td>131.5</td>\n",
              "    </tr>\n",
              "    <tr>\n",
              "      <th>9</th>\n",
              "      <td>11.0</td>\n",
              "      <td>11.5</td>\n",
              "      <td>14.5</td>\n",
              "      <td>7</td>\n",
              "      <td>14.5</td>\n",
              "      <td>40.5</td>\n",
              "      <td>15</td>\n",
              "      <td>13.5</td>\n",
              "      <td>69</td>\n",
              "      <td>40.0</td>\n",
              "      <td>41.0</td>\n",
              "      <td>150.0</td>\n",
              "    </tr>\n",
              "    <tr>\n",
              "      <th>10</th>\n",
              "      <td>12.0</td>\n",
              "      <td>7.5</td>\n",
              "      <td>13</td>\n",
              "      <td>18</td>\n",
              "      <td>7.5</td>\n",
              "      <td>38.5</td>\n",
              "      <td>15</td>\n",
              "      <td>13.5</td>\n",
              "      <td>67</td>\n",
              "      <td>51.0</td>\n",
              "      <td>45.0</td>\n",
              "      <td>163.0</td>\n",
              "    </tr>\n",
              "    <tr>\n",
              "      <th>11</th>\n",
              "      <td>13.0</td>\n",
              "      <td>12.5</td>\n",
              "      <td>20</td>\n",
              "      <td>11</td>\n",
              "      <td>0</td>\n",
              "      <td>43.5</td>\n",
              "      <td>15</td>\n",
              "      <td>15</td>\n",
              "      <td>73.5</td>\n",
              "      <td>48.0</td>\n",
              "      <td>59.5</td>\n",
              "      <td>181.0</td>\n",
              "    </tr>\n",
              "    <tr>\n",
              "      <th>12</th>\n",
              "      <td>14.0</td>\n",
              "      <td>7.5</td>\n",
              "      <td>11.5</td>\n",
              "      <td>17</td>\n",
              "      <td>8.5</td>\n",
              "      <td>37</td>\n",
              "      <td>15</td>\n",
              "      <td>13.5</td>\n",
              "      <td>65.5</td>\n",
              "      <td>42.0</td>\n",
              "      <td>23.5</td>\n",
              "      <td>131.0</td>\n",
              "    </tr>\n",
              "    <tr>\n",
              "      <th>13</th>\n",
              "      <td>15.0</td>\n",
              "      <td>7.5</td>\n",
              "      <td>15.5</td>\n",
              "      <td>15</td>\n",
              "      <td>14.5</td>\n",
              "      <td>45</td>\n",
              "      <td>15</td>\n",
              "      <td>13.5</td>\n",
              "      <td>73.5</td>\n",
              "      <td>43.0</td>\n",
              "      <td>64.0</td>\n",
              "      <td>180.5</td>\n",
              "    </tr>\n",
              "    <tr>\n",
              "      <th>14</th>\n",
              "      <td>16.0</td>\n",
              "      <td>1</td>\n",
              "      <td>10</td>\n",
              "      <td>7.5</td>\n",
              "      <td>0</td>\n",
              "      <td>18.5</td>\n",
              "      <td>15</td>\n",
              "      <td>13.5</td>\n",
              "      <td>47</td>\n",
              "      <td>3.0</td>\n",
              "      <td>2.0</td>\n",
              "      <td>52.0</td>\n",
              "    </tr>\n",
              "    <tr>\n",
              "      <th>18</th>\n",
              "      <td>20.0</td>\n",
              "      <td>9.5</td>\n",
              "      <td>18</td>\n",
              "      <td>12</td>\n",
              "      <td>6.5</td>\n",
              "      <td>39.5</td>\n",
              "      <td>15</td>\n",
              "      <td>15</td>\n",
              "      <td>69.5</td>\n",
              "      <td>22.0</td>\n",
              "      <td>25.5</td>\n",
              "      <td>117.0</td>\n",
              "    </tr>\n",
              "    <tr>\n",
              "      <th>19</th>\n",
              "      <td>21.0</td>\n",
              "      <td>14.5</td>\n",
              "      <td>12</td>\n",
              "      <td>19</td>\n",
              "      <td>17</td>\n",
              "      <td>50.5</td>\n",
              "      <td>15</td>\n",
              "      <td>13.5</td>\n",
              "      <td>79</td>\n",
              "      <td>18.0</td>\n",
              "      <td>47.0</td>\n",
              "      <td>144.0</td>\n",
              "    </tr>\n",
              "    <tr>\n",
              "      <th>20</th>\n",
              "      <td>22.0</td>\n",
              "      <td>7</td>\n",
              "      <td>14.5</td>\n",
              "      <td>16</td>\n",
              "      <td>19.5</td>\n",
              "      <td>50</td>\n",
              "      <td>15</td>\n",
              "      <td>15</td>\n",
              "      <td>80</td>\n",
              "      <td>39.0</td>\n",
              "      <td>55.5</td>\n",
              "      <td>174.5</td>\n",
              "    </tr>\n",
              "  </tbody>\n",
              "</table>\n",
              "</div>"
            ],
            "text/plain": [
              "    Roll CT-1 (Marks: 20)  ... Exam Mark (105).1 Mark total 300\n",
              "0    2.0             12.5  ...              46.5          167.0\n",
              "1    3.0                9  ...              44.0          138.5\n",
              "2    4.0               10  ...              43.0          136.0\n",
              "3    5.0               14  ...              44.0          166.0\n",
              "4    6.0             14.5  ...              74.5          176.5\n",
              "5    7.0             13.5  ...              70.0          225.0\n",
              "6    8.0               14  ...              79.5          225.0\n",
              "7    9.0               11  ...              67.0          195.5\n",
              "8   10.0                8  ...              38.5          131.5\n",
              "9   11.0             11.5  ...              41.0          150.0\n",
              "10  12.0              7.5  ...              45.0          163.0\n",
              "11  13.0             12.5  ...              59.5          181.0\n",
              "12  14.0              7.5  ...              23.5          131.0\n",
              "13  15.0              7.5  ...              64.0          180.5\n",
              "14  16.0                1  ...               2.0           52.0\n",
              "18  20.0              9.5  ...              25.5          117.0\n",
              "19  21.0             14.5  ...              47.0          144.0\n",
              "20  22.0                7  ...              55.5          174.5\n",
              "\n",
              "[18 rows x 12 columns]"
            ]
          },
          "metadata": {
            "tags": []
          },
          "execution_count": 32
        }
      ]
    },
    {
      "cell_type": "code",
      "metadata": {
        "id": "n-5B09Twq2rh",
        "colab_type": "code",
        "colab": {}
      },
      "source": [
        "%matplotlib inline"
      ],
      "execution_count": 0,
      "outputs": []
    },
    {
      "cell_type": "code",
      "metadata": {
        "id": "g6mEyIZxwX57",
        "colab_type": "code",
        "outputId": "1c715c32-76ad-44fe-de82-ac66aa0c9c45",
        "colab": {
          "base_uri": "https://localhost:8080/",
          "height": 283
        }
      },
      "source": [
        "df1['Mark total 300'].plot(kind='box')"
      ],
      "execution_count": 0,
      "outputs": [
        {
          "output_type": "execute_result",
          "data": {
            "text/plain": [
              "<matplotlib.axes._subplots.AxesSubplot at 0x7f2594733438>"
            ]
          },
          "metadata": {
            "tags": []
          },
          "execution_count": 42
        },
        {
          "output_type": "display_data",
          "data": {
            "image/png": "[encoded data removed]",
            "text/plain": [
              "<Figure size 432x288 with 1 Axes>"
            ]
          },
          "metadata": {
            "tags": [],
            "needs_background": "light"
          }
        }
      ]
    },
    {
      "cell_type": "code",
      "metadata": {
        "id": "CCidrsM6xtFR",
        "colab_type": "code",
        "outputId": "e16141e9-96c2-4e8b-b445-bfaa25b67a03",
        "colab": {
          "base_uri": "https://localhost:8080/",
          "height": 170
        }
      },
      "source": [
        "df1['Mark total 300'].describe()"
      ],
      "execution_count": 0,
      "outputs": [
        {
          "output_type": "execute_result",
          "data": {
            "text/plain": [
              "count     54.000000\n",
              "mean     165.324074\n",
              "std       35.735290\n",
              "min       52.000000\n",
              "25%      139.750000\n",
              "50%      165.250000\n",
              "75%      184.125000\n",
              "max      244.000000\n",
              "Name: Mark total 300, dtype: float64"
            ]
          },
          "metadata": {
            "tags": []
          },
          "execution_count": 44
        }
      ]
    },
    {
      "cell_type": "code",
      "metadata": {
        "id": "W4Q-SOT8yMmP",
        "colab_type": "code",
        "outputId": "645a3196-cf05-46e0-a7c2-a81d5f77bc68",
        "colab": {
          "base_uri": "https://localhost:8080/",
          "height": 298
        }
      },
      "source": [
        "df['Attendance (Marks: 15)'].value_counts().plot(kind = 'bar',rot='0',title = 'Attendence', color = 'g')"
      ],
      "execution_count": 0,
      "outputs": [
        {
          "output_type": "execute_result",
          "data": {
            "text/plain": [
              "<matplotlib.axes._subplots.AxesSubplot at 0x7f25940a1630>"
            ]
          },
          "metadata": {
            "tags": []
          },
          "execution_count": 49
        },
        {
          "output_type": "display_data",
          "data": {
            "image/png": "[encoded data removed]",
            "text/plain": [
              "<Figure size 432x288 with 1 Axes>"
            ]
          },
          "metadata": {
            "tags": [],
            "needs_background": "light"
          }
        }
      ]
    },
    {
      "cell_type": "code",
      "metadata": {
        "id": "bgarLo6nyjxU",
        "colab_type": "code",
        "outputId": "011a5cdc-7cb7-4ae6-e684-f9d93355b53b",
        "colab": {
          "base_uri": "https://localhost:8080/",
          "height": 295
        }
      },
      "source": [
        "df.plot.scatter(x='Roll', y='Mark total 300', color='c', title='scatter plot ');"
      ],
      "execution_count": 0,
      "outputs": [
        {
          "output_type": "display_data",
          "data": {
            "image/png": "[encoded data removed]",
            "text/plain": [
              "<Figure size 432x288 with 1 Axes>"
            ]
          },
          "metadata": {
            "tags": [],
            "needs_background": "light"
          }
        }
      ]
    },
    {
      "cell_type": "code",
      "metadata": {
        "id": "Nw6BJsEqysRW",
        "colab_type": "code",
        "colab": {}
      },
      "source": [
        "df1 = df1.astype(float) "
      ],
      "execution_count": 0,
      "outputs": []
    },
    {
      "cell_type": "code",
      "metadata": {
        "id": "pl1zdXQZ8wNR",
        "colab_type": "code",
        "outputId": "b5a93439-e75f-4686-ceee-4eb50654065e",
        "colab": {
          "base_uri": "https://localhost:8080/",
          "height": 295
        }
      },
      "source": [
        "df1.plot.scatter(x='Roll', y='Total (Marks: 90)', color='c', title='scatter plot ');\n"
      ],
      "execution_count": 0,
      "outputs": [
        {
          "output_type": "display_data",
          "data": {
            "image/png": "[encoded data removed]",
            "text/plain": [
              "<Figure size 432x288 with 1 Axes>"
            ]
          },
          "metadata": {
            "tags": [],
            "needs_background": "light"
          }
        }
      ]
    },
    {
      "cell_type": "code",
      "metadata": {
        "id": "24VZxGAiHiK3",
        "colab_type": "code",
        "colab": {}
      },
      "source": [
        "def new_column(val):\n",
        "  if((val['Mark total 300']/300)*100 > 75):\n",
        "    return 'A'\n",
        "  if((val['Mark total 300']/300)*100 > 65):\n",
        "    return 'B'  \n",
        "  if((val['Mark total 300']/300)*100 > 55):\n",
        "    return 'C'\n",
        "  if((val['Mark total 300']/300)*100 > 45):\n",
        "    return 'D'\n",
        "  if((val['Mark total 300']/300)*100 > 35):\n",
        "    return 'E'\n",
        "  else:\n",
        "    return 'F'  \n"
      ],
      "execution_count": 0,
      "outputs": []
    },
    {
      "cell_type": "code",
      "metadata": {
        "id": "LU2Fw8hpIx78",
        "colab_type": "code",
        "outputId": "703b7a1c-fea9-411f-9934-e2e736cde5e5",
        "colab": {
          "base_uri": "https://localhost:8080/",
          "height": 145
        }
      },
      "source": [
        "df1['Grade'] = df1.apply (lambda row: new_column(row), axis=1)\n",
        "df1[df1['Grade'] == 'A']"
      ],
      "execution_count": 0,
      "outputs": [
        {
          "output_type": "execute_result",
          "data": {
            "text/html": [
              "<div>\n",
              "<style scoped>\n",
              "    .dataframe tbody tr th:only-of-type {\n",
              "        vertical-align: middle;\n",
              "    }\n",
              "\n",
              "    .dataframe tbody tr th {\n",
              "        vertical-align: top;\n",
              "    }\n",
              "\n",
              "    .dataframe thead th {\n",
              "        text-align: right;\n",
              "    }\n",
              "</style>\n",
              "<table border=\"1\" class=\"dataframe\">\n",
              "  <thead>\n",
              "    <tr style=\"text-align: right;\">\n",
              "      <th></th>\n",
              "      <th>Roll</th>\n",
              "      <th>CT-1 (Marks: 20)</th>\n",
              "      <th>CT-2 (Marks: 20)</th>\n",
              "      <th>CT-3 (Marks: 20)</th>\n",
              "      <th>CT-4 (Marks: 20)</th>\n",
              "      <th>Class Test (Total of best 3, Marks: 60)</th>\n",
              "      <th>Attendance (Marks: 15)</th>\n",
              "      <th>Observation (Marks: 15)</th>\n",
              "      <th>Total (Marks: 90)</th>\n",
              "      <th>Exam Mark (105)</th>\n",
              "      <th>Exam Mark (105).1</th>\n",
              "      <th>Mark total 300</th>\n",
              "      <th>Grade</th>\n",
              "    </tr>\n",
              "  </thead>\n",
              "  <tbody>\n",
              "    <tr>\n",
              "      <th>39</th>\n",
              "      <td>41.0</td>\n",
              "      <td>9.0</td>\n",
              "      <td>20.0</td>\n",
              "      <td>8.0</td>\n",
              "      <td>15.0</td>\n",
              "      <td>44.0</td>\n",
              "      <td>15.0</td>\n",
              "      <td>15.0</td>\n",
              "      <td>74.0</td>\n",
              "      <td>89.0</td>\n",
              "      <td>81.0</td>\n",
              "      <td>244.0</td>\n",
              "      <td>A</td>\n",
              "    </tr>\n",
              "    <tr>\n",
              "      <th>50</th>\n",
              "      <td>52.0</td>\n",
              "      <td>12.5</td>\n",
              "      <td>18.0</td>\n",
              "      <td>15.0</td>\n",
              "      <td>11.0</td>\n",
              "      <td>45.5</td>\n",
              "      <td>15.0</td>\n",
              "      <td>15.0</td>\n",
              "      <td>75.5</td>\n",
              "      <td>60.0</td>\n",
              "      <td>97.0</td>\n",
              "      <td>232.5</td>\n",
              "      <td>A</td>\n",
              "    </tr>\n",
              "  </tbody>\n",
              "</table>\n",
              "</div>"
            ],
            "text/plain": [
              "    Roll  CT-1 (Marks: 20)  ...  Mark total 300  Grade\n",
              "39  41.0               9.0  ...           244.0      A\n",
              "50  52.0              12.5  ...           232.5      A\n",
              "\n",
              "[2 rows x 13 columns]"
            ]
          },
          "metadata": {
            "tags": []
          },
          "execution_count": 77
        }
      ]
    },
    {
      "cell_type": "code",
      "metadata": {
        "id": "dK5FoTUlTU8D",
        "colab_type": "code",
        "outputId": "afc47c53-29ae-40e9-ead3-cfafc39c11f7",
        "colab": {
          "base_uri": "https://localhost:8080/",
          "height": 136
        }
      },
      "source": [
        "df1.Grade.value_counts()"
      ],
      "execution_count": 0,
      "outputs": [
        {
          "output_type": "execute_result",
          "data": {
            "text/plain": [
              "C    17\n",
              "D    16\n",
              "E     9\n",
              "B     8\n",
              "F     2\n",
              "A     2\n",
              "Name: Grade, dtype: int64"
            ]
          },
          "metadata": {
            "tags": []
          },
          "execution_count": 78
        }
      ]
    },
    {
      "cell_type": "code",
      "metadata": {
        "id": "-wvLIaqOT4Ax",
        "colab_type": "code",
        "outputId": "91d1dd1b-8471-4e96-c99b-b9b2c097b8b9",
        "colab": {
          "base_uri": "https://localhost:8080/",
          "height": 281
        }
      },
      "source": [
        "df1.Grade.value_counts().plot(kind='bar',rot = 0, title='Grade count', color='c');"
      ],
      "execution_count": 0,
      "outputs": [
        {
          "output_type": "display_data",
          "data": {
            "image/png": "[encoded data removed]",
            "text/plain": [
              "<Figure size 432x288 with 1 Axes>"
            ]
          },
          "metadata": {
            "tags": [],
            "needs_background": "light"
          }
        }
      ]
    },
    {
      "cell_type": "code",
      "metadata": {
        "id": "1bTnRLUFVFXD",
        "colab_type": "code",
        "colab": {}
      },
      "source": [
        "df1."
      ],
      "execution_count": 0,
      "outputs": []
    }
  ]
}