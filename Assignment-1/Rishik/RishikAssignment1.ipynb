{
  "nbformat": 4,
  "nbformat_minor": 0,
  "metadata": {
    "colab": {
      "name": "RishikAssignment1.ipynb",
      "provenance": [],
      "collapsed_sections": []
    },
    "kernelspec": {
      "name": "python3",
      "display_name": "Python 3"
    }
  },
  "cells": [
    {
      "cell_type": "markdown",
      "metadata": {
        "id": "ZuT2wzyQRxPf",
        "colab_type": "text"
      },
      "source": [
        "***Analysation of data corresponding to San Francisco School District***"
      ]
    },
    {
      "cell_type": "code",
      "metadata": {
        "id": "naGOMewQGq34",
        "colab_type": "code",
        "colab": {}
      },
      "source": [
        "import numpy as np\n",
        "import pandas as pd\n",
        "import os\n",
        "import io\n",
        "from io import StringIO"
      ],
      "execution_count": 0,
      "outputs": []
    },
    {
      "cell_type": "code",
      "metadata": {
        "id": "PKPTIGC1Pdru",
        "colab_type": "code",
        "outputId": "04fc6dd0-2661-4d30-c54d-8b6af0186459",
        "colab": {
          "resources": {
            "http://localhost:8080/nbextensions/google.colab/files.js": {
              "data": "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",
              "ok": true,
              "headers": [
                [
                  "content-type",
                  "application/javascript"
                ]
              ],
              "status": 200,
              "status_text": ""
            }
          },
          "base_uri": "https://localhost:8080/",
          "height": 74
        }
      },
      "source": [
        "from google.colab import files\n",
        "uploaded=files.upload()"
      ],
      "execution_count": 0,
      "outputs": [
        {
          "output_type": "display_data",
          "data": {
            "text/html": [
              "\n",
              "     <input type=\"file\" id=\"files-5a1d14fe-4101-4cfc-a3a1-e34497ee7d46\" name=\"files[]\" multiple disabled />\n",
              "     <output id=\"result-5a1d14fe-4101-4cfc-a3a1-e34497ee7d46\">\n",
              "      Upload widget is only available when the cell has been executed in the\n",
              "      current browser session. Please rerun this cell to enable.\n",
              "      </output>\n",
              "      <script src=\"/nbextensions/google.colab/files.js\"></script> "
            ],
            "text/plain": [
              "<IPython.core.display.HTML object>"
            ]
          },
          "metadata": {
            "tags": []
          }
        },
        {
          "output_type": "stream",
          "text": [
            "Saving dataset.csv to dataset (2).csv\n"
          ],
          "name": "stdout"
        }
      ]
    },
    {
      "cell_type": "code",
      "metadata": {
        "id": "eIwQNd8IGtLi",
        "colab_type": "code",
        "colab": {}
      },
      "source": [
        "dat=pd.read_csv(io.BytesIO(uploaded['dataset.csv']))\n"
      ],
      "execution_count": 0,
      "outputs": []
    },
    {
      "cell_type": "code",
      "metadata": {
        "id": "vYNfi58YTT5J",
        "colab_type": "code",
        "colab": {}
      },
      "source": [
        "dat.info()"
      ],
      "execution_count": 0,
      "outputs": []
    },
    {
      "cell_type": "code",
      "metadata": {
        "id": "sZhgcr5IVMqd",
        "colab_type": "code",
        "colab": {}
      },
      "source": [
        "dat.head()"
      ],
      "execution_count": 0,
      "outputs": []
    },
    {
      "cell_type": "markdown",
      "metadata": {
        "id": "mAlM3eFLyGUB",
        "colab_type": "text"
      },
      "source": [
        "Filling the rolls"
      ]
    },
    {
      "cell_type": "code",
      "metadata": {
        "id": "SQl1B8aVWU_5",
        "colab_type": "code",
        "colab": {}
      },
      "source": [
        "for ind,row in dat.iterrows():\n",
        "  dat.Roll[ind]=ind+2  \n",
        "#thereby filling roll numbers"
      ],
      "execution_count": 0,
      "outputs": []
    },
    {
      "cell_type": "code",
      "metadata": {
        "id": "CVUAu1uOfY9v",
        "colab_type": "code",
        "colab": {}
      },
      "source": [
        "df=dat.copy()\n",
        "df.rename(columns = {'CT-1 (Marks: 20)':'CT_1'}, inplace = True)\n",
        "df.rename(columns = {'CT-2 (Marks: 20)':'CT_2'}, inplace = True)\n",
        "df.rename(columns = {'CT-3 (Marks: 20)':'CT_3'}, inplace = True)\n",
        "df.rename(columns = {'CT-4 (Marks: 20)':'CT_4'}, inplace = True)\n",
        "df.rename(columns = {'Class Test (Total of best 3, Marks: 60)':'CT_best'}, inplace = True)\n",
        "df.rename(columns = {'Attendance (Marks: 15)':'Attendance'}, inplace = True)\n",
        "df.rename(columns = {'Observation (Marks: 15)':'Observation'}, inplace = True)\n",
        "df.rename(columns = {'Total (Marks: 90)':'Total'}, inplace = True)\n",
        "df.rename(columns = {'Exam Mark (105)':'ExamMark105'}, inplace = True)\n",
        "df.rename(columns = {'Exam Mark (105).1':'ExamMark105_1'}, inplace = True)\n",
        "df.rename(columns = {'Mark total 300':'Marks_Total'}, inplace = True)\n",
        "#Renaming columns"
      ],
      "execution_count": 0,
      "outputs": []
    },
    {
      "cell_type": "code",
      "metadata": {
        "id": "Bdta8Jmv1dXu",
        "colab_type": "code",
        "colab": {}
      },
      "source": [
        "df.info()"
      ],
      "execution_count": 0,
      "outputs": []
    },
    {
      "cell_type": "code",
      "metadata": {
        "id": "J4ougXYF2qJc",
        "colab_type": "code",
        "colab": {}
      },
      "source": [
        "df[df.CT_1.isnull()]"
      ],
      "execution_count": 0,
      "outputs": []
    },
    {
      "cell_type": "markdown",
      "metadata": {
        "id": "E1qipXh4fd_J",
        "colab_type": "text"
      },
      "source": [
        "Filling ExamMark105"
      ]
    },
    {
      "cell_type": "code",
      "metadata": {
        "id": "yxzU--Zl-hA0",
        "colab_type": "code",
        "colab": {}
      },
      "source": [
        "df.ExamMark105.value_counts()"
      ],
      "execution_count": 0,
      "outputs": []
    },
    {
      "cell_type": "code",
      "metadata": {
        "id": "RF7sYsxMevcH",
        "colab_type": "code",
        "colab": {}
      },
      "source": [
        "df[df.ExamMark105.isnull()] "
      ],
      "execution_count": 0,
      "outputs": []
    },
    {
      "cell_type": "code",
      "metadata": {
        "id": "Ajjb-VkTe57d",
        "colab_type": "code",
        "colab": {}
      },
      "source": [
        "df.ExamMark105.mean() #35.9"
      ],
      "execution_count": 0,
      "outputs": []
    },
    {
      "cell_type": "code",
      "metadata": {
        "id": "wQ4e4i5YfyER",
        "colab_type": "code",
        "colab": {}
      },
      "source": [
        "df.ExamMark105.median() #35.5"
      ],
      "execution_count": 0,
      "outputs": []
    },
    {
      "cell_type": "markdown",
      "metadata": {
        "id": "8b0p5mZpf4ho",
        "colab_type": "text"
      },
      "source": [
        "Median and Mean are too close, So we shall fill NaN of ExamMark105 with Median"
      ]
    },
    {
      "cell_type": "code",
      "metadata": {
        "id": "-N08UOEMgBPn",
        "colab_type": "code",
        "colab": {}
      },
      "source": [
        "df.ExamMark105.fillna(df.ExamMark105.median(),inplace=True)\n",
        "#Thereby filling ExamMark105 with values"
      ],
      "execution_count": 0,
      "outputs": []
    },
    {
      "cell_type": "code",
      "metadata": {
        "id": "cYkSGqrajtt5",
        "colab_type": "code",
        "colab": {}
      },
      "source": [
        "df[df.ExamMark105.isnull()]"
      ],
      "execution_count": 0,
      "outputs": []
    },
    {
      "cell_type": "code",
      "metadata": {
        "id": "65VKIgmdhUv-",
        "colab_type": "code",
        "colab": {}
      },
      "source": [
        "df.ExamMark105_1.mean() #57.5"
      ],
      "execution_count": 0,
      "outputs": []
    },
    {
      "cell_type": "code",
      "metadata": {
        "id": "75VdGy_9h0J_",
        "colab_type": "code",
        "colab": {}
      },
      "source": [
        "df.ExamMark105_1.median() #59.75"
      ],
      "execution_count": 0,
      "outputs": []
    },
    {
      "cell_type": "markdown",
      "metadata": {
        "id": "6urXQHAwjOJG",
        "colab_type": "text"
      },
      "source": [
        "Median and Mean are too close, So we shall fill NaN of ExamMark105_1 with Median"
      ]
    },
    {
      "cell_type": "code",
      "metadata": {
        "id": "PStiO1swjS9J",
        "colab_type": "code",
        "colab": {}
      },
      "source": [
        "df.ExamMark105_1.fillna(df.ExamMark105_1.median(),inplace=True)\n",
        "#Thereby filling ExamMark105_1 with values"
      ],
      "execution_count": 0,
      "outputs": []
    },
    {
      "cell_type": "code",
      "metadata": {
        "id": "v6FnpUWgpTv9",
        "colab_type": "code",
        "colab": {}
      },
      "source": [
        "df['CT_1']=pd.to_numeric(df['CT_1'],errors='coerce')\n",
        "df['CT_2']=pd.to_numeric(df['CT_2'],errors='coerce')\n",
        "df['CT_3']=pd.to_numeric(df['CT_3'],errors='coerce')\n",
        "df['CT_4']=pd.to_numeric(df['CT_4'],errors='coerce')\n",
        "df['CT_best']=pd.to_numeric(df['CT_best'],errors='coerce')\n",
        "df['Attendance']=pd.to_numeric(df['Attendance'],errors='coerce')\n",
        "df['Observation']=pd.to_numeric(df['Observation'],errors='coerce')\n",
        "df['Total']=pd.to_numeric(df['Total'],errors='coerce')"
      ],
      "execution_count": 0,
      "outputs": []
    },
    {
      "cell_type": "code",
      "metadata": {
        "id": "XT0p8Auapd4s",
        "colab_type": "code",
        "colab": {}
      },
      "source": [
        "df.info()"
      ],
      "execution_count": 0,
      "outputs": []
    },
    {
      "cell_type": "code",
      "metadata": {
        "id": "xWKLrbNSth9z",
        "colab_type": "code",
        "colab": {}
      },
      "source": [
        "print(df['CT_1'].median())        #11.0\n",
        "print(df['CT_2'].median())        #15.25\n",
        "print(df['CT_3'].median())        #14.25\n",
        "print(df['CT_4'].median())        #10.0\n",
        "print(df['Attendance'].median())  #15.0\n",
        "print(df['Observation'].median()) #13.5"
      ],
      "execution_count": 0,
      "outputs": []
    },
    {
      "cell_type": "code",
      "metadata": {
        "id": "xwdG-4_MuKh5",
        "colab_type": "code",
        "colab": {}
      },
      "source": [
        "print(df['CT_1'].mean())  #11\n",
        "print(df['CT_2'].mean())  #15\n",
        "print(df['CT_3'].mean())  #14\n",
        "print(df['CT_4'].mean())  #9.8\n",
        "print(df['Attendance'].mean())  #14.8\n",
        "print(df['Observation'].mean()) #13.75"
      ],
      "execution_count": 0,
      "outputs": []
    },
    {
      "cell_type": "markdown",
      "metadata": {
        "id": "Mv8ZTxURvopH",
        "colab_type": "text"
      },
      "source": [
        "Since means and medians are too near, probability of values being one of them is clear...As they do have outliers, filling NaNs with medians would be proper\n"
      ]
    },
    {
      "cell_type": "code",
      "metadata": {
        "id": "FBEnACeTuY2f",
        "colab_type": "code",
        "colab": {}
      },
      "source": [
        "df.CT_1.fillna(df['CT_1'].median(),inplace=True)\n",
        "df.CT_2.fillna(df['CT_2'].median(),inplace=True)\n",
        "df.CT_3.fillna(df['CT_3'].median(),inplace=True)\n",
        "df.CT_4.fillna(df['CT_4'].median(),inplace=True)\n",
        "df.CT_1.fillna(df['CT_1'].median(),inplace=True)\n",
        "df.CT_2.fillna(df['CT_2'].median(),inplace=True)\n",
        "df.CT_3.fillna(df['CT_3'].median(),inplace=True)\n",
        "df.CT_4.fillna(df['CT_4'].median(),inplace=True)\n",
        "df.Attendance.fillna(df['Attendance'].median(),inplace=True)\n",
        "df.Observation.fillna(df['Observation'].median(),inplace=True)"
      ],
      "execution_count": 0,
      "outputs": []
    },
    {
      "cell_type": "code",
      "metadata": {
        "id": "F9_PeMrZurtW",
        "colab_type": "code",
        "colab": {}
      },
      "source": [
        "df.info()"
      ],
      "execution_count": 0,
      "outputs": []
    },
    {
      "cell_type": "markdown",
      "metadata": {
        "id": "CItqDlcUinaZ",
        "colab_type": "text"
      },
      "source": [
        "Filling CT_best, Total, Marks_Total"
      ]
    },
    {
      "cell_type": "code",
      "metadata": {
        "id": "9M8RKFCZxBws",
        "colab_type": "code",
        "colab": {}
      },
      "source": [
        "def minimum(a,b,c,d):\n",
        "  list=[a,b,c,d]\n",
        "  return min(list)\n",
        "for ind,x in df.iterrows():\n",
        " df.loc[ind,'CT_best']=df.loc[ind,'CT_1']+df.loc[ind,'CT_2']+df.loc[ind,'CT_3']+df.loc[ind,'CT_4']-minimum(df.loc[ind,'CT_1'],df.loc[ind,'CT_2'],df.loc[ind,'CT_3'],df.loc[ind,'CT_4'])\n",
        " df.loc[ind,'Total']=df.loc[ind,'Attendance']+df.loc[ind,'Observation']+df.loc[ind,'CT_best']\n",
        " df.loc[ind,'Marks_Total']=df.loc[ind,'Total']+df.loc[ind,'ExamMark105']+df.loc[ind,'ExamMark105_1']"
      ],
      "execution_count": 0,
      "outputs": []
    },
    {
      "cell_type": "markdown",
      "metadata": {
        "id": "h8-7BoiVitjZ",
        "colab_type": "text"
      },
      "source": [
        "Thereby filling data.."
      ]
    },
    {
      "cell_type": "code",
      "metadata": {
        "id": "VW8-1QpXifKd",
        "colab_type": "code",
        "outputId": "82de052e-2dcf-4372-8921-2a1d274637b1",
        "colab": {
          "base_uri": "https://localhost:8080/",
          "height": 340
        }
      },
      "source": [
        "df.info()"
      ],
      "execution_count": 0,
      "outputs": [
        {
          "output_type": "stream",
          "text": [
            "<class 'pandas.core.frame.DataFrame'>\n",
            "RangeIndex: 63 entries, 0 to 62\n",
            "Data columns (total 12 columns):\n",
            " #   Column         Non-Null Count  Dtype  \n",
            "---  ------         --------------  -----  \n",
            " 0   Roll           63 non-null     float64\n",
            " 1   CT_1           63 non-null     float64\n",
            " 2   CT_2           63 non-null     float64\n",
            " 3   CT_3           63 non-null     float64\n",
            " 4   CT_4           63 non-null     float64\n",
            " 5   CT_best        63 non-null     float64\n",
            " 6   Attendance     63 non-null     float64\n",
            " 7   Observation    63 non-null     float64\n",
            " 8   Total          63 non-null     float64\n",
            " 9   ExamMark105    63 non-null     float64\n",
            " 10  ExamMark105_1  63 non-null     float64\n",
            " 11  Marks_Total    63 non-null     float64\n",
            "dtypes: float64(12)\n",
            "memory usage: 6.0 KB\n"
          ],
          "name": "stdout"
        }
      ]
    },
    {
      "cell_type": "markdown",
      "metadata": {
        "id": "NHEDRFp9yaVN",
        "colab_type": "text"
      },
      "source": [
        "Ending up filling of data with Zero nulls"
      ]
    },
    {
      "cell_type": "code",
      "metadata": {
        "id": "9xB6uJXOjXdl",
        "colab_type": "code",
        "outputId": "df9514ae-268d-476c-f172-cd57640bb44b",
        "colab": {
          "base_uri": "https://localhost:8080/",
          "height": 85
        }
      },
      "source": [
        "df['Attendance'].value_counts()"
      ],
      "execution_count": 0,
      "outputs": [
        {
          "output_type": "execute_result",
          "data": {
            "text/plain": [
              "15.0    58\n",
              "13.5     4\n",
              "10.5     1\n",
              "Name: Attendance, dtype: int64"
            ]
          },
          "metadata": {
            "tags": []
          },
          "execution_count": 43
        }
      ]
    },
    {
      "cell_type": "markdown",
      "metadata": {
        "id": "k5kBelrzoRzt",
        "colab_type": "text"
      },
      "source": [
        "**Most of the students are attending regularly**.....\n",
        "**Assumption**: Zero Proxies\n"
      ]
    },
    {
      "cell_type": "code",
      "metadata": {
        "id": "TMpLJ9F-sP7e",
        "colab_type": "code",
        "colab": {}
      },
      "source": [
        "print(df['Marks_Total'].mean())\n",
        "print(df['Marks_Total'].median())"
      ],
      "execution_count": 0,
      "outputs": []
    },
    {
      "cell_type": "markdown",
      "metadata": {
        "id": "PA_DxIoTsrgo",
        "colab_type": "text"
      },
      "source": [
        "Avg mark of class : 165.3"
      ]
    },
    {
      "cell_type": "markdown",
      "metadata": {
        "id": "oe3Epdv-Q8ne",
        "colab_type": "text"
      },
      "source": [
        "***Lets See Analysis by each class test***"
      ]
    },
    {
      "cell_type": "code",
      "metadata": {
        "id": "WjNCyGRA7492",
        "colab_type": "code",
        "outputId": "bb0a6f99-0273-49dc-fb6d-ba3fb480b54e",
        "colab": {
          "base_uri": "https://localhost:8080/",
          "height": 102
        }
      },
      "source": [
        "gp=df.groupby(['Attendance'])\n",
        "gp['CT_1'].agg(np.mean)"
      ],
      "execution_count": 0,
      "outputs": [
        {
          "output_type": "execute_result",
          "data": {
            "text/plain": [
              "Attendance\n",
              "10.5    16.000000\n",
              "13.5     5.750000\n",
              "15.0    11.396552\n",
              "Name: CT_1, dtype: float64"
            ]
          },
          "metadata": {
            "tags": []
          },
          "execution_count": 44
        }
      ]
    },
    {
      "cell_type": "markdown",
      "metadata": {
        "id": "FUAnS3DF9TCv",
        "colab_type": "text"
      },
      "source": [
        "\n",
        "*   Students with less attendance got more marks in first class test\n",
        "*   People with attendance of 90% have less mean marks compared to other      students"
      ]
    },
    {
      "cell_type": "code",
      "metadata": {
        "id": "lkgukK_e8xd2",
        "colab_type": "code",
        "colab": {}
      },
      "source": [
        "print(df['CT_1'].value_counts())\n",
        "print(df['CT_1'].mean())"
      ],
      "execution_count": 0,
      "outputs": []
    },
    {
      "cell_type": "markdown",
      "metadata": {
        "id": "I9LuFf_L-GQH",
        "colab_type": "text"
      },
      "source": [
        "Most of students in class are just above average"
      ]
    },
    {
      "cell_type": "code",
      "metadata": {
        "id": "Ax0DmF9b-LXO",
        "colab_type": "code",
        "outputId": "b387ca54-0100-4ebd-ecaf-d88c07f3c280",
        "colab": {
          "base_uri": "https://localhost:8080/",
          "height": 295
        }
      },
      "source": [
        "df.plot.scatter(x='Attendance',y='CT_1',title='Scatter plot: Attendance Vs CT-1');"
      ],
      "execution_count": 0,
      "outputs": [
        {
          "output_type": "display_data",
          "data": {
            "image/png": "[encoded data removed]",
            "text/plain": [
              "<Figure size 432x288 with 1 Axes>"
            ]
          },
          "metadata": {
            "tags": [],
            "needs_background": "light"
          }
        }
      ]
    },
    {
      "cell_type": "code",
      "metadata": {
        "id": "2VbIBfeE_Jni",
        "colab_type": "code",
        "outputId": "e70c72d7-8063-4248-a29c-f3634cc21076",
        "colab": {
          "base_uri": "https://localhost:8080/",
          "height": 295
        }
      },
      "source": [
        "df.plot.scatter(x='Attendance',y='CT_2',title='Scatter plot: Attendance Vs CT-2');"
      ],
      "execution_count": 0,
      "outputs": [
        {
          "output_type": "display_data",
          "data": {
            "image/png": "[encoded data removed]",
            "text/plain": [
              "<Figure size 432x288 with 1 Axes>"
            ]
          },
          "metadata": {
            "tags": [],
            "needs_background": "light"
          }
        }
      ]
    },
    {
      "cell_type": "code",
      "metadata": {
        "id": "LFAIVbrn_SK4",
        "colab_type": "code",
        "outputId": "49e8aa07-f03f-42d1-b4d6-051e4deaa398",
        "colab": {
          "base_uri": "https://localhost:8080/",
          "height": 295
        }
      },
      "source": [
        "df.plot.scatter(x='Attendance',y='CT_3',title='Scatter plot: Attendance Vs CT-3');"
      ],
      "execution_count": 0,
      "outputs": [
        {
          "output_type": "display_data",
          "data": {
            "image/png": "[encoded data removed]",
            "text/plain": [
              "<Figure size 432x288 with 1 Axes>"
            ]
          },
          "metadata": {
            "tags": [],
            "needs_background": "light"
          }
        }
      ]
    },
    {
      "cell_type": "markdown",
      "metadata": {
        "id": "EBLT-bhx-TEH",
        "colab_type": "text"
      },
      "source": [
        "A student is class has scored relatively good marks when compared to others who have good attendance, This guy proved self study is best but other guys seem too studious, attending classes much."
      ]
    },
    {
      "cell_type": "code",
      "metadata": {
        "id": "j-bmWSkH_R5W",
        "colab_type": "code",
        "outputId": "35d3fe4f-cb43-41ab-b944-c901f2ce0646",
        "colab": {
          "base_uri": "https://localhost:8080/",
          "height": 295
        }
      },
      "source": [
        "df.plot.scatter(x='Attendance',y='CT_4',title='Scatter plot: Attendance Vs CT-4');"
      ],
      "execution_count": 0,
      "outputs": [
        {
          "output_type": "display_data",
          "data": {
            "image/png": "[encoded data removed]",
            "text/plain": [
              "<Figure size 432x288 with 1 Axes>"
            ]
          },
          "metadata": {
            "tags": [],
            "needs_background": "light"
          }
        }
      ]
    },
    {
      "cell_type": "markdown",
      "metadata": {
        "id": "EugxcFGe_QnH",
        "colab_type": "text"
      },
      "source": [
        "In all tests other than CT-4, that student was able to score good,\n",
        "But in CT-4 he dint score well or maybe he is absent."
      ]
    },
    {
      "cell_type": "code",
      "metadata": {
        "id": "CxzRkzK3_2Dw",
        "colab_type": "code",
        "outputId": "f15e4992-8b1c-4804-e710-ab6c1452539d",
        "colab": {
          "base_uri": "https://localhost:8080/",
          "height": 221
        }
      },
      "source": [
        "unique_index = pd.Index(list(df['Attendance']))\n",
        "df.iloc[unique_index.get_loc(df['Attendance'].min())]\n",
        "print(\"CT-1 mean: \") \n",
        "print(df['CT_1'].mean())\n",
        "print(\"CT-2 mean: \") \n",
        "print(df['CT_2'].mean())\n",
        "print(\"CT-3 mean: \") \n",
        "print(df['CT_3'].mean())\n",
        "print(\"CT-4 mean: \") \n",
        "print(df['CT_4'].mean())\n",
        "print(\"ExamMark105 mean: \") \n",
        "print(df['ExamMark105'].mean())\n",
        "print(\"ExamMark105_1 mean: \") \n",
        "print(df['ExamMark105_1'].mean())\n"
      ],
      "execution_count": 0,
      "outputs": [
        {
          "output_type": "stream",
          "text": [
            "CT-1 mean: \n",
            "11.11111111111111\n",
            "CT-2 mean: \n",
            "15.035714285714286\n",
            "CT-3 mean: \n",
            "14.01984126984127\n",
            "CT-4 mean: \n",
            "9.880952380952381\n",
            "ExamMark105 mean: \n",
            "35.904761904761905\n",
            "ExamMark105_1 mean: \n",
            "57.8531746031746\n"
          ],
          "name": "stdout"
        }
      ]
    },
    {
      "cell_type": "markdown",
      "metadata": {
        "id": "3JavSM-3yqwb",
        "colab_type": "text"
      },
      "source": [
        "Examining  means of CTs to understand how they are related to attendance"
      ]
    },
    {
      "cell_type": "code",
      "metadata": {
        "id": "zdafgVhpMsY_",
        "colab_type": "code",
        "outputId": "ac8ea6bb-69df-42d0-ffae-53e15d06674f",
        "colab": {
          "base_uri": "https://localhost:8080/",
          "height": 238
        }
      },
      "source": [
        "unique_index = pd.Index(list(df['Attendance']))\n",
        "df.iloc[unique_index.get_loc(df['Attendance'].min())]"
      ],
      "execution_count": 0,
      "outputs": [
        {
          "output_type": "execute_result",
          "data": {
            "text/plain": [
              "Roll              47.0\n",
              "CT_1              16.0\n",
              "CT_2              15.5\n",
              "CT_3              15.0\n",
              "CT_4               0.0\n",
              "CT_best           46.5\n",
              "Attendance        10.5\n",
              "Observation       13.5\n",
              "Total             70.5\n",
              "ExamMark105        9.0\n",
              "ExamMark105_1     57.0\n",
              "Marks_Total      136.5\n",
              "Name: 45, dtype: float64"
            ]
          },
          "metadata": {
            "tags": []
          },
          "execution_count": 51
        }
      ]
    },
    {
      "cell_type": "markdown",
      "metadata": {
        "id": "ftfmcI3Fy6Vg",
        "colab_type": "text"
      },
      "source": [
        "This is info of that talented student who has less attendance but scored well compared to others"
      ]
    },
    {
      "cell_type": "markdown",
      "metadata": {
        "id": "_oaxdGH3JeB2",
        "colab_type": "text"
      },
      "source": [
        "The student with minimum attendance has crossed average marks of all CTs (except one-maybe he is absent for that) but he got less than average in next Exams (105 and 105.1)"
      ]
    },
    {
      "cell_type": "markdown",
      "metadata": {
        "id": "iCNp7rxONjuY",
        "colab_type": "text"
      },
      "source": [
        "Observing overall class performance,\n",
        "\n",
        "* Mean marks of class reduced too much after first 3 CTs\n",
        "* In CT-4, class not only performed really bad but also some students were absent to the exam too......\n",
        "\n",
        "\n"
      ]
    },
    {
      "cell_type": "code",
      "metadata": {
        "id": "oKvvIBx8QomW",
        "colab_type": "code",
        "outputId": "34cca1f9-cb24-4b05-c892-04cfee853297",
        "colab": {
          "base_uri": "https://localhost:8080/",
          "height": 270
        }
      },
      "source": [
        "df.plot.hexbin(x='Attendance',y='Marks_Total',gridsize=10,title='Scatter plot: Attendance Vs Marks');"
      ],
      "execution_count": 0,
      "outputs": [
        {
          "output_type": "display_data",
          "data": {
            "image/png": "[encoded data removed]",
            "text/plain": [
              "<Figure size 432x288 with 2 Axes>"
            ]
          },
          "metadata": {
            "tags": [],
            "needs_background": "light"
          }
        }
      ]
    },
    {
      "cell_type": "code",
      "metadata": {
        "id": "4DJ832J1Ounp",
        "colab_type": "code",
        "outputId": "6ab1199a-6ea2-4359-8487-116bc95a27f6",
        "colab": {
          "base_uri": "https://localhost:8080/",
          "height": 295
        }
      },
      "source": [
        "df.plot.scatter(x='Attendance',y='Marks_Total',title='Scatter plot: Attendance Vs Marks');"
      ],
      "execution_count": 0,
      "outputs": [
        {
          "output_type": "display_data",
          "data": {
            "image/png": "[encoded data removed]",
            "text/plain": [
              "<Figure size 432x288 with 1 Axes>"
            ]
          },
          "metadata": {
            "tags": [],
            "needs_background": "light"
          }
        }
      ]
    },
    {
      "cell_type": "markdown",
      "metadata": {
        "id": "0otkDRR8O8D3",
        "colab_type": "text"
      },
      "source": [
        "One guy who is not regular got marks higher than some people who regularly attended classes.."
      ]
    },
    {
      "cell_type": "markdown",
      "metadata": {
        "id": "gKeS-NoBPe5Q",
        "colab_type": "text"
      },
      "source": [
        "From Graph,\n",
        "\n",
        "*   The Student who got less than 100marks has 100% attendance..\n",
        "*   Students with marks more than 200 have 100% attendance..\n",
        "\n"
      ]
    },
    {
      "cell_type": "code",
      "metadata": {
        "id": "LemBH0x7QGOR",
        "colab_type": "code",
        "outputId": "29874877-55c9-4f8a-822b-3ea294b91f3e",
        "colab": {
          "base_uri": "https://localhost:8080/",
          "height": 170
        }
      },
      "source": [
        "df['Marks_Total'].describe()"
      ],
      "execution_count": 0,
      "outputs": [
        {
          "output_type": "execute_result",
          "data": {
            "text/plain": [
              "count     63.000000\n",
              "mean     165.313492\n",
              "std       33.039961\n",
              "min       52.000000\n",
              "25%      145.500000\n",
              "50%      165.250000\n",
              "75%      180.750000\n",
              "max      244.000000\n",
              "Name: Marks_Total, dtype: float64"
            ]
          },
          "metadata": {
            "tags": []
          },
          "execution_count": 54
        }
      ]
    },
    {
      "cell_type": "markdown",
      "metadata": {
        "id": "pclqfs-CQNLp",
        "colab_type": "text"
      },
      "source": [
        "50% of the class is above average"
      ]
    }
  ]
}