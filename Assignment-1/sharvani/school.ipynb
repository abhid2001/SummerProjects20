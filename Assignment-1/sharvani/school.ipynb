{
 "cells": [
  {
   "cell_type": "markdown",
   "metadata": {
    "colab_type": "text",
    "id": "IYAlCR1WV3qB"
   },
   "source": [
    "#Extracting and Organising data"
   ]
  },
  {
   "cell_type": "code",
   "execution_count": 0,
   "metadata": {
    "colab": {},
    "colab_type": "code",
    "id": "RZueLVTVjPdd"
   },
   "outputs": [],
   "source": []
  },
  {
   "cell_type": "code",
   "execution_count": 1,
   "metadata": {
    "colab": {
     "base_uri": "https://localhost:8080/",
     "height": 1000
    },
    "colab_type": "code",
    "id": "khn1L4CzjSvm",
    "outputId": "5a32fd69-fc88-43a7-c5b5-cb9785da8ee6"
   },
   "outputs": [
    {
     "ename": "ModuleNotFoundError",
     "evalue": "No module named 'google.colab'",
     "output_type": "error",
     "traceback": [
      "\u001b[0;31m---------------------------------------------------------------------------\u001b[0m",
      "\u001b[0;31mModuleNotFoundError\u001b[0m                       Traceback (most recent call last)",
      "\u001b[0;32m<ipython-input-1-670485ded58e>\u001b[0m in \u001b[0;36m<module>\u001b[0;34m\u001b[0m\n\u001b[1;32m      4\u001b[0m \u001b[0;32mfrom\u001b[0m \u001b[0mpydrive\u001b[0m\u001b[0;34m.\u001b[0m\u001b[0mauth\u001b[0m \u001b[0;32mimport\u001b[0m \u001b[0mGoogleAuth\u001b[0m\u001b[0;34m\u001b[0m\u001b[0;34m\u001b[0m\u001b[0m\n\u001b[1;32m      5\u001b[0m \u001b[0;32mfrom\u001b[0m \u001b[0mpydrive\u001b[0m\u001b[0;34m.\u001b[0m\u001b[0mdrive\u001b[0m \u001b[0;32mimport\u001b[0m \u001b[0mGoogleDrive\u001b[0m\u001b[0;34m\u001b[0m\u001b[0;34m\u001b[0m\u001b[0m\n\u001b[0;32m----> 6\u001b[0;31m \u001b[0;32mfrom\u001b[0m \u001b[0mgoogle\u001b[0m\u001b[0;34m.\u001b[0m\u001b[0mcolab\u001b[0m \u001b[0;32mimport\u001b[0m \u001b[0mauth\u001b[0m\u001b[0;34m\u001b[0m\u001b[0;34m\u001b[0m\u001b[0m\n\u001b[0m\u001b[1;32m      7\u001b[0m \u001b[0;32mfrom\u001b[0m \u001b[0moauth2client\u001b[0m\u001b[0;34m.\u001b[0m\u001b[0mclient\u001b[0m \u001b[0;32mimport\u001b[0m \u001b[0mGoogleCredentials\u001b[0m\u001b[0;34m\u001b[0m\u001b[0;34m\u001b[0m\u001b[0m\n\u001b[1;32m      8\u001b[0m \u001b[0;34m\u001b[0m\u001b[0m\n",
      "\u001b[0;31mModuleNotFoundError\u001b[0m: No module named 'google.colab'"
     ]
    }
   ],
   "source": [
    "# Import PyDrive and associated libraries.\n",
    "# This only needs to be done once per notebook.\n",
    "!pip install -U -q PyDrive\n",
    "from pydrive.auth import GoogleAuth\n",
    "from pydrive.drive import GoogleDrive\n",
    "from google.colab import auth\n",
    "from oauth2client.client import GoogleCredentials\n",
    "\n",
    "# Authenticate and create the PyDrive client.\n",
    "# This only needs to be done once per notebook.\n",
    "auth.authenticate_user()\n",
    "gauth = GoogleAuth()\n",
    "gauth.credentials = GoogleCredentials.get_application_default()\n",
    "drive = GoogleDrive(gauth)\n",
    "\n",
    "# Download a file based on its file ID.\n",
    "#\n",
    "# A file ID looks like: laggVyWshwcyP6kEI-y_W3P8D26sz\n",
    "file_id = '1K8Nbeof6Pb0ebvL-OZOQPRqxgZNEjqzm'\n",
    "downloaded = drive.CreateFile({'id': file_id})\n",
    "downloaded.GetContentFile('dataset-dataset.csv') \n",
    "print('Downloaded content \"{}\"'.format(downloaded.GetContentString()))"
   ]
  },
  {
   "cell_type": "markdown",
   "metadata": {
    "colab_type": "text",
    "id": "lM7LYme1WFvw"
   },
   "source": [
    "# Exploring data\n",
    "\n"
   ]
  },
  {
   "cell_type": "code",
   "execution_count": 2,
   "metadata": {
    "colab": {},
    "colab_type": "code",
    "id": "1mUrJQJKXOEb"
   },
   "outputs": [],
   "source": [
    "import numpy as np\n",
    "import pandas as pd\n",
    "import os"
   ]
  },
  {
   "cell_type": "code",
   "execution_count": 3,
   "metadata": {
    "colab": {},
    "colab_type": "code",
    "id": "pUs8Fmi2Zpgg"
   },
   "outputs": [],
   "source": [
    "# train_file_path = \"/home/somayaji/school/data/raw/dataset - dataset.csv\"\n",
    "# raw_file_path = \"/content/dataset - dataset.csv\"\n",
    "# url= \"https://drive.google.com/file/d/1nwFfMOJgzEc15T0vBvd4nNd94Z_5J2rL/edit\"\n",
    "# url=\"https://docs.google.com/spreadsheets/d/1T-VoYEbxBrmUgciujk5I8e208e7tRDVJvEcNpcMJZuE/edit#gid=529810701\"\n",
    "# url = \"https://docs.google.com/spreadsheets/d/1T-VoYEbxBrmUgciujk5I8e208e7tRDVJvEcNpcMJZuE/edit?usp=sharing\"\n",
    "url= \"https://drive.google.com/open?id=1K8Nbeof6Pb0ebvL-OZOQPRqxgZNEjqzm\""
   ]
  },
  {
   "cell_type": "code",
   "execution_count": 4,
   "metadata": {
    "colab": {},
    "colab_type": "code",
    "id": "2LlXnUw6XOEx"
   },
   "outputs": [
    {
     "ename": "FileNotFoundError",
     "evalue": "[Errno 2] File dataset-dataset.csv does not exist: 'dataset-dataset.csv'",
     "output_type": "error",
     "traceback": [
      "\u001b[0;31m---------------------------------------------------------------------------\u001b[0m",
      "\u001b[0;31mFileNotFoundError\u001b[0m                         Traceback (most recent call last)",
      "\u001b[0;32m<ipython-input-4-8973b724a328>\u001b[0m in \u001b[0;36m<module>\u001b[0;34m\u001b[0m\n\u001b[0;32m----> 1\u001b[0;31m \u001b[0mdf\u001b[0m\u001b[0;34m=\u001b[0m\u001b[0mpd\u001b[0m\u001b[0;34m.\u001b[0m\u001b[0mread_csv\u001b[0m\u001b[0;34m(\u001b[0m\u001b[0;34m'dataset-dataset.csv'\u001b[0m\u001b[0;34m)\u001b[0m\u001b[0;34m\u001b[0m\u001b[0;34m\u001b[0m\u001b[0m\n\u001b[0m\u001b[1;32m      2\u001b[0m \u001b[0;34m\u001b[0m\u001b[0m\n",
      "\u001b[0;32m~/anaconda3/lib/python3.7/site-packages/pandas/io/parsers.py\u001b[0m in \u001b[0;36mparser_f\u001b[0;34m(filepath_or_buffer, sep, delimiter, header, names, index_col, usecols, squeeze, prefix, mangle_dupe_cols, dtype, engine, converters, true_values, false_values, skipinitialspace, skiprows, skipfooter, nrows, na_values, keep_default_na, na_filter, verbose, skip_blank_lines, parse_dates, infer_datetime_format, keep_date_col, date_parser, dayfirst, cache_dates, iterator, chunksize, compression, thousands, decimal, lineterminator, quotechar, quoting, doublequote, escapechar, comment, encoding, dialect, error_bad_lines, warn_bad_lines, delim_whitespace, low_memory, memory_map, float_precision)\u001b[0m\n\u001b[1;32m    674\u001b[0m         )\n\u001b[1;32m    675\u001b[0m \u001b[0;34m\u001b[0m\u001b[0m\n\u001b[0;32m--> 676\u001b[0;31m         \u001b[0;32mreturn\u001b[0m \u001b[0m_read\u001b[0m\u001b[0;34m(\u001b[0m\u001b[0mfilepath_or_buffer\u001b[0m\u001b[0;34m,\u001b[0m \u001b[0mkwds\u001b[0m\u001b[0;34m)\u001b[0m\u001b[0;34m\u001b[0m\u001b[0;34m\u001b[0m\u001b[0m\n\u001b[0m\u001b[1;32m    677\u001b[0m \u001b[0;34m\u001b[0m\u001b[0m\n\u001b[1;32m    678\u001b[0m     \u001b[0mparser_f\u001b[0m\u001b[0;34m.\u001b[0m\u001b[0m__name__\u001b[0m \u001b[0;34m=\u001b[0m \u001b[0mname\u001b[0m\u001b[0;34m\u001b[0m\u001b[0;34m\u001b[0m\u001b[0m\n",
      "\u001b[0;32m~/anaconda3/lib/python3.7/site-packages/pandas/io/parsers.py\u001b[0m in \u001b[0;36m_read\u001b[0;34m(filepath_or_buffer, kwds)\u001b[0m\n\u001b[1;32m    446\u001b[0m \u001b[0;34m\u001b[0m\u001b[0m\n\u001b[1;32m    447\u001b[0m     \u001b[0;31m# Create the parser.\u001b[0m\u001b[0;34m\u001b[0m\u001b[0;34m\u001b[0m\u001b[0;34m\u001b[0m\u001b[0m\n\u001b[0;32m--> 448\u001b[0;31m     \u001b[0mparser\u001b[0m \u001b[0;34m=\u001b[0m \u001b[0mTextFileReader\u001b[0m\u001b[0;34m(\u001b[0m\u001b[0mfp_or_buf\u001b[0m\u001b[0;34m,\u001b[0m \u001b[0;34m**\u001b[0m\u001b[0mkwds\u001b[0m\u001b[0;34m)\u001b[0m\u001b[0;34m\u001b[0m\u001b[0;34m\u001b[0m\u001b[0m\n\u001b[0m\u001b[1;32m    449\u001b[0m \u001b[0;34m\u001b[0m\u001b[0m\n\u001b[1;32m    450\u001b[0m     \u001b[0;32mif\u001b[0m \u001b[0mchunksize\u001b[0m \u001b[0;32mor\u001b[0m \u001b[0miterator\u001b[0m\u001b[0;34m:\u001b[0m\u001b[0;34m\u001b[0m\u001b[0;34m\u001b[0m\u001b[0m\n",
      "\u001b[0;32m~/anaconda3/lib/python3.7/site-packages/pandas/io/parsers.py\u001b[0m in \u001b[0;36m__init__\u001b[0;34m(self, f, engine, **kwds)\u001b[0m\n\u001b[1;32m    878\u001b[0m             \u001b[0mself\u001b[0m\u001b[0;34m.\u001b[0m\u001b[0moptions\u001b[0m\u001b[0;34m[\u001b[0m\u001b[0;34m\"has_index_names\"\u001b[0m\u001b[0;34m]\u001b[0m \u001b[0;34m=\u001b[0m \u001b[0mkwds\u001b[0m\u001b[0;34m[\u001b[0m\u001b[0;34m\"has_index_names\"\u001b[0m\u001b[0;34m]\u001b[0m\u001b[0;34m\u001b[0m\u001b[0;34m\u001b[0m\u001b[0m\n\u001b[1;32m    879\u001b[0m \u001b[0;34m\u001b[0m\u001b[0m\n\u001b[0;32m--> 880\u001b[0;31m         \u001b[0mself\u001b[0m\u001b[0;34m.\u001b[0m\u001b[0m_make_engine\u001b[0m\u001b[0;34m(\u001b[0m\u001b[0mself\u001b[0m\u001b[0;34m.\u001b[0m\u001b[0mengine\u001b[0m\u001b[0;34m)\u001b[0m\u001b[0;34m\u001b[0m\u001b[0;34m\u001b[0m\u001b[0m\n\u001b[0m\u001b[1;32m    881\u001b[0m \u001b[0;34m\u001b[0m\u001b[0m\n\u001b[1;32m    882\u001b[0m     \u001b[0;32mdef\u001b[0m \u001b[0mclose\u001b[0m\u001b[0;34m(\u001b[0m\u001b[0mself\u001b[0m\u001b[0;34m)\u001b[0m\u001b[0;34m:\u001b[0m\u001b[0;34m\u001b[0m\u001b[0;34m\u001b[0m\u001b[0m\n",
      "\u001b[0;32m~/anaconda3/lib/python3.7/site-packages/pandas/io/parsers.py\u001b[0m in \u001b[0;36m_make_engine\u001b[0;34m(self, engine)\u001b[0m\n\u001b[1;32m   1112\u001b[0m     \u001b[0;32mdef\u001b[0m \u001b[0m_make_engine\u001b[0m\u001b[0;34m(\u001b[0m\u001b[0mself\u001b[0m\u001b[0;34m,\u001b[0m \u001b[0mengine\u001b[0m\u001b[0;34m=\u001b[0m\u001b[0;34m\"c\"\u001b[0m\u001b[0;34m)\u001b[0m\u001b[0;34m:\u001b[0m\u001b[0;34m\u001b[0m\u001b[0;34m\u001b[0m\u001b[0m\n\u001b[1;32m   1113\u001b[0m         \u001b[0;32mif\u001b[0m \u001b[0mengine\u001b[0m \u001b[0;34m==\u001b[0m \u001b[0;34m\"c\"\u001b[0m\u001b[0;34m:\u001b[0m\u001b[0;34m\u001b[0m\u001b[0;34m\u001b[0m\u001b[0m\n\u001b[0;32m-> 1114\u001b[0;31m             \u001b[0mself\u001b[0m\u001b[0;34m.\u001b[0m\u001b[0m_engine\u001b[0m \u001b[0;34m=\u001b[0m \u001b[0mCParserWrapper\u001b[0m\u001b[0;34m(\u001b[0m\u001b[0mself\u001b[0m\u001b[0;34m.\u001b[0m\u001b[0mf\u001b[0m\u001b[0;34m,\u001b[0m \u001b[0;34m**\u001b[0m\u001b[0mself\u001b[0m\u001b[0;34m.\u001b[0m\u001b[0moptions\u001b[0m\u001b[0;34m)\u001b[0m\u001b[0;34m\u001b[0m\u001b[0;34m\u001b[0m\u001b[0m\n\u001b[0m\u001b[1;32m   1115\u001b[0m         \u001b[0;32melse\u001b[0m\u001b[0;34m:\u001b[0m\u001b[0;34m\u001b[0m\u001b[0;34m\u001b[0m\u001b[0m\n\u001b[1;32m   1116\u001b[0m             \u001b[0;32mif\u001b[0m \u001b[0mengine\u001b[0m \u001b[0;34m==\u001b[0m \u001b[0;34m\"python\"\u001b[0m\u001b[0;34m:\u001b[0m\u001b[0;34m\u001b[0m\u001b[0;34m\u001b[0m\u001b[0m\n",
      "\u001b[0;32m~/anaconda3/lib/python3.7/site-packages/pandas/io/parsers.py\u001b[0m in \u001b[0;36m__init__\u001b[0;34m(self, src, **kwds)\u001b[0m\n\u001b[1;32m   1889\u001b[0m         \u001b[0mkwds\u001b[0m\u001b[0;34m[\u001b[0m\u001b[0;34m\"usecols\"\u001b[0m\u001b[0;34m]\u001b[0m \u001b[0;34m=\u001b[0m \u001b[0mself\u001b[0m\u001b[0;34m.\u001b[0m\u001b[0musecols\u001b[0m\u001b[0;34m\u001b[0m\u001b[0;34m\u001b[0m\u001b[0m\n\u001b[1;32m   1890\u001b[0m \u001b[0;34m\u001b[0m\u001b[0m\n\u001b[0;32m-> 1891\u001b[0;31m         \u001b[0mself\u001b[0m\u001b[0;34m.\u001b[0m\u001b[0m_reader\u001b[0m \u001b[0;34m=\u001b[0m \u001b[0mparsers\u001b[0m\u001b[0;34m.\u001b[0m\u001b[0mTextReader\u001b[0m\u001b[0;34m(\u001b[0m\u001b[0msrc\u001b[0m\u001b[0;34m,\u001b[0m \u001b[0;34m**\u001b[0m\u001b[0mkwds\u001b[0m\u001b[0;34m)\u001b[0m\u001b[0;34m\u001b[0m\u001b[0;34m\u001b[0m\u001b[0m\n\u001b[0m\u001b[1;32m   1892\u001b[0m         \u001b[0mself\u001b[0m\u001b[0;34m.\u001b[0m\u001b[0munnamed_cols\u001b[0m \u001b[0;34m=\u001b[0m \u001b[0mself\u001b[0m\u001b[0;34m.\u001b[0m\u001b[0m_reader\u001b[0m\u001b[0;34m.\u001b[0m\u001b[0munnamed_cols\u001b[0m\u001b[0;34m\u001b[0m\u001b[0;34m\u001b[0m\u001b[0m\n\u001b[1;32m   1893\u001b[0m \u001b[0;34m\u001b[0m\u001b[0m\n",
      "\u001b[0;32mpandas/_libs/parsers.pyx\u001b[0m in \u001b[0;36mpandas._libs.parsers.TextReader.__cinit__\u001b[0;34m()\u001b[0m\n",
      "\u001b[0;32mpandas/_libs/parsers.pyx\u001b[0m in \u001b[0;36mpandas._libs.parsers.TextReader._setup_parser_source\u001b[0;34m()\u001b[0m\n",
      "\u001b[0;31mFileNotFoundError\u001b[0m: [Errno 2] File dataset-dataset.csv does not exist: 'dataset-dataset.csv'"
     ]
    }
   ],
   "source": [
    "df=pd.read_csv('dataset-dataset.csv')\n",
    "\n"
   ]
  },
  {
   "cell_type": "code",
   "execution_count": null,
   "metadata": {
    "colab": {
     "base_uri": "https://localhost:8080/",
     "height": 649
    },
    "colab_type": "code",
    "id": "fgQi0LMnfWTG",
    "outputId": "2211853c-47e4-41c0-a038-67733c0fc08c"
   },
   "outputs": [],
   "source": [
    "df.head(18)"
   ]
  },
  {
   "cell_type": "markdown",
   "metadata": {
    "colab_type": "text",
    "id": "MIYA9pfIWMgJ"
   },
   "source": [
    "#Processing data\n"
   ]
  },
  {
   "cell_type": "code",
   "execution_count": 0,
   "metadata": {
    "colab": {
     "base_uri": "https://localhost:8080/",
     "height": 34
    },
    "colab_type": "code",
    "id": "jlHAIXTPXOE5",
    "outputId": "d885d7de-3be0-4f7a-99a5-ea7e7492f4b9"
   },
   "outputs": [
    {
     "data": {
      "text/plain": [
       "pandas.core.frame.DataFrame"
      ]
     },
     "execution_count": 155,
     "metadata": {
      "tags": []
     },
     "output_type": "execute_result"
    }
   ],
   "source": [
    "\n",
    "type(df)"
   ]
  },
  {
   "cell_type": "code",
   "execution_count": 0,
   "metadata": {
    "colab": {
     "base_uri": "https://localhost:8080/",
     "height": 347
    },
    "colab_type": "code",
    "id": "AGxi_cRcXOFC",
    "outputId": "c6b782fd-e2e9-4ad6-c12b-e23e470d7191"
   },
   "outputs": [
    {
     "name": "stdout",
     "output_type": "stream",
     "text": [
      "<class 'pandas.core.frame.DataFrame'>\n",
      "RangeIndex: 63 entries, 0 to 62\n",
      "Data columns (total 12 columns):\n",
      " #   Column                                   Non-Null Count  Dtype  \n",
      "---  ------                                   --------------  -----  \n",
      " 0   Roll                                     57 non-null     float64\n",
      " 1   CT-1 (Marks: 20)                         57 non-null     object \n",
      " 2   CT-2 (Marks: 20)                         57 non-null     object \n",
      " 3   CT-3 (Marks: 20)                         57 non-null     object \n",
      " 4   CT-4 (Marks: 20)                         57 non-null     object \n",
      " 5   Class Test (Total of best 3, Marks: 60)  57 non-null     object \n",
      " 6   Attendance (Marks: 15)                   57 non-null     object \n",
      " 7   Observation (Marks: 15)                  57 non-null     object \n",
      " 8   Total (Marks: 90)                        57 non-null     object \n",
      " 9   Exam Mark (105)                          54 non-null     float64\n",
      " 10  Exam Mark (105).1                        54 non-null     float64\n",
      " 11  Mark total 300                           54 non-null     float64\n",
      "dtypes: float64(4), object(8)\n",
      "memory usage: 6.0+ KB\n"
     ]
    }
   ],
   "source": [
    "#EDA\n",
    "df.info()"
   ]
  },
  {
   "cell_type": "code",
   "execution_count": 0,
   "metadata": {
    "colab": {},
    "colab_type": "code",
    "id": "gp7HWE5i8WNG"
   },
   "outputs": [],
   "source": [
    "df.loc[17,1:12]=None\n",
    "df.loc[35,1:12]=None\n",
    "df.loc[53,1:12]=None\n"
   ]
  },
  {
   "cell_type": "code",
   "execution_count": 0,
   "metadata": {
    "colab": {},
    "colab_type": "code",
    "id": "LPam8-bBNRIQ"
   },
   "outputs": [],
   "source": [
    "#delete rows with all null values(as there is no such roll number existing)\n",
    "df =df.dropna(how='all', axis=0)"
   ]
  },
  {
   "cell_type": "code",
   "execution_count": 0,
   "metadata": {
    "colab": {
     "base_uri": "https://localhost:8080/",
     "height": 347
    },
    "colab_type": "code",
    "id": "sJCpGYGSNrkC",
    "outputId": "f4672945-6bc5-466d-c261-926f4e4c9696"
   },
   "outputs": [
    {
     "name": "stdout",
     "output_type": "stream",
     "text": [
      "<class 'pandas.core.frame.DataFrame'>\n",
      "Int64Index: 57 entries, 0 to 62\n",
      "Data columns (total 12 columns):\n",
      " #   Column                                   Non-Null Count  Dtype  \n",
      "---  ------                                   --------------  -----  \n",
      " 0   Roll                                     57 non-null     float64\n",
      " 1   CT-1 (Marks: 20)                         54 non-null     object \n",
      " 2   CT-2 (Marks: 20)                         54 non-null     object \n",
      " 3   CT-3 (Marks: 20)                         54 non-null     object \n",
      " 4   CT-4 (Marks: 20)                         54 non-null     object \n",
      " 5   Class Test (Total of best 3, Marks: 60)  54 non-null     object \n",
      " 6   Attendance (Marks: 15)                   54 non-null     object \n",
      " 7   Observation (Marks: 15)                  54 non-null     object \n",
      " 8   Total (Marks: 90)                        54 non-null     object \n",
      " 9   Exam Mark (105)                          54 non-null     float64\n",
      " 10  Exam Mark (105).1                        54 non-null     float64\n",
      " 11  Mark total 300                           54 non-null     float64\n",
      "dtypes: float64(4), object(8)\n",
      "memory usage: 5.8+ KB\n"
     ]
    }
   ],
   "source": [
    "\n",
    "df.info()"
   ]
  },
  {
   "cell_type": "code",
   "execution_count": 0,
   "metadata": {
    "colab": {
     "base_uri": "https://localhost:8080/",
     "height": 1000
    },
    "colab_type": "code",
    "id": "PSNuNT8totZK",
    "outputId": "27ccc145-7620-494d-f74a-511c06a99ea6"
   },
   "outputs": [
    {
     "data": {
      "text/html": [
       "<div>\n",
       "<style scoped>\n",
       "    .dataframe tbody tr th:only-of-type {\n",
       "        vertical-align: middle;\n",
       "    }\n",
       "\n",
       "    .dataframe tbody tr th {\n",
       "        vertical-align: top;\n",
       "    }\n",
       "\n",
       "    .dataframe thead th {\n",
       "        text-align: right;\n",
       "    }\n",
       "</style>\n",
       "<table border=\"1\" class=\"dataframe\">\n",
       "  <thead>\n",
       "    <tr style=\"text-align: right;\">\n",
       "      <th></th>\n",
       "      <th>Roll</th>\n",
       "      <th>CT-1 (Marks: 20)</th>\n",
       "      <th>CT-2 (Marks: 20)</th>\n",
       "      <th>CT-3 (Marks: 20)</th>\n",
       "      <th>CT-4 (Marks: 20)</th>\n",
       "      <th>Class Test (Total of best 3, Marks: 60)</th>\n",
       "      <th>Attendance (Marks: 15)</th>\n",
       "      <th>Observation (Marks: 15)</th>\n",
       "      <th>Total (Marks: 90)</th>\n",
       "      <th>Exam Mark (105)</th>\n",
       "      <th>Exam Mark (105).1</th>\n",
       "      <th>Mark total 300</th>\n",
       "    </tr>\n",
       "  </thead>\n",
       "  <tbody>\n",
       "    <tr>\n",
       "      <th>0</th>\n",
       "      <td>2.0</td>\n",
       "      <td>12.5</td>\n",
       "      <td>15</td>\n",
       "      <td>14</td>\n",
       "      <td>18</td>\n",
       "      <td>47</td>\n",
       "      <td>15</td>\n",
       "      <td>13.5</td>\n",
       "      <td>75.5</td>\n",
       "      <td>45.0</td>\n",
       "      <td>46.5</td>\n",
       "      <td>167.0</td>\n",
       "    </tr>\n",
       "    <tr>\n",
       "      <th>1</th>\n",
       "      <td>3.0</td>\n",
       "      <td>9</td>\n",
       "      <td>10</td>\n",
       "      <td>17</td>\n",
       "      <td>11</td>\n",
       "      <td>38</td>\n",
       "      <td>15</td>\n",
       "      <td>13.5</td>\n",
       "      <td>66.5</td>\n",
       "      <td>28.0</td>\n",
       "      <td>44.0</td>\n",
       "      <td>138.5</td>\n",
       "    </tr>\n",
       "    <tr>\n",
       "      <th>2</th>\n",
       "      <td>4.0</td>\n",
       "      <td>10</td>\n",
       "      <td>15.5</td>\n",
       "      <td>12.5</td>\n",
       "      <td>6.5</td>\n",
       "      <td>38</td>\n",
       "      <td>15</td>\n",
       "      <td>13.5</td>\n",
       "      <td>66.5</td>\n",
       "      <td>26.5</td>\n",
       "      <td>43.0</td>\n",
       "      <td>136.0</td>\n",
       "    </tr>\n",
       "    <tr>\n",
       "      <th>3</th>\n",
       "      <td>5.0</td>\n",
       "      <td>14</td>\n",
       "      <td>14</td>\n",
       "      <td>18</td>\n",
       "      <td>0</td>\n",
       "      <td>46</td>\n",
       "      <td>15</td>\n",
       "      <td>15</td>\n",
       "      <td>76</td>\n",
       "      <td>46.0</td>\n",
       "      <td>44.0</td>\n",
       "      <td>166.0</td>\n",
       "    </tr>\n",
       "    <tr>\n",
       "      <th>4</th>\n",
       "      <td>6.0</td>\n",
       "      <td>14.5</td>\n",
       "      <td>15.5</td>\n",
       "      <td>15</td>\n",
       "      <td>15.5</td>\n",
       "      <td>46</td>\n",
       "      <td>15</td>\n",
       "      <td>15</td>\n",
       "      <td>76</td>\n",
       "      <td>26.0</td>\n",
       "      <td>74.5</td>\n",
       "      <td>176.5</td>\n",
       "    </tr>\n",
       "    <tr>\n",
       "      <th>5</th>\n",
       "      <td>7.0</td>\n",
       "      <td>13.5</td>\n",
       "      <td>13</td>\n",
       "      <td>18</td>\n",
       "      <td>16.5</td>\n",
       "      <td>48</td>\n",
       "      <td>15</td>\n",
       "      <td>15</td>\n",
       "      <td>78</td>\n",
       "      <td>77.0</td>\n",
       "      <td>70.0</td>\n",
       "      <td>225.0</td>\n",
       "    </tr>\n",
       "    <tr>\n",
       "      <th>6</th>\n",
       "      <td>8.0</td>\n",
       "      <td>14</td>\n",
       "      <td>16</td>\n",
       "      <td>14</td>\n",
       "      <td>16.5</td>\n",
       "      <td>46.5</td>\n",
       "      <td>15</td>\n",
       "      <td>15</td>\n",
       "      <td>76.5</td>\n",
       "      <td>69.0</td>\n",
       "      <td>79.5</td>\n",
       "      <td>225.0</td>\n",
       "    </tr>\n",
       "    <tr>\n",
       "      <th>7</th>\n",
       "      <td>9.0</td>\n",
       "      <td>11</td>\n",
       "      <td>17</td>\n",
       "      <td>15.5</td>\n",
       "      <td>20</td>\n",
       "      <td>52.5</td>\n",
       "      <td>15</td>\n",
       "      <td>12</td>\n",
       "      <td>79.5</td>\n",
       "      <td>49.0</td>\n",
       "      <td>67.0</td>\n",
       "      <td>195.5</td>\n",
       "    </tr>\n",
       "    <tr>\n",
       "      <th>8</th>\n",
       "      <td>10.0</td>\n",
       "      <td>8</td>\n",
       "      <td>15</td>\n",
       "      <td>14</td>\n",
       "      <td>8</td>\n",
       "      <td>37</td>\n",
       "      <td>15</td>\n",
       "      <td>15</td>\n",
       "      <td>67</td>\n",
       "      <td>26.0</td>\n",
       "      <td>38.5</td>\n",
       "      <td>131.5</td>\n",
       "    </tr>\n",
       "    <tr>\n",
       "      <th>9</th>\n",
       "      <td>11.0</td>\n",
       "      <td>11.5</td>\n",
       "      <td>14.5</td>\n",
       "      <td>7</td>\n",
       "      <td>14.5</td>\n",
       "      <td>40.5</td>\n",
       "      <td>15</td>\n",
       "      <td>13.5</td>\n",
       "      <td>69</td>\n",
       "      <td>40.0</td>\n",
       "      <td>41.0</td>\n",
       "      <td>150.0</td>\n",
       "    </tr>\n",
       "    <tr>\n",
       "      <th>10</th>\n",
       "      <td>12.0</td>\n",
       "      <td>7.5</td>\n",
       "      <td>13</td>\n",
       "      <td>18</td>\n",
       "      <td>7.5</td>\n",
       "      <td>38.5</td>\n",
       "      <td>15</td>\n",
       "      <td>13.5</td>\n",
       "      <td>67</td>\n",
       "      <td>51.0</td>\n",
       "      <td>45.0</td>\n",
       "      <td>163.0</td>\n",
       "    </tr>\n",
       "    <tr>\n",
       "      <th>11</th>\n",
       "      <td>13.0</td>\n",
       "      <td>12.5</td>\n",
       "      <td>20</td>\n",
       "      <td>11</td>\n",
       "      <td>0</td>\n",
       "      <td>43.5</td>\n",
       "      <td>15</td>\n",
       "      <td>15</td>\n",
       "      <td>73.5</td>\n",
       "      <td>48.0</td>\n",
       "      <td>59.5</td>\n",
       "      <td>181.0</td>\n",
       "    </tr>\n",
       "    <tr>\n",
       "      <th>12</th>\n",
       "      <td>14.0</td>\n",
       "      <td>7.5</td>\n",
       "      <td>11.5</td>\n",
       "      <td>17</td>\n",
       "      <td>8.5</td>\n",
       "      <td>37</td>\n",
       "      <td>15</td>\n",
       "      <td>13.5</td>\n",
       "      <td>65.5</td>\n",
       "      <td>42.0</td>\n",
       "      <td>23.5</td>\n",
       "      <td>131.0</td>\n",
       "    </tr>\n",
       "    <tr>\n",
       "      <th>13</th>\n",
       "      <td>15.0</td>\n",
       "      <td>7.5</td>\n",
       "      <td>15.5</td>\n",
       "      <td>15</td>\n",
       "      <td>14.5</td>\n",
       "      <td>45</td>\n",
       "      <td>15</td>\n",
       "      <td>13.5</td>\n",
       "      <td>73.5</td>\n",
       "      <td>43.0</td>\n",
       "      <td>64.0</td>\n",
       "      <td>180.5</td>\n",
       "    </tr>\n",
       "    <tr>\n",
       "      <th>14</th>\n",
       "      <td>16.0</td>\n",
       "      <td>1</td>\n",
       "      <td>10</td>\n",
       "      <td>7.5</td>\n",
       "      <td>0</td>\n",
       "      <td>18.5</td>\n",
       "      <td>15</td>\n",
       "      <td>13.5</td>\n",
       "      <td>47</td>\n",
       "      <td>3.0</td>\n",
       "      <td>2.0</td>\n",
       "      <td>52.0</td>\n",
       "    </tr>\n",
       "    <tr>\n",
       "      <th>17</th>\n",
       "      <td>19.0</td>\n",
       "      <td>None</td>\n",
       "      <td>None</td>\n",
       "      <td>None</td>\n",
       "      <td>None</td>\n",
       "      <td>None</td>\n",
       "      <td>None</td>\n",
       "      <td>None</td>\n",
       "      <td>None</td>\n",
       "      <td>NaN</td>\n",
       "      <td>NaN</td>\n",
       "      <td>NaN</td>\n",
       "    </tr>\n",
       "    <tr>\n",
       "      <th>18</th>\n",
       "      <td>20.0</td>\n",
       "      <td>9.5</td>\n",
       "      <td>18</td>\n",
       "      <td>12</td>\n",
       "      <td>6.5</td>\n",
       "      <td>39.5</td>\n",
       "      <td>15</td>\n",
       "      <td>15</td>\n",
       "      <td>69.5</td>\n",
       "      <td>22.0</td>\n",
       "      <td>25.5</td>\n",
       "      <td>117.0</td>\n",
       "    </tr>\n",
       "    <tr>\n",
       "      <th>19</th>\n",
       "      <td>21.0</td>\n",
       "      <td>14.5</td>\n",
       "      <td>12</td>\n",
       "      <td>19</td>\n",
       "      <td>17</td>\n",
       "      <td>50.5</td>\n",
       "      <td>15</td>\n",
       "      <td>13.5</td>\n",
       "      <td>79</td>\n",
       "      <td>18.0</td>\n",
       "      <td>47.0</td>\n",
       "      <td>144.0</td>\n",
       "    </tr>\n",
       "    <tr>\n",
       "      <th>20</th>\n",
       "      <td>22.0</td>\n",
       "      <td>7</td>\n",
       "      <td>14.5</td>\n",
       "      <td>16</td>\n",
       "      <td>19.5</td>\n",
       "      <td>50</td>\n",
       "      <td>15</td>\n",
       "      <td>15</td>\n",
       "      <td>80</td>\n",
       "      <td>39.0</td>\n",
       "      <td>55.5</td>\n",
       "      <td>174.5</td>\n",
       "    </tr>\n",
       "    <tr>\n",
       "      <th>21</th>\n",
       "      <td>23.0</td>\n",
       "      <td>5</td>\n",
       "      <td>14</td>\n",
       "      <td>18</td>\n",
       "      <td>14.5</td>\n",
       "      <td>46.5</td>\n",
       "      <td>15</td>\n",
       "      <td>12</td>\n",
       "      <td>73.5</td>\n",
       "      <td>49.0</td>\n",
       "      <td>79.5</td>\n",
       "      <td>202.0</td>\n",
       "    </tr>\n",
       "    <tr>\n",
       "      <th>22</th>\n",
       "      <td>24.0</td>\n",
       "      <td>0</td>\n",
       "      <td>16</td>\n",
       "      <td>13</td>\n",
       "      <td>14.5</td>\n",
       "      <td>43.5</td>\n",
       "      <td>13.5</td>\n",
       "      <td>13.5</td>\n",
       "      <td>70.5</td>\n",
       "      <td>41.0</td>\n",
       "      <td>67.0</td>\n",
       "      <td>178.5</td>\n",
       "    </tr>\n",
       "    <tr>\n",
       "      <th>23</th>\n",
       "      <td>25.0</td>\n",
       "      <td>13</td>\n",
       "      <td>15</td>\n",
       "      <td>14</td>\n",
       "      <td>15.5</td>\n",
       "      <td>44.5</td>\n",
       "      <td>15</td>\n",
       "      <td>15</td>\n",
       "      <td>74.5</td>\n",
       "      <td>53.0</td>\n",
       "      <td>30.0</td>\n",
       "      <td>157.5</td>\n",
       "    </tr>\n",
       "    <tr>\n",
       "      <th>24</th>\n",
       "      <td>26.0</td>\n",
       "      <td>13.5</td>\n",
       "      <td>15</td>\n",
       "      <td>15</td>\n",
       "      <td>0</td>\n",
       "      <td>43.5</td>\n",
       "      <td>15</td>\n",
       "      <td>12</td>\n",
       "      <td>70.5</td>\n",
       "      <td>18.0</td>\n",
       "      <td>71.0</td>\n",
       "      <td>159.5</td>\n",
       "    </tr>\n",
       "    <tr>\n",
       "      <th>25</th>\n",
       "      <td>27.0</td>\n",
       "      <td>12.5</td>\n",
       "      <td>18</td>\n",
       "      <td>12</td>\n",
       "      <td>7</td>\n",
       "      <td>42.5</td>\n",
       "      <td>15</td>\n",
       "      <td>15</td>\n",
       "      <td>72.5</td>\n",
       "      <td>9.0</td>\n",
       "      <td>18.5</td>\n",
       "      <td>100.0</td>\n",
       "    </tr>\n",
       "    <tr>\n",
       "      <th>26</th>\n",
       "      <td>28.0</td>\n",
       "      <td>13.5</td>\n",
       "      <td>12</td>\n",
       "      <td>11.5</td>\n",
       "      <td>9</td>\n",
       "      <td>37</td>\n",
       "      <td>15</td>\n",
       "      <td>13.5</td>\n",
       "      <td>65.5</td>\n",
       "      <td>28.0</td>\n",
       "      <td>31.5</td>\n",
       "      <td>125.0</td>\n",
       "    </tr>\n",
       "    <tr>\n",
       "      <th>27</th>\n",
       "      <td>29.0</td>\n",
       "      <td>0</td>\n",
       "      <td>16</td>\n",
       "      <td>14</td>\n",
       "      <td>8</td>\n",
       "      <td>38</td>\n",
       "      <td>15</td>\n",
       "      <td>14</td>\n",
       "      <td>67</td>\n",
       "      <td>25.0</td>\n",
       "      <td>71.5</td>\n",
       "      <td>163.5</td>\n",
       "    </tr>\n",
       "    <tr>\n",
       "      <th>28</th>\n",
       "      <td>30.0</td>\n",
       "      <td>10</td>\n",
       "      <td>12</td>\n",
       "      <td>7</td>\n",
       "      <td>0</td>\n",
       "      <td>29</td>\n",
       "      <td>15</td>\n",
       "      <td>13.5</td>\n",
       "      <td>57.5</td>\n",
       "      <td>31.0</td>\n",
       "      <td>55.0</td>\n",
       "      <td>143.5</td>\n",
       "    </tr>\n",
       "    <tr>\n",
       "      <th>29</th>\n",
       "      <td>31.0</td>\n",
       "      <td>6</td>\n",
       "      <td>12</td>\n",
       "      <td>10.5</td>\n",
       "      <td>10.5</td>\n",
       "      <td>33</td>\n",
       "      <td>15</td>\n",
       "      <td>13.5</td>\n",
       "      <td>61.5</td>\n",
       "      <td>41.0</td>\n",
       "      <td>85.0</td>\n",
       "      <td>187.5</td>\n",
       "    </tr>\n",
       "    <tr>\n",
       "      <th>30</th>\n",
       "      <td>32.0</td>\n",
       "      <td>12</td>\n",
       "      <td>12</td>\n",
       "      <td>14</td>\n",
       "      <td>0</td>\n",
       "      <td>38</td>\n",
       "      <td>15</td>\n",
       "      <td>10.5</td>\n",
       "      <td>63.5</td>\n",
       "      <td>51.0</td>\n",
       "      <td>50.0</td>\n",
       "      <td>164.5</td>\n",
       "    </tr>\n",
       "    <tr>\n",
       "      <th>31</th>\n",
       "      <td>33.0</td>\n",
       "      <td>14</td>\n",
       "      <td>15.5</td>\n",
       "      <td>8</td>\n",
       "      <td>9.5</td>\n",
       "      <td>39</td>\n",
       "      <td>15</td>\n",
       "      <td>15</td>\n",
       "      <td>69</td>\n",
       "      <td>29.0</td>\n",
       "      <td>82.5</td>\n",
       "      <td>180.5</td>\n",
       "    </tr>\n",
       "    <tr>\n",
       "      <th>32</th>\n",
       "      <td>34.0</td>\n",
       "      <td>12</td>\n",
       "      <td>15</td>\n",
       "      <td>10</td>\n",
       "      <td>15</td>\n",
       "      <td>42</td>\n",
       "      <td>15</td>\n",
       "      <td>13.5</td>\n",
       "      <td>70.5</td>\n",
       "      <td>26.0</td>\n",
       "      <td>31.0</td>\n",
       "      <td>127.5</td>\n",
       "    </tr>\n",
       "    <tr>\n",
       "      <th>35</th>\n",
       "      <td>37.0</td>\n",
       "      <td>None</td>\n",
       "      <td>None</td>\n",
       "      <td>None</td>\n",
       "      <td>None</td>\n",
       "      <td>None</td>\n",
       "      <td>None</td>\n",
       "      <td>None</td>\n",
       "      <td>None</td>\n",
       "      <td>NaN</td>\n",
       "      <td>NaN</td>\n",
       "      <td>NaN</td>\n",
       "    </tr>\n",
       "    <tr>\n",
       "      <th>36</th>\n",
       "      <td>38.0</td>\n",
       "      <td>13</td>\n",
       "      <td>17.5</td>\n",
       "      <td>15.5</td>\n",
       "      <td>17.5</td>\n",
       "      <td>50.5</td>\n",
       "      <td>15</td>\n",
       "      <td>13.5</td>\n",
       "      <td>79</td>\n",
       "      <td>30.0</td>\n",
       "      <td>67.0</td>\n",
       "      <td>176.0</td>\n",
       "    </tr>\n",
       "    <tr>\n",
       "      <th>37</th>\n",
       "      <td>39.0</td>\n",
       "      <td>12.5</td>\n",
       "      <td>11</td>\n",
       "      <td>17</td>\n",
       "      <td>0</td>\n",
       "      <td>40.5</td>\n",
       "      <td>15</td>\n",
       "      <td>10.5</td>\n",
       "      <td>66</td>\n",
       "      <td>30.0</td>\n",
       "      <td>64.0</td>\n",
       "      <td>160.0</td>\n",
       "    </tr>\n",
       "    <tr>\n",
       "      <th>38</th>\n",
       "      <td>40.0</td>\n",
       "      <td>20</td>\n",
       "      <td>15.5</td>\n",
       "      <td>10.5</td>\n",
       "      <td>6.5</td>\n",
       "      <td>46</td>\n",
       "      <td>15</td>\n",
       "      <td>15</td>\n",
       "      <td>76</td>\n",
       "      <td>12.0</td>\n",
       "      <td>59.0</td>\n",
       "      <td>147.0</td>\n",
       "    </tr>\n",
       "    <tr>\n",
       "      <th>39</th>\n",
       "      <td>41.0</td>\n",
       "      <td>9</td>\n",
       "      <td>20</td>\n",
       "      <td>8</td>\n",
       "      <td>15</td>\n",
       "      <td>44</td>\n",
       "      <td>15</td>\n",
       "      <td>15</td>\n",
       "      <td>74</td>\n",
       "      <td>89.0</td>\n",
       "      <td>81.0</td>\n",
       "      <td>244.0</td>\n",
       "    </tr>\n",
       "  </tbody>\n",
       "</table>\n",
       "</div>"
      ],
      "text/plain": [
       "    Roll CT-1 (Marks: 20)  ... Exam Mark (105).1 Mark total 300\n",
       "0    2.0             12.5  ...              46.5          167.0\n",
       "1    3.0                9  ...              44.0          138.5\n",
       "2    4.0               10  ...              43.0          136.0\n",
       "3    5.0               14  ...              44.0          166.0\n",
       "4    6.0             14.5  ...              74.5          176.5\n",
       "5    7.0             13.5  ...              70.0          225.0\n",
       "6    8.0               14  ...              79.5          225.0\n",
       "7    9.0               11  ...              67.0          195.5\n",
       "8   10.0                8  ...              38.5          131.5\n",
       "9   11.0             11.5  ...              41.0          150.0\n",
       "10  12.0              7.5  ...              45.0          163.0\n",
       "11  13.0             12.5  ...              59.5          181.0\n",
       "12  14.0              7.5  ...              23.5          131.0\n",
       "13  15.0              7.5  ...              64.0          180.5\n",
       "14  16.0                1  ...               2.0           52.0\n",
       "17  19.0             None  ...               NaN            NaN\n",
       "18  20.0              9.5  ...              25.5          117.0\n",
       "19  21.0             14.5  ...              47.0          144.0\n",
       "20  22.0                7  ...              55.5          174.5\n",
       "21  23.0                5  ...              79.5          202.0\n",
       "22  24.0                0  ...              67.0          178.5\n",
       "23  25.0               13  ...              30.0          157.5\n",
       "24  26.0             13.5  ...              71.0          159.5\n",
       "25  27.0             12.5  ...              18.5          100.0\n",
       "26  28.0             13.5  ...              31.5          125.0\n",
       "27  29.0                0  ...              71.5          163.5\n",
       "28  30.0               10  ...              55.0          143.5\n",
       "29  31.0                6  ...              85.0          187.5\n",
       "30  32.0               12  ...              50.0          164.5\n",
       "31  33.0               14  ...              82.5          180.5\n",
       "32  34.0               12  ...              31.0          127.5\n",
       "35  37.0             None  ...               NaN            NaN\n",
       "36  38.0               13  ...              67.0          176.0\n",
       "37  39.0             12.5  ...              64.0          160.0\n",
       "38  40.0               20  ...              59.0          147.0\n",
       "39  41.0                9  ...              81.0          244.0\n",
       "\n",
       "[36 rows x 12 columns]"
      ]
     },
     "execution_count": 160,
     "metadata": {
      "tags": []
     },
     "output_type": "execute_result"
    }
   ],
   "source": [
    "df.head(36)"
   ]
  },
  {
   "cell_type": "markdown",
   "metadata": {
    "colab_type": "text",
    "id": "XHqF4uALpzCR"
   },
   "source": [
    "Repeated headings are removed.\n",
    "null rows also are removed "
   ]
  },
  {
   "cell_type": "code",
   "execution_count": 0,
   "metadata": {
    "colab": {
     "base_uri": "https://localhost:8080/",
     "height": 69
    },
    "colab_type": "code",
    "id": "p5SpUnHWi0hg",
    "outputId": "7b2b6d67-a05e-44ea-b98d-bcded193e7d4"
   },
   "outputs": [
    {
     "name": "stdout",
     "output_type": "stream",
     "text": [
      "[ 0  1  2  3  4  5  6  7  8  9 10 11 12 13 14 15 16 17 18 19 20 21 22 23\n",
      " 24 25 26 27 28 29 30 31 32 33 34 35 36 37 38 39 40 41 42 43 44 45 46 47\n",
      " 48 49 50 51 52 53 54 55 56]\n"
     ]
    }
   ],
   "source": [
    "print (np.arange(len(df.index)))\n",
    "index = np.arange(len(df.index))"
   ]
  },
  {
   "cell_type": "code",
   "execution_count": 0,
   "metadata": {
    "colab": {
     "base_uri": "https://localhost:8080/",
     "height": 224
    },
    "colab_type": "code",
    "id": "e7etW85E8E6D",
    "outputId": "537bad41-e5a9-4475-df5d-44629d0838c4"
   },
   "outputs": [
    {
     "data": {
      "text/html": [
       "<div>\n",
       "<style scoped>\n",
       "    .dataframe tbody tr th:only-of-type {\n",
       "        vertical-align: middle;\n",
       "    }\n",
       "\n",
       "    .dataframe tbody tr th {\n",
       "        vertical-align: top;\n",
       "    }\n",
       "\n",
       "    .dataframe thead th {\n",
       "        text-align: right;\n",
       "    }\n",
       "</style>\n",
       "<table border=\"1\" class=\"dataframe\">\n",
       "  <thead>\n",
       "    <tr style=\"text-align: right;\">\n",
       "      <th></th>\n",
       "      <th>Roll</th>\n",
       "      <th>CT-1 (Marks: 20)</th>\n",
       "      <th>CT-2 (Marks: 20)</th>\n",
       "      <th>CT-3 (Marks: 20)</th>\n",
       "      <th>CT-4 (Marks: 20)</th>\n",
       "      <th>Class Test (Total of best 3, Marks: 60)</th>\n",
       "      <th>Attendance (Marks: 15)</th>\n",
       "      <th>Observation (Marks: 15)</th>\n",
       "      <th>Total (Marks: 90)</th>\n",
       "      <th>Exam Mark (105)</th>\n",
       "      <th>Exam Mark (105).1</th>\n",
       "      <th>Mark total 300</th>\n",
       "      <th>Index</th>\n",
       "    </tr>\n",
       "  </thead>\n",
       "  <tbody>\n",
       "    <tr>\n",
       "      <th>0</th>\n",
       "      <td>2.0</td>\n",
       "      <td>12.5</td>\n",
       "      <td>15</td>\n",
       "      <td>14</td>\n",
       "      <td>18</td>\n",
       "      <td>47</td>\n",
       "      <td>15</td>\n",
       "      <td>13.5</td>\n",
       "      <td>75.5</td>\n",
       "      <td>45.0</td>\n",
       "      <td>46.5</td>\n",
       "      <td>167.0</td>\n",
       "      <td>0</td>\n",
       "    </tr>\n",
       "    <tr>\n",
       "      <th>1</th>\n",
       "      <td>3.0</td>\n",
       "      <td>9</td>\n",
       "      <td>10</td>\n",
       "      <td>17</td>\n",
       "      <td>11</td>\n",
       "      <td>38</td>\n",
       "      <td>15</td>\n",
       "      <td>13.5</td>\n",
       "      <td>66.5</td>\n",
       "      <td>28.0</td>\n",
       "      <td>44.0</td>\n",
       "      <td>138.5</td>\n",
       "      <td>1</td>\n",
       "    </tr>\n",
       "    <tr>\n",
       "      <th>2</th>\n",
       "      <td>4.0</td>\n",
       "      <td>10</td>\n",
       "      <td>15.5</td>\n",
       "      <td>12.5</td>\n",
       "      <td>6.5</td>\n",
       "      <td>38</td>\n",
       "      <td>15</td>\n",
       "      <td>13.5</td>\n",
       "      <td>66.5</td>\n",
       "      <td>26.5</td>\n",
       "      <td>43.0</td>\n",
       "      <td>136.0</td>\n",
       "      <td>2</td>\n",
       "    </tr>\n",
       "    <tr>\n",
       "      <th>3</th>\n",
       "      <td>5.0</td>\n",
       "      <td>14</td>\n",
       "      <td>14</td>\n",
       "      <td>18</td>\n",
       "      <td>0</td>\n",
       "      <td>46</td>\n",
       "      <td>15</td>\n",
       "      <td>15</td>\n",
       "      <td>76</td>\n",
       "      <td>46.0</td>\n",
       "      <td>44.0</td>\n",
       "      <td>166.0</td>\n",
       "      <td>3</td>\n",
       "    </tr>\n",
       "    <tr>\n",
       "      <th>4</th>\n",
       "      <td>6.0</td>\n",
       "      <td>14.5</td>\n",
       "      <td>15.5</td>\n",
       "      <td>15</td>\n",
       "      <td>15.5</td>\n",
       "      <td>46</td>\n",
       "      <td>15</td>\n",
       "      <td>15</td>\n",
       "      <td>76</td>\n",
       "      <td>26.0</td>\n",
       "      <td>74.5</td>\n",
       "      <td>176.5</td>\n",
       "      <td>4</td>\n",
       "    </tr>\n",
       "  </tbody>\n",
       "</table>\n",
       "</div>"
      ],
      "text/plain": [
       "   Roll CT-1 (Marks: 20)  ... Mark total 300 Index\n",
       "0   2.0             12.5  ...          167.0     0\n",
       "1   3.0                9  ...          138.5     1\n",
       "2   4.0               10  ...          136.0     2\n",
       "3   5.0               14  ...          166.0     3\n",
       "4   6.0             14.5  ...          176.5     4\n",
       "\n",
       "[5 rows x 13 columns]"
      ]
     },
     "execution_count": 162,
     "metadata": {
      "tags": []
     },
     "output_type": "execute_result"
    }
   ],
   "source": [
    "#adding index\n",
    "# n = ['Index']\n",
    "# df.index = pd.MultiIndex.from_arrays(np.arange(len(df.index)), names= n)\n",
    "df['Index']=index\n",
    "df.head()\n",
    "#just added for my convenience:P\n",
    "\n"
   ]
  },
  {
   "cell_type": "code",
   "execution_count": 0,
   "metadata": {
    "colab": {
     "base_uri": "https://localhost:8080/",
     "height": 364
    },
    "colab_type": "code",
    "id": "q08l_C2QzfGO",
    "outputId": "9895e476-fc6f-4304-fa5f-80356e31dfdc"
   },
   "outputs": [
    {
     "name": "stdout",
     "output_type": "stream",
     "text": [
      "<class 'pandas.core.frame.DataFrame'>\n",
      "Int64Index: 57 entries, 0 to 62\n",
      "Data columns (total 13 columns):\n",
      " #   Column                                   Non-Null Count  Dtype  \n",
      "---  ------                                   --------------  -----  \n",
      " 0   Roll                                     57 non-null     float64\n",
      " 1   CT-1 (Marks: 20)                         54 non-null     object \n",
      " 2   CT-2 (Marks: 20)                         54 non-null     object \n",
      " 3   CT-3 (Marks: 20)                         54 non-null     object \n",
      " 4   CT-4 (Marks: 20)                         54 non-null     object \n",
      " 5   Class Test (Total of best 3, Marks: 60)  54 non-null     object \n",
      " 6   Attendance (Marks: 15)                   54 non-null     object \n",
      " 7   Observation (Marks: 15)                  54 non-null     object \n",
      " 8   Total (Marks: 90)                        54 non-null     object \n",
      " 9   Exam Mark (105)                          54 non-null     float64\n",
      " 10  Exam Mark (105).1                        54 non-null     float64\n",
      " 11  Mark total 300                           54 non-null     float64\n",
      " 12  Index                                    57 non-null     int64  \n",
      "dtypes: float64(4), int64(1), object(8)\n",
      "memory usage: 6.2+ KB\n"
     ]
    }
   ],
   "source": [
    "df.info()"
   ]
  },
  {
   "cell_type": "markdown",
   "metadata": {
    "colab_type": "text",
    "id": "VcipChTeWTwD"
   },
   "source": [
    "#Data Cleaning"
   ]
  },
  {
   "cell_type": "code",
   "execution_count": 0,
   "metadata": {
    "colab": {},
    "colab_type": "code",
    "id": "VewrkUeBjpCn"
   },
   "outputs": [],
   "source": [
    "\n",
    "\n",
    "#data cleaning\n",
    "df.columns = ['Roll','CT1','CT2','CT3','CT4','CTtotal','Attendance','Observation','Total90','EM1','EM2','Total300','Index',]"
   ]
  },
  {
   "cell_type": "code",
   "execution_count": 0,
   "metadata": {
    "colab": {
     "base_uri": "https://localhost:8080/",
     "height": 52
    },
    "colab_type": "code",
    "id": "at_BI5JeXOGh",
    "outputId": "acfe4532-3405-4b6f-c238-8f8332556a9a"
   },
   "outputs": [
    {
     "name": "stdout",
     "output_type": "stream",
     "text": [
      "Mean total marks (300): 165.32407407407408\n",
      "Median total marks (300): 165.25\n"
     ]
    }
   ],
   "source": [
    "#numerical features\n",
    "#centrality measures\n",
    "print(\"Mean total marks (300): {0}\".format(df.Total300.mean()))\n",
    "print(\"Median total marks (300): {0}\".format(df.Total300.median()))"
   ]
  },
  {
   "cell_type": "code",
   "execution_count": 0,
   "metadata": {
    "colab": {
     "base_uri": "https://localhost:8080/",
     "height": 394
    },
    "colab_type": "code",
    "id": "oUnluH9BXOGs",
    "outputId": "30c3167e-615c-4850-8fa1-6253da7a66e0"
   },
   "outputs": [
    {
     "data": {
      "text/html": [
       "<div>\n",
       "<style scoped>\n",
       "    .dataframe tbody tr th:only-of-type {\n",
       "        vertical-align: middle;\n",
       "    }\n",
       "\n",
       "    .dataframe tbody tr th {\n",
       "        vertical-align: top;\n",
       "    }\n",
       "\n",
       "    .dataframe thead th {\n",
       "        text-align: right;\n",
       "    }\n",
       "</style>\n",
       "<table border=\"1\" class=\"dataframe\">\n",
       "  <thead>\n",
       "    <tr style=\"text-align: right;\">\n",
       "      <th></th>\n",
       "      <th>Roll</th>\n",
       "      <th>CT1</th>\n",
       "      <th>CT2</th>\n",
       "      <th>CT3</th>\n",
       "      <th>CT4</th>\n",
       "      <th>CTtotal</th>\n",
       "      <th>Attendance</th>\n",
       "      <th>Observation</th>\n",
       "      <th>Total90</th>\n",
       "      <th>EM1</th>\n",
       "      <th>EM2</th>\n",
       "      <th>Total300</th>\n",
       "      <th>Index</th>\n",
       "    </tr>\n",
       "  </thead>\n",
       "  <tbody>\n",
       "    <tr>\n",
       "      <th>count</th>\n",
       "      <td>57.000000</td>\n",
       "      <td>54</td>\n",
       "      <td>54</td>\n",
       "      <td>54</td>\n",
       "      <td>54</td>\n",
       "      <td>54</td>\n",
       "      <td>54</td>\n",
       "      <td>54</td>\n",
       "      <td>54</td>\n",
       "      <td>54.000000</td>\n",
       "      <td>54.000000</td>\n",
       "      <td>54.000000</td>\n",
       "      <td>57.000000</td>\n",
       "    </tr>\n",
       "    <tr>\n",
       "      <th>unique</th>\n",
       "      <td>NaN</td>\n",
       "      <td>27</td>\n",
       "      <td>17</td>\n",
       "      <td>20</td>\n",
       "      <td>24</td>\n",
       "      <td>33</td>\n",
       "      <td>3</td>\n",
       "      <td>6</td>\n",
       "      <td>32</td>\n",
       "      <td>NaN</td>\n",
       "      <td>NaN</td>\n",
       "      <td>NaN</td>\n",
       "      <td>NaN</td>\n",
       "    </tr>\n",
       "    <tr>\n",
       "      <th>top</th>\n",
       "      <td>NaN</td>\n",
       "      <td>12.5</td>\n",
       "      <td>15</td>\n",
       "      <td>14</td>\n",
       "      <td>0</td>\n",
       "      <td>43.5</td>\n",
       "      <td>15</td>\n",
       "      <td>13.5</td>\n",
       "      <td>73.5</td>\n",
       "      <td>NaN</td>\n",
       "      <td>NaN</td>\n",
       "      <td>NaN</td>\n",
       "      <td>NaN</td>\n",
       "    </tr>\n",
       "    <tr>\n",
       "      <th>freq</th>\n",
       "      <td>NaN</td>\n",
       "      <td>5</td>\n",
       "      <td>7</td>\n",
       "      <td>9</td>\n",
       "      <td>11</td>\n",
       "      <td>5</td>\n",
       "      <td>49</td>\n",
       "      <td>25</td>\n",
       "      <td>5</td>\n",
       "      <td>NaN</td>\n",
       "      <td>NaN</td>\n",
       "      <td>NaN</td>\n",
       "      <td>NaN</td>\n",
       "    </tr>\n",
       "    <tr>\n",
       "      <th>mean</th>\n",
       "      <td>32.736842</td>\n",
       "      <td>NaN</td>\n",
       "      <td>NaN</td>\n",
       "      <td>NaN</td>\n",
       "      <td>NaN</td>\n",
       "      <td>NaN</td>\n",
       "      <td>NaN</td>\n",
       "      <td>NaN</td>\n",
       "      <td>NaN</td>\n",
       "      <td>35.972222</td>\n",
       "      <td>57.537037</td>\n",
       "      <td>165.324074</td>\n",
       "      <td>28.000000</td>\n",
       "    </tr>\n",
       "    <tr>\n",
       "      <th>std</th>\n",
       "      <td>18.657176</td>\n",
       "      <td>NaN</td>\n",
       "      <td>NaN</td>\n",
       "      <td>NaN</td>\n",
       "      <td>NaN</td>\n",
       "      <td>NaN</td>\n",
       "      <td>NaN</td>\n",
       "      <td>NaN</td>\n",
       "      <td>NaN</td>\n",
       "      <td>17.312995</td>\n",
       "      <td>20.441092</td>\n",
       "      <td>35.735290</td>\n",
       "      <td>16.598193</td>\n",
       "    </tr>\n",
       "    <tr>\n",
       "      <th>min</th>\n",
       "      <td>2.000000</td>\n",
       "      <td>NaN</td>\n",
       "      <td>NaN</td>\n",
       "      <td>NaN</td>\n",
       "      <td>NaN</td>\n",
       "      <td>NaN</td>\n",
       "      <td>NaN</td>\n",
       "      <td>NaN</td>\n",
       "      <td>NaN</td>\n",
       "      <td>3.000000</td>\n",
       "      <td>2.000000</td>\n",
       "      <td>52.000000</td>\n",
       "      <td>0.000000</td>\n",
       "    </tr>\n",
       "    <tr>\n",
       "      <th>25%</th>\n",
       "      <td>16.000000</td>\n",
       "      <td>NaN</td>\n",
       "      <td>NaN</td>\n",
       "      <td>NaN</td>\n",
       "      <td>NaN</td>\n",
       "      <td>NaN</td>\n",
       "      <td>NaN</td>\n",
       "      <td>NaN</td>\n",
       "      <td>NaN</td>\n",
       "      <td>26.000000</td>\n",
       "      <td>43.250000</td>\n",
       "      <td>139.750000</td>\n",
       "      <td>14.000000</td>\n",
       "    </tr>\n",
       "    <tr>\n",
       "      <th>50%</th>\n",
       "      <td>32.000000</td>\n",
       "      <td>NaN</td>\n",
       "      <td>NaN</td>\n",
       "      <td>NaN</td>\n",
       "      <td>NaN</td>\n",
       "      <td>NaN</td>\n",
       "      <td>NaN</td>\n",
       "      <td>NaN</td>\n",
       "      <td>NaN</td>\n",
       "      <td>35.500000</td>\n",
       "      <td>59.750000</td>\n",
       "      <td>165.250000</td>\n",
       "      <td>28.000000</td>\n",
       "    </tr>\n",
       "    <tr>\n",
       "      <th>75%</th>\n",
       "      <td>48.000000</td>\n",
       "      <td>NaN</td>\n",
       "      <td>NaN</td>\n",
       "      <td>NaN</td>\n",
       "      <td>NaN</td>\n",
       "      <td>NaN</td>\n",
       "      <td>NaN</td>\n",
       "      <td>NaN</td>\n",
       "      <td>NaN</td>\n",
       "      <td>48.000000</td>\n",
       "      <td>73.000000</td>\n",
       "      <td>184.125000</td>\n",
       "      <td>42.000000</td>\n",
       "    </tr>\n",
       "    <tr>\n",
       "      <th>max</th>\n",
       "      <td>64.000000</td>\n",
       "      <td>NaN</td>\n",
       "      <td>NaN</td>\n",
       "      <td>NaN</td>\n",
       "      <td>NaN</td>\n",
       "      <td>NaN</td>\n",
       "      <td>NaN</td>\n",
       "      <td>NaN</td>\n",
       "      <td>NaN</td>\n",
       "      <td>89.000000</td>\n",
       "      <td>97.000000</td>\n",
       "      <td>244.000000</td>\n",
       "      <td>56.000000</td>\n",
       "    </tr>\n",
       "  </tbody>\n",
       "</table>\n",
       "</div>"
      ],
      "text/plain": [
       "             Roll   CT1  CT2  CT3  ...        EM1        EM2    Total300      Index\n",
       "count   57.000000    54   54   54  ...  54.000000  54.000000   54.000000  57.000000\n",
       "unique        NaN    27   17   20  ...        NaN        NaN         NaN        NaN\n",
       "top           NaN  12.5   15   14  ...        NaN        NaN         NaN        NaN\n",
       "freq          NaN     5    7    9  ...        NaN        NaN         NaN        NaN\n",
       "mean    32.736842   NaN  NaN  NaN  ...  35.972222  57.537037  165.324074  28.000000\n",
       "std     18.657176   NaN  NaN  NaN  ...  17.312995  20.441092   35.735290  16.598193\n",
       "min      2.000000   NaN  NaN  NaN  ...   3.000000   2.000000   52.000000   0.000000\n",
       "25%     16.000000   NaN  NaN  NaN  ...  26.000000  43.250000  139.750000  14.000000\n",
       "50%     32.000000   NaN  NaN  NaN  ...  35.500000  59.750000  165.250000  28.000000\n",
       "75%     48.000000   NaN  NaN  NaN  ...  48.000000  73.000000  184.125000  42.000000\n",
       "max     64.000000   NaN  NaN  NaN  ...  89.000000  97.000000  244.000000  56.000000\n",
       "\n",
       "[11 rows x 13 columns]"
      ]
     },
     "execution_count": 166,
     "metadata": {
      "tags": []
     },
     "output_type": "execute_result"
    }
   ],
   "source": [
    "df.describe(include='all')"
   ]
  },
  {
   "cell_type": "code",
   "execution_count": 0,
   "metadata": {
    "colab": {
     "base_uri": "https://localhost:8080/",
     "height": 281
    },
    "colab_type": "code",
    "id": "t8JhfRr-0VC4",
    "outputId": "e5cd5b9a-a64a-431c-bbae-44da1e56d4b9"
   },
   "outputs": [
    {
     "data": {
      "image/png": "[encoded data removed]",
      "text/plain": [
       "<Figure size 432x288 with 1 Axes>"
      ]
     },
     "metadata": {
      "needs_background": "light",
      "tags": []
     },
     "output_type": "display_data"
    }
   ],
   "source": [
    "df.Total300.plot(kind=\"box\", title ='Box plot for Total marks (300) ');"
   ]
  },
  {
   "cell_type": "code",
   "execution_count": 0,
   "metadata": {
    "colab": {
     "base_uri": "https://localhost:8080/",
     "height": 281
    },
    "colab_type": "code",
    "id": "mKWlkYGVwsE2",
    "outputId": "17928117-e0fd-4987-c466-751a27f05121"
   },
   "outputs": [
    {
     "data": {
      "image/png": "[encoded data removed]",
      "text/plain": [
       "<Figure size 432x288 with 1 Axes>"
      ]
     },
     "metadata": {
      "needs_background": "light",
      "tags": []
     },
     "output_type": "display_data"
    }
   ],
   "source": [
    "#not possible to use scatter plot for bivariate distribution as values are in float\n",
    "\n",
    "df.plot.kde(x='Attendance', y='Total300', color='c', title='Total marks(300) vs Attendance', rot=0);"
   ]
  },
  {
   "cell_type": "code",
   "execution_count": 0,
   "metadata": {
    "colab": {},
    "colab_type": "code",
    "id": "eDEOhKPmsWE-"
   },
   "outputs": [],
   "source": [
    "import matplotlib.pyplot as plt"
   ]
  },
  {
   "cell_type": "code",
   "execution_count": 0,
   "metadata": {
    "colab": {
     "base_uri": "https://localhost:8080/",
     "height": 278
    },
    "colab_type": "code",
    "id": "AYQi19hHsa-X",
    "outputId": "0e70c87b-bb04-4907-a780-27e0d1d1f912"
   },
   "outputs": [
    {
     "data": {
      "image/png": "[encoded data removed]",
      "text/plain": [
       "<Figure size 432x288 with 1 Axes>"
      ]
     },
     "metadata": {
      "needs_background": "light",
      "tags": []
     },
     "output_type": "display_data"
    }
   ],
   "source": [
    "df['CT1'].value_counts().plot(kind='bar')\n",
    "plt.show()"
   ]
  },
  {
   "cell_type": "code",
   "execution_count": 0,
   "metadata": {
    "colab": {
     "base_uri": "https://localhost:8080/",
     "height": 34
    },
    "colab_type": "code",
    "id": "UFRaOtvVwfn-",
    "outputId": "5f98e207-8997-4af0-93a4-21acb3e020bc"
   },
   "outputs": [
    {
     "data": {
      "text/plain": [
       "12.0"
      ]
     },
     "execution_count": 171,
     "metadata": {
      "tags": []
     },
     "output_type": "execute_result"
    }
   ],
   "source": [
    "df.CT1.median()\n"
   ]
  },
  {
   "cell_type": "code",
   "execution_count": 0,
   "metadata": {
    "colab": {},
    "colab_type": "code",
    "id": "LAPsxSPBxM4o"
   },
   "outputs": [],
   "source": [
    "# df.CT1.mean()\n",
    "#commenting for now(getting error)"
   ]
  },
  {
   "cell_type": "code",
   "execution_count": 0,
   "metadata": {
    "colab": {},
    "colab_type": "code",
    "id": "73r1wH2t-rAm"
   },
   "outputs": [],
   "source": [
    "#replace missing values with median\n",
    "col='CT1'\n",
    "ctmed= df.CT1.median()\n",
    "df.CT1.fillna((df.CT1.median().astype(int)), inplace=True)\n"
   ]
  },
  {
   "cell_type": "code",
   "execution_count": 0,
   "metadata": {
    "colab": {
     "base_uri": "https://localhost:8080/",
     "height": 614
    },
    "colab_type": "code",
    "id": "gJAeY6-Hr-zs",
    "outputId": "fc4031b9-d84d-4774-b7e3-f67f5bc3fe99"
   },
   "outputs": [
    {
     "data": {
      "text/html": [
       "<div>\n",
       "<style scoped>\n",
       "    .dataframe tbody tr th:only-of-type {\n",
       "        vertical-align: middle;\n",
       "    }\n",
       "\n",
       "    .dataframe tbody tr th {\n",
       "        vertical-align: top;\n",
       "    }\n",
       "\n",
       "    .dataframe thead th {\n",
       "        text-align: right;\n",
       "    }\n",
       "</style>\n",
       "<table border=\"1\" class=\"dataframe\">\n",
       "  <thead>\n",
       "    <tr style=\"text-align: right;\">\n",
       "      <th></th>\n",
       "      <th>Roll</th>\n",
       "      <th>CT1</th>\n",
       "      <th>CT2</th>\n",
       "      <th>CT3</th>\n",
       "      <th>CT4</th>\n",
       "      <th>CTtotal</th>\n",
       "      <th>Attendance</th>\n",
       "      <th>Observation</th>\n",
       "      <th>Total90</th>\n",
       "      <th>EM1</th>\n",
       "      <th>EM2</th>\n",
       "      <th>Total300</th>\n",
       "      <th>Index</th>\n",
       "    </tr>\n",
       "  </thead>\n",
       "  <tbody>\n",
       "    <tr>\n",
       "      <th>0</th>\n",
       "      <td>2.0</td>\n",
       "      <td>12.5</td>\n",
       "      <td>15</td>\n",
       "      <td>14</td>\n",
       "      <td>18</td>\n",
       "      <td>47</td>\n",
       "      <td>15</td>\n",
       "      <td>13.5</td>\n",
       "      <td>75.5</td>\n",
       "      <td>45.0</td>\n",
       "      <td>46.5</td>\n",
       "      <td>167.0</td>\n",
       "      <td>0</td>\n",
       "    </tr>\n",
       "    <tr>\n",
       "      <th>1</th>\n",
       "      <td>3.0</td>\n",
       "      <td>9</td>\n",
       "      <td>10</td>\n",
       "      <td>17</td>\n",
       "      <td>11</td>\n",
       "      <td>38</td>\n",
       "      <td>15</td>\n",
       "      <td>13.5</td>\n",
       "      <td>66.5</td>\n",
       "      <td>28.0</td>\n",
       "      <td>44.0</td>\n",
       "      <td>138.5</td>\n",
       "      <td>1</td>\n",
       "    </tr>\n",
       "    <tr>\n",
       "      <th>2</th>\n",
       "      <td>4.0</td>\n",
       "      <td>10</td>\n",
       "      <td>15.5</td>\n",
       "      <td>12.5</td>\n",
       "      <td>6.5</td>\n",
       "      <td>38</td>\n",
       "      <td>15</td>\n",
       "      <td>13.5</td>\n",
       "      <td>66.5</td>\n",
       "      <td>26.5</td>\n",
       "      <td>43.0</td>\n",
       "      <td>136.0</td>\n",
       "      <td>2</td>\n",
       "    </tr>\n",
       "    <tr>\n",
       "      <th>3</th>\n",
       "      <td>5.0</td>\n",
       "      <td>14</td>\n",
       "      <td>14</td>\n",
       "      <td>18</td>\n",
       "      <td>0</td>\n",
       "      <td>46</td>\n",
       "      <td>15</td>\n",
       "      <td>15</td>\n",
       "      <td>76</td>\n",
       "      <td>46.0</td>\n",
       "      <td>44.0</td>\n",
       "      <td>166.0</td>\n",
       "      <td>3</td>\n",
       "    </tr>\n",
       "    <tr>\n",
       "      <th>4</th>\n",
       "      <td>6.0</td>\n",
       "      <td>14.5</td>\n",
       "      <td>15.5</td>\n",
       "      <td>15</td>\n",
       "      <td>15.5</td>\n",
       "      <td>46</td>\n",
       "      <td>15</td>\n",
       "      <td>15</td>\n",
       "      <td>76</td>\n",
       "      <td>26.0</td>\n",
       "      <td>74.5</td>\n",
       "      <td>176.5</td>\n",
       "      <td>4</td>\n",
       "    </tr>\n",
       "    <tr>\n",
       "      <th>5</th>\n",
       "      <td>7.0</td>\n",
       "      <td>13.5</td>\n",
       "      <td>13</td>\n",
       "      <td>18</td>\n",
       "      <td>16.5</td>\n",
       "      <td>48</td>\n",
       "      <td>15</td>\n",
       "      <td>15</td>\n",
       "      <td>78</td>\n",
       "      <td>77.0</td>\n",
       "      <td>70.0</td>\n",
       "      <td>225.0</td>\n",
       "      <td>5</td>\n",
       "    </tr>\n",
       "    <tr>\n",
       "      <th>6</th>\n",
       "      <td>8.0</td>\n",
       "      <td>14</td>\n",
       "      <td>16</td>\n",
       "      <td>14</td>\n",
       "      <td>16.5</td>\n",
       "      <td>46.5</td>\n",
       "      <td>15</td>\n",
       "      <td>15</td>\n",
       "      <td>76.5</td>\n",
       "      <td>69.0</td>\n",
       "      <td>79.5</td>\n",
       "      <td>225.0</td>\n",
       "      <td>6</td>\n",
       "    </tr>\n",
       "    <tr>\n",
       "      <th>7</th>\n",
       "      <td>9.0</td>\n",
       "      <td>11</td>\n",
       "      <td>17</td>\n",
       "      <td>15.5</td>\n",
       "      <td>20</td>\n",
       "      <td>52.5</td>\n",
       "      <td>15</td>\n",
       "      <td>12</td>\n",
       "      <td>79.5</td>\n",
       "      <td>49.0</td>\n",
       "      <td>67.0</td>\n",
       "      <td>195.5</td>\n",
       "      <td>7</td>\n",
       "    </tr>\n",
       "    <tr>\n",
       "      <th>8</th>\n",
       "      <td>10.0</td>\n",
       "      <td>8</td>\n",
       "      <td>15</td>\n",
       "      <td>14</td>\n",
       "      <td>8</td>\n",
       "      <td>37</td>\n",
       "      <td>15</td>\n",
       "      <td>15</td>\n",
       "      <td>67</td>\n",
       "      <td>26.0</td>\n",
       "      <td>38.5</td>\n",
       "      <td>131.5</td>\n",
       "      <td>8</td>\n",
       "    </tr>\n",
       "    <tr>\n",
       "      <th>9</th>\n",
       "      <td>11.0</td>\n",
       "      <td>11.5</td>\n",
       "      <td>14.5</td>\n",
       "      <td>7</td>\n",
       "      <td>14.5</td>\n",
       "      <td>40.5</td>\n",
       "      <td>15</td>\n",
       "      <td>13.5</td>\n",
       "      <td>69</td>\n",
       "      <td>40.0</td>\n",
       "      <td>41.0</td>\n",
       "      <td>150.0</td>\n",
       "      <td>9</td>\n",
       "    </tr>\n",
       "    <tr>\n",
       "      <th>10</th>\n",
       "      <td>12.0</td>\n",
       "      <td>7.5</td>\n",
       "      <td>13</td>\n",
       "      <td>18</td>\n",
       "      <td>7.5</td>\n",
       "      <td>38.5</td>\n",
       "      <td>15</td>\n",
       "      <td>13.5</td>\n",
       "      <td>67</td>\n",
       "      <td>51.0</td>\n",
       "      <td>45.0</td>\n",
       "      <td>163.0</td>\n",
       "      <td>10</td>\n",
       "    </tr>\n",
       "    <tr>\n",
       "      <th>11</th>\n",
       "      <td>13.0</td>\n",
       "      <td>12.5</td>\n",
       "      <td>20</td>\n",
       "      <td>11</td>\n",
       "      <td>0</td>\n",
       "      <td>43.5</td>\n",
       "      <td>15</td>\n",
       "      <td>15</td>\n",
       "      <td>73.5</td>\n",
       "      <td>48.0</td>\n",
       "      <td>59.5</td>\n",
       "      <td>181.0</td>\n",
       "      <td>11</td>\n",
       "    </tr>\n",
       "    <tr>\n",
       "      <th>12</th>\n",
       "      <td>14.0</td>\n",
       "      <td>7.5</td>\n",
       "      <td>11.5</td>\n",
       "      <td>17</td>\n",
       "      <td>8.5</td>\n",
       "      <td>37</td>\n",
       "      <td>15</td>\n",
       "      <td>13.5</td>\n",
       "      <td>65.5</td>\n",
       "      <td>42.0</td>\n",
       "      <td>23.5</td>\n",
       "      <td>131.0</td>\n",
       "      <td>12</td>\n",
       "    </tr>\n",
       "    <tr>\n",
       "      <th>13</th>\n",
       "      <td>15.0</td>\n",
       "      <td>7.5</td>\n",
       "      <td>15.5</td>\n",
       "      <td>15</td>\n",
       "      <td>14.5</td>\n",
       "      <td>45</td>\n",
       "      <td>15</td>\n",
       "      <td>13.5</td>\n",
       "      <td>73.5</td>\n",
       "      <td>43.0</td>\n",
       "      <td>64.0</td>\n",
       "      <td>180.5</td>\n",
       "      <td>13</td>\n",
       "    </tr>\n",
       "    <tr>\n",
       "      <th>14</th>\n",
       "      <td>16.0</td>\n",
       "      <td>1</td>\n",
       "      <td>10</td>\n",
       "      <td>7.5</td>\n",
       "      <td>0</td>\n",
       "      <td>18.5</td>\n",
       "      <td>15</td>\n",
       "      <td>13.5</td>\n",
       "      <td>47</td>\n",
       "      <td>3.0</td>\n",
       "      <td>2.0</td>\n",
       "      <td>52.0</td>\n",
       "      <td>14</td>\n",
       "    </tr>\n",
       "    <tr>\n",
       "      <th>17</th>\n",
       "      <td>19.0</td>\n",
       "      <td>12</td>\n",
       "      <td>None</td>\n",
       "      <td>None</td>\n",
       "      <td>None</td>\n",
       "      <td>None</td>\n",
       "      <td>None</td>\n",
       "      <td>None</td>\n",
       "      <td>None</td>\n",
       "      <td>NaN</td>\n",
       "      <td>NaN</td>\n",
       "      <td>NaN</td>\n",
       "      <td>15</td>\n",
       "    </tr>\n",
       "    <tr>\n",
       "      <th>18</th>\n",
       "      <td>20.0</td>\n",
       "      <td>9.5</td>\n",
       "      <td>18</td>\n",
       "      <td>12</td>\n",
       "      <td>6.5</td>\n",
       "      <td>39.5</td>\n",
       "      <td>15</td>\n",
       "      <td>15</td>\n",
       "      <td>69.5</td>\n",
       "      <td>22.0</td>\n",
       "      <td>25.5</td>\n",
       "      <td>117.0</td>\n",
       "      <td>16</td>\n",
       "    </tr>\n",
       "    <tr>\n",
       "      <th>19</th>\n",
       "      <td>21.0</td>\n",
       "      <td>14.5</td>\n",
       "      <td>12</td>\n",
       "      <td>19</td>\n",
       "      <td>17</td>\n",
       "      <td>50.5</td>\n",
       "      <td>15</td>\n",
       "      <td>13.5</td>\n",
       "      <td>79</td>\n",
       "      <td>18.0</td>\n",
       "      <td>47.0</td>\n",
       "      <td>144.0</td>\n",
       "      <td>17</td>\n",
       "    </tr>\n",
       "  </tbody>\n",
       "</table>\n",
       "</div>"
      ],
      "text/plain": [
       "    Roll   CT1   CT2   CT3   CT4  ... Total90   EM1   EM2 Total300  Index\n",
       "0    2.0  12.5    15    14    18  ...    75.5  45.0  46.5    167.0      0\n",
       "1    3.0     9    10    17    11  ...    66.5  28.0  44.0    138.5      1\n",
       "2    4.0    10  15.5  12.5   6.5  ...    66.5  26.5  43.0    136.0      2\n",
       "3    5.0    14    14    18     0  ...      76  46.0  44.0    166.0      3\n",
       "4    6.0  14.5  15.5    15  15.5  ...      76  26.0  74.5    176.5      4\n",
       "5    7.0  13.5    13    18  16.5  ...      78  77.0  70.0    225.0      5\n",
       "6    8.0    14    16    14  16.5  ...    76.5  69.0  79.5    225.0      6\n",
       "7    9.0    11    17  15.5    20  ...    79.5  49.0  67.0    195.5      7\n",
       "8   10.0     8    15    14     8  ...      67  26.0  38.5    131.5      8\n",
       "9   11.0  11.5  14.5     7  14.5  ...      69  40.0  41.0    150.0      9\n",
       "10  12.0   7.5    13    18   7.5  ...      67  51.0  45.0    163.0     10\n",
       "11  13.0  12.5    20    11     0  ...    73.5  48.0  59.5    181.0     11\n",
       "12  14.0   7.5  11.5    17   8.5  ...    65.5  42.0  23.5    131.0     12\n",
       "13  15.0   7.5  15.5    15  14.5  ...    73.5  43.0  64.0    180.5     13\n",
       "14  16.0     1    10   7.5     0  ...      47   3.0   2.0     52.0     14\n",
       "17  19.0    12  None  None  None  ...    None   NaN   NaN      NaN     15\n",
       "18  20.0   9.5    18    12   6.5  ...    69.5  22.0  25.5    117.0     16\n",
       "19  21.0  14.5    12    19    17  ...      79  18.0  47.0    144.0     17\n",
       "\n",
       "[18 rows x 13 columns]"
      ]
     },
     "execution_count": 174,
     "metadata": {
      "tags": []
     },
     "output_type": "execute_result"
    }
   ],
   "source": [
    "df.head(18)"
   ]
  },
  {
   "cell_type": "code",
   "execution_count": 0,
   "metadata": {
    "colab": {
     "base_uri": "https://localhost:8080/",
     "height": 34
    },
    "colab_type": "code",
    "id": "nO_Ijk_Exhwf",
    "outputId": "311c0889-6378-4114-af16-c3258c8ee661"
   },
   "outputs": [
    {
     "data": {
      "text/plain": [
       "165.25"
      ]
     },
     "execution_count": 175,
     "metadata": {
      "tags": []
     },
     "output_type": "execute_result"
    }
   ],
   "source": [
    "df.Total300.median()"
   ]
  },
  {
   "cell_type": "code",
   "execution_count": 0,
   "metadata": {
    "colab": {
     "base_uri": "https://localhost:8080/",
     "height": 284
    },
    "colab_type": "code",
    "id": "N6mXquk6xiND",
    "outputId": "1d043710-c992-4fce-8557-56278b03a27b"
   },
   "outputs": [
    {
     "data": {
      "image/png": "[encoded data removed]",
      "text/plain": [
       "<Figure size 432x288 with 1 Axes>"
      ]
     },
     "metadata": {
      "needs_background": "light",
      "tags": []
     },
     "output_type": "display_data"
    }
   ],
   "source": [
    "df['Total300'].value_counts().plot(kind='bar')\n",
    "plt.show()"
   ]
  },
  {
   "cell_type": "code",
   "execution_count": 0,
   "metadata": {
    "colab": {
     "base_uri": "https://localhost:8080/",
     "height": 243
    },
    "colab_type": "code",
    "id": "717slXvZvhrT",
    "outputId": "96daeccc-708c-4985-f179-c5cc4597e757"
   },
   "outputs": [
    {
     "data": {
      "text/plain": [
       "{'Attendance',\n",
       " 'CT1',\n",
       " 'CT2',\n",
       " 'CT3',\n",
       " 'CT4',\n",
       " 'CTtotal',\n",
       " 'EM1',\n",
       " 'EM2',\n",
       " 'Index',\n",
       " 'Observation',\n",
       " 'Roll',\n",
       " 'Total300',\n",
       " 'Total90'}"
      ]
     },
     "execution_count": 177,
     "metadata": {
      "tags": []
     },
     "output_type": "execute_result"
    }
   ],
   "source": [
    "set(df.columns)"
   ]
  },
  {
   "cell_type": "markdown",
   "metadata": {
    "colab_type": "text",
    "id": "9EyHXeSjsL9Z"
   },
   "source": [
    "Applying this to all other fields..."
   ]
  },
  {
   "cell_type": "code",
   "execution_count": 0,
   "metadata": {
    "colab": {
     "base_uri": "https://localhost:8080/",
     "height": 34
    },
    "colab_type": "code",
    "id": "jiIDFfbdIRS7",
    "outputId": "fb0b946e-aca7-4268-d37a-3645c99e1651"
   },
   "outputs": [
    {
     "data": {
      "text/plain": [
       "str"
      ]
     },
     "execution_count": 178,
     "metadata": {
      "tags": []
     },
     "output_type": "execute_result"
    }
   ],
   "source": [
    "type(df.Attendance.iloc[2])"
   ]
  },
  {
   "cell_type": "code",
   "execution_count": 0,
   "metadata": {
    "colab": {},
    "colab_type": "code",
    "id": "Ufmt-IFzIvo7"
   },
   "outputs": [],
   "source": [
    "#so there's a problem with the attendance values. They are strings and not int or float"
   ]
  },
  {
   "cell_type": "code",
   "execution_count": 0,
   "metadata": {
    "colab": {},
    "colab_type": "code",
    "id": "aFTLEs54alvj"
   },
   "outputs": [],
   "source": [
    "df['Attendance'] = pd.to_numeric(df['Attendance'], downcast='float') "
   ]
  },
  {
   "cell_type": "code",
   "execution_count": 0,
   "metadata": {
    "colab": {},
    "colab_type": "code",
    "id": "MGLDc3bRdF8E"
   },
   "outputs": [],
   "source": [
    "df['CT1'] = pd.to_numeric(df['CT1'], downcast='float') "
   ]
  },
  {
   "cell_type": "code",
   "execution_count": 0,
   "metadata": {
    "colab": {
     "base_uri": "https://localhost:8080/",
     "height": 34
    },
    "colab_type": "code",
    "id": "R1ABdrjRbN5-",
    "outputId": "64a77187-8f5c-4611-9c2f-1d4ef4360904"
   },
   "outputs": [
    {
     "data": {
      "text/plain": [
       "numpy.float32"
      ]
     },
     "execution_count": 192,
     "metadata": {
      "tags": []
     },
     "output_type": "execute_result"
    }
   ],
   "source": [
    "type(df.Attendance.iloc[2])"
   ]
  },
  {
   "cell_type": "code",
   "execution_count": 0,
   "metadata": {
    "colab": {
     "base_uri": "https://localhost:8080/",
     "height": 206
    },
    "colab_type": "code",
    "id": "4IwHYRfwbSQ9",
    "outputId": "7c4ad691-588e-4a4a-ccdb-215e0901dd58"
   },
   "outputs": [
    {
     "data": {
      "text/html": [
       "<div>\n",
       "<style scoped>\n",
       "    .dataframe tbody tr th:only-of-type {\n",
       "        vertical-align: middle;\n",
       "    }\n",
       "\n",
       "    .dataframe tbody tr th {\n",
       "        vertical-align: top;\n",
       "    }\n",
       "\n",
       "    .dataframe thead th {\n",
       "        text-align: right;\n",
       "    }\n",
       "</style>\n",
       "<table border=\"1\" class=\"dataframe\">\n",
       "  <thead>\n",
       "    <tr style=\"text-align: right;\">\n",
       "      <th></th>\n",
       "      <th>Roll</th>\n",
       "      <th>CT1</th>\n",
       "      <th>CT2</th>\n",
       "      <th>CT3</th>\n",
       "      <th>CT4</th>\n",
       "      <th>CTtotal</th>\n",
       "      <th>Attendance</th>\n",
       "      <th>Observation</th>\n",
       "      <th>Total90</th>\n",
       "      <th>EM1</th>\n",
       "      <th>EM2</th>\n",
       "      <th>Total300</th>\n",
       "      <th>Index</th>\n",
       "    </tr>\n",
       "  </thead>\n",
       "  <tbody>\n",
       "    <tr>\n",
       "      <th>0</th>\n",
       "      <td>2.0</td>\n",
       "      <td>12.5</td>\n",
       "      <td>15</td>\n",
       "      <td>14</td>\n",
       "      <td>18</td>\n",
       "      <td>47</td>\n",
       "      <td>15.0</td>\n",
       "      <td>13.5</td>\n",
       "      <td>75.5</td>\n",
       "      <td>45.0</td>\n",
       "      <td>46.5</td>\n",
       "      <td>167.0</td>\n",
       "      <td>0</td>\n",
       "    </tr>\n",
       "    <tr>\n",
       "      <th>1</th>\n",
       "      <td>3.0</td>\n",
       "      <td>9</td>\n",
       "      <td>10</td>\n",
       "      <td>17</td>\n",
       "      <td>11</td>\n",
       "      <td>38</td>\n",
       "      <td>15.0</td>\n",
       "      <td>13.5</td>\n",
       "      <td>66.5</td>\n",
       "      <td>28.0</td>\n",
       "      <td>44.0</td>\n",
       "      <td>138.5</td>\n",
       "      <td>1</td>\n",
       "    </tr>\n",
       "    <tr>\n",
       "      <th>2</th>\n",
       "      <td>4.0</td>\n",
       "      <td>10</td>\n",
       "      <td>15.5</td>\n",
       "      <td>12.5</td>\n",
       "      <td>6.5</td>\n",
       "      <td>38</td>\n",
       "      <td>15.0</td>\n",
       "      <td>13.5</td>\n",
       "      <td>66.5</td>\n",
       "      <td>26.5</td>\n",
       "      <td>43.0</td>\n",
       "      <td>136.0</td>\n",
       "      <td>2</td>\n",
       "    </tr>\n",
       "    <tr>\n",
       "      <th>3</th>\n",
       "      <td>5.0</td>\n",
       "      <td>14</td>\n",
       "      <td>14</td>\n",
       "      <td>18</td>\n",
       "      <td>0</td>\n",
       "      <td>46</td>\n",
       "      <td>15.0</td>\n",
       "      <td>15</td>\n",
       "      <td>76</td>\n",
       "      <td>46.0</td>\n",
       "      <td>44.0</td>\n",
       "      <td>166.0</td>\n",
       "      <td>3</td>\n",
       "    </tr>\n",
       "    <tr>\n",
       "      <th>4</th>\n",
       "      <td>6.0</td>\n",
       "      <td>14.5</td>\n",
       "      <td>15.5</td>\n",
       "      <td>15</td>\n",
       "      <td>15.5</td>\n",
       "      <td>46</td>\n",
       "      <td>15.0</td>\n",
       "      <td>15</td>\n",
       "      <td>76</td>\n",
       "      <td>26.0</td>\n",
       "      <td>74.5</td>\n",
       "      <td>176.5</td>\n",
       "      <td>4</td>\n",
       "    </tr>\n",
       "  </tbody>\n",
       "</table>\n",
       "</div>"
      ],
      "text/plain": [
       "   Roll   CT1   CT2   CT3   CT4  ... Total90   EM1   EM2 Total300  Index\n",
       "0   2.0  12.5    15    14    18  ...    75.5  45.0  46.5    167.0      0\n",
       "1   3.0     9    10    17    11  ...    66.5  28.0  44.0    138.5      1\n",
       "2   4.0    10  15.5  12.5   6.5  ...    66.5  26.5  43.0    136.0      2\n",
       "3   5.0    14    14    18     0  ...      76  46.0  44.0    166.0      3\n",
       "4   6.0  14.5  15.5    15  15.5  ...      76  26.0  74.5    176.5      4\n",
       "\n",
       "[5 rows x 13 columns]"
      ]
     },
     "execution_count": 193,
     "metadata": {
      "tags": []
     },
     "output_type": "execute_result"
    }
   ],
   "source": [
    "df.head()"
   ]
  },
  {
   "cell_type": "code",
   "execution_count": 0,
   "metadata": {
    "colab": {
     "base_uri": "https://localhost:8080/",
     "height": 34
    },
    "colab_type": "code",
    "id": "E3L_tdJHIhQU",
    "outputId": "57a11495-9259-484f-cfd5-aadb4b8f26c9"
   },
   "outputs": [
    {
     "data": {
      "text/plain": [
       "numpy.int64"
      ]
     },
     "execution_count": 195,
     "metadata": {
      "tags": []
     },
     "output_type": "execute_result"
    }
   ],
   "source": [
    "type(df.Index.iloc[3])"
   ]
  },
  {
   "cell_type": "code",
   "execution_count": 0,
   "metadata": {
    "colab": {
     "base_uri": "https://localhost:8080/",
     "height": 34
    },
    "colab_type": "code",
    "id": "3uyIPJOwIkNS",
    "outputId": "4f0f552c-45b7-43e6-8c1e-d9bc6c05b91f"
   },
   "outputs": [
    {
     "data": {
      "text/plain": [
       "numpy.float64"
      ]
     },
     "execution_count": 196,
     "metadata": {
      "tags": []
     },
     "output_type": "execute_result"
    }
   ],
   "source": [
    "type(df.Total300.iloc[2])"
   ]
  },
  {
   "cell_type": "code",
   "execution_count": 0,
   "metadata": {
    "colab": {},
    "colab_type": "code",
    "id": "0InOhysHbm_f"
   },
   "outputs": [],
   "source": [
    "# applying float value to all other columns...\n",
    "\n",
    "#and also filling null values with median..."
   ]
  },
  {
   "cell_type": "code",
   "execution_count": 0,
   "metadata": {
    "colab": {
     "base_uri": "https://localhost:8080/",
     "height": 243
    },
    "colab_type": "code",
    "id": "0gwLe32L1kzX",
    "outputId": "7219d552-874f-43f3-ae3d-68238b81a434"
   },
   "outputs": [
    {
     "name": "stdout",
     "output_type": "stream",
     "text": [
      "Roll\n",
      "CT1\n",
      "CT2\n",
      "CT3\n",
      "CT4\n",
      "CTtotal\n",
      "Attendance\n",
      "Observation\n",
      "Total90\n",
      "EM1\n",
      "EM2\n",
      "Total300\n",
      "Index\n"
     ]
    }
   ],
   "source": [
    "for col in df:\n",
    "  print(col)\n",
    "  df_col = df[col]\n",
    "  df[col] = pd.to_numeric(df[col], downcast='float') \n",
    "\n",
    "  # med =int(round(df_col.median()))\n",
    "  #that was to round off\n",
    "  \n",
    "  med= df_col.median()\n",
    "  # med =  med.astype(int)\n",
    "  df_col.fillna(int(med), inplace =  True)"
   ]
  },
  {
   "cell_type": "code",
   "execution_count": 0,
   "metadata": {
    "colab": {},
    "colab_type": "code",
    "id": "2Ba-BQZzek8V"
   },
   "outputs": [],
   "source": [
    "#for somereason the values are not being converted to float in the loop, so doing manually,\n",
    "df['CT2'] = pd.to_numeric(df['CT2'], downcast='float')\n",
    "df['CTtotal'] = pd.to_numeric(df['CTtotal'], downcast='float')\n",
    "df['Observation'] = pd.to_numeric(df['Observation'], downcast='float')\n",
    "df['Total90'] = pd.to_numeric(df['Total90'], downcast='float')"
   ]
  },
  {
   "cell_type": "code",
   "execution_count": 0,
   "metadata": {
    "colab": {},
    "colab_type": "code",
    "id": "rNz1_LWO6DFd"
   },
   "outputs": [],
   "source": [
    "# list={'CT1','CT2','CT3','CT4','CTtotal','Attendance','Observation','Total90','EM1','EM2','Total300'}\n",
    "# for col in list:\n",
    "#   df_col = df[df.columns == col]\n",
    "#   df_col.fillna([df_col.mean()], inplace=True)\n",
    " \n",
    " #commenting this for now(there's an alternative way above)"
   ]
  },
  {
   "cell_type": "code",
   "execution_count": 0,
   "metadata": {
    "colab": {
     "base_uri": "https://localhost:8080/",
     "height": 266
    },
    "colab_type": "code",
    "id": "L9B5Oqy8E3TV",
    "outputId": "5db9c7a1-08b6-471d-8877-55e6cf900130"
   },
   "outputs": [
    {
     "data": {
      "image/png": "[encoded data removed]",
      "text/plain": [
       "<Figure size 432x288 with 1 Axes>"
      ]
     },
     "metadata": {
      "needs_background": "light",
      "tags": []
     },
     "output_type": "display_data"
    }
   ],
   "source": [
    "df[(df.Total300 != -99) & df.Total300.notnull()].boxplot('Total300');"
   ]
  },
  {
   "cell_type": "code",
   "execution_count": 0,
   "metadata": {
    "colab": {
     "base_uri": "https://localhost:8080/",
     "height": 1000
    },
    "colab_type": "code",
    "id": "xjRZkb9b3IRC",
    "outputId": "95029501-db44-4c41-8d92-797878e75011"
   },
   "outputs": [
    {
     "data": {
      "text/html": [
       "<div>\n",
       "<style scoped>\n",
       "    .dataframe tbody tr th:only-of-type {\n",
       "        vertical-align: middle;\n",
       "    }\n",
       "\n",
       "    .dataframe tbody tr th {\n",
       "        vertical-align: top;\n",
       "    }\n",
       "\n",
       "    .dataframe thead th {\n",
       "        text-align: right;\n",
       "    }\n",
       "</style>\n",
       "<table border=\"1\" class=\"dataframe\">\n",
       "  <thead>\n",
       "    <tr style=\"text-align: right;\">\n",
       "      <th></th>\n",
       "      <th>Roll</th>\n",
       "      <th>CT1</th>\n",
       "      <th>CT2</th>\n",
       "      <th>CT3</th>\n",
       "      <th>CT4</th>\n",
       "      <th>CTtotal</th>\n",
       "      <th>Attendance</th>\n",
       "      <th>Observation</th>\n",
       "      <th>Total90</th>\n",
       "      <th>EM1</th>\n",
       "      <th>EM2</th>\n",
       "      <th>Total300</th>\n",
       "      <th>Index</th>\n",
       "    </tr>\n",
       "  </thead>\n",
       "  <tbody>\n",
       "    <tr>\n",
       "      <th>0</th>\n",
       "      <td>2.0</td>\n",
       "      <td>12.5</td>\n",
       "      <td>15</td>\n",
       "      <td>14</td>\n",
       "      <td>18</td>\n",
       "      <td>47</td>\n",
       "      <td>15.0</td>\n",
       "      <td>13.5</td>\n",
       "      <td>75.5</td>\n",
       "      <td>45.0</td>\n",
       "      <td>46.5</td>\n",
       "      <td>167.0</td>\n",
       "      <td>0</td>\n",
       "    </tr>\n",
       "    <tr>\n",
       "      <th>1</th>\n",
       "      <td>3.0</td>\n",
       "      <td>9.0</td>\n",
       "      <td>10</td>\n",
       "      <td>17</td>\n",
       "      <td>11</td>\n",
       "      <td>38</td>\n",
       "      <td>15.0</td>\n",
       "      <td>13.5</td>\n",
       "      <td>66.5</td>\n",
       "      <td>28.0</td>\n",
       "      <td>44.0</td>\n",
       "      <td>138.5</td>\n",
       "      <td>1</td>\n",
       "    </tr>\n",
       "    <tr>\n",
       "      <th>2</th>\n",
       "      <td>4.0</td>\n",
       "      <td>10.0</td>\n",
       "      <td>15.5</td>\n",
       "      <td>12.5</td>\n",
       "      <td>6.5</td>\n",
       "      <td>38</td>\n",
       "      <td>15.0</td>\n",
       "      <td>13.5</td>\n",
       "      <td>66.5</td>\n",
       "      <td>26.5</td>\n",
       "      <td>43.0</td>\n",
       "      <td>136.0</td>\n",
       "      <td>2</td>\n",
       "    </tr>\n",
       "    <tr>\n",
       "      <th>3</th>\n",
       "      <td>5.0</td>\n",
       "      <td>14.0</td>\n",
       "      <td>14</td>\n",
       "      <td>18</td>\n",
       "      <td>0</td>\n",
       "      <td>46</td>\n",
       "      <td>15.0</td>\n",
       "      <td>15</td>\n",
       "      <td>76</td>\n",
       "      <td>46.0</td>\n",
       "      <td>44.0</td>\n",
       "      <td>166.0</td>\n",
       "      <td>3</td>\n",
       "    </tr>\n",
       "    <tr>\n",
       "      <th>4</th>\n",
       "      <td>6.0</td>\n",
       "      <td>14.5</td>\n",
       "      <td>15.5</td>\n",
       "      <td>15</td>\n",
       "      <td>15.5</td>\n",
       "      <td>46</td>\n",
       "      <td>15.0</td>\n",
       "      <td>15</td>\n",
       "      <td>76</td>\n",
       "      <td>26.0</td>\n",
       "      <td>74.5</td>\n",
       "      <td>176.5</td>\n",
       "      <td>4</td>\n",
       "    </tr>\n",
       "    <tr>\n",
       "      <th>5</th>\n",
       "      <td>7.0</td>\n",
       "      <td>13.5</td>\n",
       "      <td>13</td>\n",
       "      <td>18</td>\n",
       "      <td>16.5</td>\n",
       "      <td>48</td>\n",
       "      <td>15.0</td>\n",
       "      <td>15</td>\n",
       "      <td>78</td>\n",
       "      <td>77.0</td>\n",
       "      <td>70.0</td>\n",
       "      <td>225.0</td>\n",
       "      <td>5</td>\n",
       "    </tr>\n",
       "    <tr>\n",
       "      <th>6</th>\n",
       "      <td>8.0</td>\n",
       "      <td>14.0</td>\n",
       "      <td>16</td>\n",
       "      <td>14</td>\n",
       "      <td>16.5</td>\n",
       "      <td>46.5</td>\n",
       "      <td>15.0</td>\n",
       "      <td>15</td>\n",
       "      <td>76.5</td>\n",
       "      <td>69.0</td>\n",
       "      <td>79.5</td>\n",
       "      <td>225.0</td>\n",
       "      <td>6</td>\n",
       "    </tr>\n",
       "    <tr>\n",
       "      <th>7</th>\n",
       "      <td>9.0</td>\n",
       "      <td>11.0</td>\n",
       "      <td>17</td>\n",
       "      <td>15.5</td>\n",
       "      <td>20</td>\n",
       "      <td>52.5</td>\n",
       "      <td>15.0</td>\n",
       "      <td>12</td>\n",
       "      <td>79.5</td>\n",
       "      <td>49.0</td>\n",
       "      <td>67.0</td>\n",
       "      <td>195.5</td>\n",
       "      <td>7</td>\n",
       "    </tr>\n",
       "    <tr>\n",
       "      <th>8</th>\n",
       "      <td>10.0</td>\n",
       "      <td>8.0</td>\n",
       "      <td>15</td>\n",
       "      <td>14</td>\n",
       "      <td>8</td>\n",
       "      <td>37</td>\n",
       "      <td>15.0</td>\n",
       "      <td>15</td>\n",
       "      <td>67</td>\n",
       "      <td>26.0</td>\n",
       "      <td>38.5</td>\n",
       "      <td>131.5</td>\n",
       "      <td>8</td>\n",
       "    </tr>\n",
       "    <tr>\n",
       "      <th>9</th>\n",
       "      <td>11.0</td>\n",
       "      <td>11.5</td>\n",
       "      <td>14.5</td>\n",
       "      <td>7</td>\n",
       "      <td>14.5</td>\n",
       "      <td>40.5</td>\n",
       "      <td>15.0</td>\n",
       "      <td>13.5</td>\n",
       "      <td>69</td>\n",
       "      <td>40.0</td>\n",
       "      <td>41.0</td>\n",
       "      <td>150.0</td>\n",
       "      <td>9</td>\n",
       "    </tr>\n",
       "    <tr>\n",
       "      <th>10</th>\n",
       "      <td>12.0</td>\n",
       "      <td>7.5</td>\n",
       "      <td>13</td>\n",
       "      <td>18</td>\n",
       "      <td>7.5</td>\n",
       "      <td>38.5</td>\n",
       "      <td>15.0</td>\n",
       "      <td>13.5</td>\n",
       "      <td>67</td>\n",
       "      <td>51.0</td>\n",
       "      <td>45.0</td>\n",
       "      <td>163.0</td>\n",
       "      <td>10</td>\n",
       "    </tr>\n",
       "    <tr>\n",
       "      <th>11</th>\n",
       "      <td>13.0</td>\n",
       "      <td>12.5</td>\n",
       "      <td>20</td>\n",
       "      <td>11</td>\n",
       "      <td>0</td>\n",
       "      <td>43.5</td>\n",
       "      <td>15.0</td>\n",
       "      <td>15</td>\n",
       "      <td>73.5</td>\n",
       "      <td>48.0</td>\n",
       "      <td>59.5</td>\n",
       "      <td>181.0</td>\n",
       "      <td>11</td>\n",
       "    </tr>\n",
       "    <tr>\n",
       "      <th>12</th>\n",
       "      <td>14.0</td>\n",
       "      <td>7.5</td>\n",
       "      <td>11.5</td>\n",
       "      <td>17</td>\n",
       "      <td>8.5</td>\n",
       "      <td>37</td>\n",
       "      <td>15.0</td>\n",
       "      <td>13.5</td>\n",
       "      <td>65.5</td>\n",
       "      <td>42.0</td>\n",
       "      <td>23.5</td>\n",
       "      <td>131.0</td>\n",
       "      <td>12</td>\n",
       "    </tr>\n",
       "    <tr>\n",
       "      <th>13</th>\n",
       "      <td>15.0</td>\n",
       "      <td>7.5</td>\n",
       "      <td>15.5</td>\n",
       "      <td>15</td>\n",
       "      <td>14.5</td>\n",
       "      <td>45</td>\n",
       "      <td>15.0</td>\n",
       "      <td>13.5</td>\n",
       "      <td>73.5</td>\n",
       "      <td>43.0</td>\n",
       "      <td>64.0</td>\n",
       "      <td>180.5</td>\n",
       "      <td>13</td>\n",
       "    </tr>\n",
       "    <tr>\n",
       "      <th>14</th>\n",
       "      <td>16.0</td>\n",
       "      <td>1.0</td>\n",
       "      <td>10</td>\n",
       "      <td>7.5</td>\n",
       "      <td>0</td>\n",
       "      <td>18.5</td>\n",
       "      <td>15.0</td>\n",
       "      <td>13.5</td>\n",
       "      <td>47</td>\n",
       "      <td>3.0</td>\n",
       "      <td>2.0</td>\n",
       "      <td>52.0</td>\n",
       "      <td>14</td>\n",
       "    </tr>\n",
       "    <tr>\n",
       "      <th>17</th>\n",
       "      <td>19.0</td>\n",
       "      <td>12.0</td>\n",
       "      <td>15</td>\n",
       "      <td>14</td>\n",
       "      <td>10</td>\n",
       "      <td>44</td>\n",
       "      <td>15.0</td>\n",
       "      <td>14</td>\n",
       "      <td>74</td>\n",
       "      <td>36.0</td>\n",
       "      <td>60.0</td>\n",
       "      <td>165.0</td>\n",
       "      <td>15</td>\n",
       "    </tr>\n",
       "    <tr>\n",
       "      <th>18</th>\n",
       "      <td>20.0</td>\n",
       "      <td>9.5</td>\n",
       "      <td>18</td>\n",
       "      <td>12</td>\n",
       "      <td>6.5</td>\n",
       "      <td>39.5</td>\n",
       "      <td>15.0</td>\n",
       "      <td>15</td>\n",
       "      <td>69.5</td>\n",
       "      <td>22.0</td>\n",
       "      <td>25.5</td>\n",
       "      <td>117.0</td>\n",
       "      <td>16</td>\n",
       "    </tr>\n",
       "    <tr>\n",
       "      <th>19</th>\n",
       "      <td>21.0</td>\n",
       "      <td>14.5</td>\n",
       "      <td>12</td>\n",
       "      <td>19</td>\n",
       "      <td>17</td>\n",
       "      <td>50.5</td>\n",
       "      <td>15.0</td>\n",
       "      <td>13.5</td>\n",
       "      <td>79</td>\n",
       "      <td>18.0</td>\n",
       "      <td>47.0</td>\n",
       "      <td>144.0</td>\n",
       "      <td>17</td>\n",
       "    </tr>\n",
       "    <tr>\n",
       "      <th>20</th>\n",
       "      <td>22.0</td>\n",
       "      <td>7.0</td>\n",
       "      <td>14.5</td>\n",
       "      <td>16</td>\n",
       "      <td>19.5</td>\n",
       "      <td>50</td>\n",
       "      <td>15.0</td>\n",
       "      <td>15</td>\n",
       "      <td>80</td>\n",
       "      <td>39.0</td>\n",
       "      <td>55.5</td>\n",
       "      <td>174.5</td>\n",
       "      <td>18</td>\n",
       "    </tr>\n",
       "    <tr>\n",
       "      <th>21</th>\n",
       "      <td>23.0</td>\n",
       "      <td>5.0</td>\n",
       "      <td>14</td>\n",
       "      <td>18</td>\n",
       "      <td>14.5</td>\n",
       "      <td>46.5</td>\n",
       "      <td>15.0</td>\n",
       "      <td>12</td>\n",
       "      <td>73.5</td>\n",
       "      <td>49.0</td>\n",
       "      <td>79.5</td>\n",
       "      <td>202.0</td>\n",
       "      <td>19</td>\n",
       "    </tr>\n",
       "    <tr>\n",
       "      <th>22</th>\n",
       "      <td>24.0</td>\n",
       "      <td>0.0</td>\n",
       "      <td>16</td>\n",
       "      <td>13</td>\n",
       "      <td>14.5</td>\n",
       "      <td>43.5</td>\n",
       "      <td>13.5</td>\n",
       "      <td>13.5</td>\n",
       "      <td>70.5</td>\n",
       "      <td>41.0</td>\n",
       "      <td>67.0</td>\n",
       "      <td>178.5</td>\n",
       "      <td>20</td>\n",
       "    </tr>\n",
       "    <tr>\n",
       "      <th>23</th>\n",
       "      <td>25.0</td>\n",
       "      <td>13.0</td>\n",
       "      <td>15</td>\n",
       "      <td>14</td>\n",
       "      <td>15.5</td>\n",
       "      <td>44.5</td>\n",
       "      <td>15.0</td>\n",
       "      <td>15</td>\n",
       "      <td>74.5</td>\n",
       "      <td>53.0</td>\n",
       "      <td>30.0</td>\n",
       "      <td>157.5</td>\n",
       "      <td>21</td>\n",
       "    </tr>\n",
       "    <tr>\n",
       "      <th>24</th>\n",
       "      <td>26.0</td>\n",
       "      <td>13.5</td>\n",
       "      <td>15</td>\n",
       "      <td>15</td>\n",
       "      <td>0</td>\n",
       "      <td>43.5</td>\n",
       "      <td>15.0</td>\n",
       "      <td>12</td>\n",
       "      <td>70.5</td>\n",
       "      <td>18.0</td>\n",
       "      <td>71.0</td>\n",
       "      <td>159.5</td>\n",
       "      <td>22</td>\n",
       "    </tr>\n",
       "    <tr>\n",
       "      <th>25</th>\n",
       "      <td>27.0</td>\n",
       "      <td>12.5</td>\n",
       "      <td>18</td>\n",
       "      <td>12</td>\n",
       "      <td>7</td>\n",
       "      <td>42.5</td>\n",
       "      <td>15.0</td>\n",
       "      <td>15</td>\n",
       "      <td>72.5</td>\n",
       "      <td>9.0</td>\n",
       "      <td>18.5</td>\n",
       "      <td>100.0</td>\n",
       "      <td>23</td>\n",
       "    </tr>\n",
       "    <tr>\n",
       "      <th>26</th>\n",
       "      <td>28.0</td>\n",
       "      <td>13.5</td>\n",
       "      <td>12</td>\n",
       "      <td>11.5</td>\n",
       "      <td>9</td>\n",
       "      <td>37</td>\n",
       "      <td>15.0</td>\n",
       "      <td>13.5</td>\n",
       "      <td>65.5</td>\n",
       "      <td>28.0</td>\n",
       "      <td>31.5</td>\n",
       "      <td>125.0</td>\n",
       "      <td>24</td>\n",
       "    </tr>\n",
       "    <tr>\n",
       "      <th>27</th>\n",
       "      <td>29.0</td>\n",
       "      <td>0.0</td>\n",
       "      <td>16</td>\n",
       "      <td>14</td>\n",
       "      <td>8</td>\n",
       "      <td>38</td>\n",
       "      <td>15.0</td>\n",
       "      <td>14</td>\n",
       "      <td>67</td>\n",
       "      <td>25.0</td>\n",
       "      <td>71.5</td>\n",
       "      <td>163.5</td>\n",
       "      <td>25</td>\n",
       "    </tr>\n",
       "    <tr>\n",
       "      <th>28</th>\n",
       "      <td>30.0</td>\n",
       "      <td>10.0</td>\n",
       "      <td>12</td>\n",
       "      <td>7</td>\n",
       "      <td>0</td>\n",
       "      <td>29</td>\n",
       "      <td>15.0</td>\n",
       "      <td>13.5</td>\n",
       "      <td>57.5</td>\n",
       "      <td>31.0</td>\n",
       "      <td>55.0</td>\n",
       "      <td>143.5</td>\n",
       "      <td>26</td>\n",
       "    </tr>\n",
       "    <tr>\n",
       "      <th>29</th>\n",
       "      <td>31.0</td>\n",
       "      <td>6.0</td>\n",
       "      <td>12</td>\n",
       "      <td>10.5</td>\n",
       "      <td>10.5</td>\n",
       "      <td>33</td>\n",
       "      <td>15.0</td>\n",
       "      <td>13.5</td>\n",
       "      <td>61.5</td>\n",
       "      <td>41.0</td>\n",
       "      <td>85.0</td>\n",
       "      <td>187.5</td>\n",
       "      <td>27</td>\n",
       "    </tr>\n",
       "    <tr>\n",
       "      <th>30</th>\n",
       "      <td>32.0</td>\n",
       "      <td>12.0</td>\n",
       "      <td>12</td>\n",
       "      <td>14</td>\n",
       "      <td>0</td>\n",
       "      <td>38</td>\n",
       "      <td>15.0</td>\n",
       "      <td>10.5</td>\n",
       "      <td>63.5</td>\n",
       "      <td>51.0</td>\n",
       "      <td>50.0</td>\n",
       "      <td>164.5</td>\n",
       "      <td>28</td>\n",
       "    </tr>\n",
       "    <tr>\n",
       "      <th>31</th>\n",
       "      <td>33.0</td>\n",
       "      <td>14.0</td>\n",
       "      <td>15.5</td>\n",
       "      <td>8</td>\n",
       "      <td>9.5</td>\n",
       "      <td>39</td>\n",
       "      <td>15.0</td>\n",
       "      <td>15</td>\n",
       "      <td>69</td>\n",
       "      <td>29.0</td>\n",
       "      <td>82.5</td>\n",
       "      <td>180.5</td>\n",
       "      <td>29</td>\n",
       "    </tr>\n",
       "    <tr>\n",
       "      <th>32</th>\n",
       "      <td>34.0</td>\n",
       "      <td>12.0</td>\n",
       "      <td>15</td>\n",
       "      <td>10</td>\n",
       "      <td>15</td>\n",
       "      <td>42</td>\n",
       "      <td>15.0</td>\n",
       "      <td>13.5</td>\n",
       "      <td>70.5</td>\n",
       "      <td>26.0</td>\n",
       "      <td>31.0</td>\n",
       "      <td>127.5</td>\n",
       "      <td>30</td>\n",
       "    </tr>\n",
       "    <tr>\n",
       "      <th>35</th>\n",
       "      <td>37.0</td>\n",
       "      <td>12.0</td>\n",
       "      <td>15</td>\n",
       "      <td>14</td>\n",
       "      <td>10</td>\n",
       "      <td>44</td>\n",
       "      <td>15.0</td>\n",
       "      <td>14</td>\n",
       "      <td>74</td>\n",
       "      <td>36.0</td>\n",
       "      <td>60.0</td>\n",
       "      <td>165.0</td>\n",
       "      <td>31</td>\n",
       "    </tr>\n",
       "    <tr>\n",
       "      <th>36</th>\n",
       "      <td>38.0</td>\n",
       "      <td>13.0</td>\n",
       "      <td>17.5</td>\n",
       "      <td>15.5</td>\n",
       "      <td>17.5</td>\n",
       "      <td>50.5</td>\n",
       "      <td>15.0</td>\n",
       "      <td>13.5</td>\n",
       "      <td>79</td>\n",
       "      <td>30.0</td>\n",
       "      <td>67.0</td>\n",
       "      <td>176.0</td>\n",
       "      <td>32</td>\n",
       "    </tr>\n",
       "    <tr>\n",
       "      <th>37</th>\n",
       "      <td>39.0</td>\n",
       "      <td>12.5</td>\n",
       "      <td>11</td>\n",
       "      <td>17</td>\n",
       "      <td>0</td>\n",
       "      <td>40.5</td>\n",
       "      <td>15.0</td>\n",
       "      <td>10.5</td>\n",
       "      <td>66</td>\n",
       "      <td>30.0</td>\n",
       "      <td>64.0</td>\n",
       "      <td>160.0</td>\n",
       "      <td>33</td>\n",
       "    </tr>\n",
       "    <tr>\n",
       "      <th>38</th>\n",
       "      <td>40.0</td>\n",
       "      <td>20.0</td>\n",
       "      <td>15.5</td>\n",
       "      <td>10.5</td>\n",
       "      <td>6.5</td>\n",
       "      <td>46</td>\n",
       "      <td>15.0</td>\n",
       "      <td>15</td>\n",
       "      <td>76</td>\n",
       "      <td>12.0</td>\n",
       "      <td>59.0</td>\n",
       "      <td>147.0</td>\n",
       "      <td>34</td>\n",
       "    </tr>\n",
       "    <tr>\n",
       "      <th>39</th>\n",
       "      <td>41.0</td>\n",
       "      <td>9.0</td>\n",
       "      <td>20</td>\n",
       "      <td>8</td>\n",
       "      <td>15</td>\n",
       "      <td>44</td>\n",
       "      <td>15.0</td>\n",
       "      <td>15</td>\n",
       "      <td>74</td>\n",
       "      <td>89.0</td>\n",
       "      <td>81.0</td>\n",
       "      <td>244.0</td>\n",
       "      <td>35</td>\n",
       "    </tr>\n",
       "  </tbody>\n",
       "</table>\n",
       "</div>"
      ],
      "text/plain": [
       "    Roll   CT1   CT2   CT3   CT4  ... Total90   EM1   EM2 Total300  Index\n",
       "0    2.0  12.5    15    14    18  ...    75.5  45.0  46.5    167.0      0\n",
       "1    3.0   9.0    10    17    11  ...    66.5  28.0  44.0    138.5      1\n",
       "2    4.0  10.0  15.5  12.5   6.5  ...    66.5  26.5  43.0    136.0      2\n",
       "3    5.0  14.0    14    18     0  ...      76  46.0  44.0    166.0      3\n",
       "4    6.0  14.5  15.5    15  15.5  ...      76  26.0  74.5    176.5      4\n",
       "5    7.0  13.5    13    18  16.5  ...      78  77.0  70.0    225.0      5\n",
       "6    8.0  14.0    16    14  16.5  ...    76.5  69.0  79.5    225.0      6\n",
       "7    9.0  11.0    17  15.5    20  ...    79.5  49.0  67.0    195.5      7\n",
       "8   10.0   8.0    15    14     8  ...      67  26.0  38.5    131.5      8\n",
       "9   11.0  11.5  14.5     7  14.5  ...      69  40.0  41.0    150.0      9\n",
       "10  12.0   7.5    13    18   7.5  ...      67  51.0  45.0    163.0     10\n",
       "11  13.0  12.5    20    11     0  ...    73.5  48.0  59.5    181.0     11\n",
       "12  14.0   7.5  11.5    17   8.5  ...    65.5  42.0  23.5    131.0     12\n",
       "13  15.0   7.5  15.5    15  14.5  ...    73.5  43.0  64.0    180.5     13\n",
       "14  16.0   1.0    10   7.5     0  ...      47   3.0   2.0     52.0     14\n",
       "17  19.0  12.0    15    14    10  ...      74  36.0  60.0    165.0     15\n",
       "18  20.0   9.5    18    12   6.5  ...    69.5  22.0  25.5    117.0     16\n",
       "19  21.0  14.5    12    19    17  ...      79  18.0  47.0    144.0     17\n",
       "20  22.0   7.0  14.5    16  19.5  ...      80  39.0  55.5    174.5     18\n",
       "21  23.0   5.0    14    18  14.5  ...    73.5  49.0  79.5    202.0     19\n",
       "22  24.0   0.0    16    13  14.5  ...    70.5  41.0  67.0    178.5     20\n",
       "23  25.0  13.0    15    14  15.5  ...    74.5  53.0  30.0    157.5     21\n",
       "24  26.0  13.5    15    15     0  ...    70.5  18.0  71.0    159.5     22\n",
       "25  27.0  12.5    18    12     7  ...    72.5   9.0  18.5    100.0     23\n",
       "26  28.0  13.5    12  11.5     9  ...    65.5  28.0  31.5    125.0     24\n",
       "27  29.0   0.0    16    14     8  ...      67  25.0  71.5    163.5     25\n",
       "28  30.0  10.0    12     7     0  ...    57.5  31.0  55.0    143.5     26\n",
       "29  31.0   6.0    12  10.5  10.5  ...    61.5  41.0  85.0    187.5     27\n",
       "30  32.0  12.0    12    14     0  ...    63.5  51.0  50.0    164.5     28\n",
       "31  33.0  14.0  15.5     8   9.5  ...      69  29.0  82.5    180.5     29\n",
       "32  34.0  12.0    15    10    15  ...    70.5  26.0  31.0    127.5     30\n",
       "35  37.0  12.0    15    14    10  ...      74  36.0  60.0    165.0     31\n",
       "36  38.0  13.0  17.5  15.5  17.5  ...      79  30.0  67.0    176.0     32\n",
       "37  39.0  12.5    11    17     0  ...      66  30.0  64.0    160.0     33\n",
       "38  40.0  20.0  15.5  10.5   6.5  ...      76  12.0  59.0    147.0     34\n",
       "39  41.0   9.0    20     8    15  ...      74  89.0  81.0    244.0     35\n",
       "\n",
       "[36 rows x 13 columns]"
      ]
     },
     "execution_count": 222,
     "metadata": {
      "tags": []
     },
     "output_type": "execute_result"
    }
   ],
   "source": [
    "df.head(36)"
   ]
  },
  {
   "cell_type": "code",
   "execution_count": 0,
   "metadata": {
    "colab": {
     "base_uri": "https://localhost:8080/",
     "height": 364
    },
    "colab_type": "code",
    "id": "PhEIi5PK3Lba",
    "outputId": "d62cbe53-c075-4838-aee6-b4173575c38f"
   },
   "outputs": [
    {
     "name": "stdout",
     "output_type": "stream",
     "text": [
      "<class 'pandas.core.frame.DataFrame'>\n",
      "Int64Index: 57 entries, 0 to 62\n",
      "Data columns (total 13 columns):\n",
      " #   Column       Non-Null Count  Dtype  \n",
      "---  ------       --------------  -----  \n",
      " 0   Roll         57 non-null     float64\n",
      " 1   CT1          57 non-null     float32\n",
      " 2   CT2          57 non-null     object \n",
      " 3   CT3          57 non-null     object \n",
      " 4   CT4          57 non-null     object \n",
      " 5   CTtotal      57 non-null     object \n",
      " 6   Attendance   57 non-null     float32\n",
      " 7   Observation  57 non-null     object \n",
      " 8   Total90      57 non-null     object \n",
      " 9   EM1          57 non-null     float64\n",
      " 10  EM2          57 non-null     float64\n",
      " 11  Total300     57 non-null     float64\n",
      " 12  Index        57 non-null     int64  \n",
      "dtypes: float32(2), float64(4), int64(1), object(6)\n",
      "memory usage: 5.8+ KB\n"
     ]
    }
   ],
   "source": [
    "df.info()"
   ]
  },
  {
   "cell_type": "markdown",
   "metadata": {
    "colab_type": "text",
    "id": "pbP0ilLT3oXx"
   },
   "source": [
    "so data is cleaned and ready to be trained and tested!\n"
   ]
  },
  {
   "cell_type": "code",
   "execution_count": 0,
   "metadata": {
    "colab": {},
    "colab_type": "code",
    "id": "fqAvJut_32Bg"
   },
   "outputs": [],
   "source": [
    "import matplotlib.pyplot as plt"
   ]
  },
  {
   "cell_type": "code",
   "execution_count": 0,
   "metadata": {
    "colab": {
     "base_uri": "https://localhost:8080/",
     "height": 297
    },
    "colab_type": "code",
    "id": "x-jeGrMp3yun",
    "outputId": "cb7a0984-ca8b-4c8e-8d95-1dfed55e5d2a"
   },
   "outputs": [
    {
     "data": {
      "image/png": "[encoded data removed]",
      "text/plain": [
       "<Figure size 432x288 with 4 Axes>"
      ]
     },
     "metadata": {
      "needs_background": "light",
      "tags": []
     },
     "output_type": "display_data"
    }
   ],
   "source": [
    "plt.subplot(221)\n",
    "plt.title('Attendance vs marks')\n",
    "plt.scatter( df.Attendance,df.EM1, 5, alpha = 0.3)\n",
    "plt.scatter( df.Attendance,df.CT1, 5, alpha = 0.3)\n",
    "plt.xlabel('Attendance')\n",
    "plt.ylabel('Marks')\n",
    "plt.legend(['EM1(105)','CT1(20)'])\n",
    "\n",
    "plt.subplot(223)\n",
    "plt.title('Attendance vs marks')\n",
    "plt.scatter( df.Attendance,df.Total300, 5, alpha = 0.3)\n",
    "plt.scatter( df.Attendance,df.CTtotal, 5, alpha = 0.3)\n",
    "plt.xlabel('Attendance')\n",
    "plt.ylabel('Marks')\n",
    "plt.legend(['Total marks (300)','CT total(60)'])\n",
    "\n",
    "plt.subplot(222)\n",
    "plt.title('Observation vs marks')\n",
    "plt.scatter( df.Observation,df.Total300, 5, alpha = 0.3)\n",
    "plt.scatter( df.Observation,df.CTtotal, 5, alpha = 0.3)\n",
    "plt.xlabel('Observation')\n",
    "plt.ylabel('Marks')\n",
    "plt.legend(['EM1(105)','CT1(20)'])\n",
    "\n",
    "plt.subplot(224)\n",
    "plt.title('Observation vs marks')\n",
    "plt.scatter( df.Observation,df.Total300, 5, alpha = 0.3)\n",
    "plt.scatter( df.Observation,df.CTtotal, 5, alpha = 0.3)\n",
    "plt.xlabel('Observation')\n",
    "plt.ylabel('Marks')\n",
    "plt.legend(['Total marks (300)','CT total(60)'])\n",
    "\n",
    "plt.tight_layout()\n",
    "plt.show()"
   ]
  },
  {
   "cell_type": "markdown",
   "metadata": {
    "colab_type": "text",
    "id": "Clt0kbvwiSuG"
   },
   "source": [
    "<h3><b>Observations:</b></h3> \n",
    "We can see outliers when the attendance is lower<br>\n",
    "The range is larger when the attenadace is higher<br>\n",
    "If we exclude the outliers, marks increases as attendance increases.\n",
    "we can also consider the mean or median value for each attendance to compare"
   ]
  },
  {
   "cell_type": "code",
   "execution_count": 0,
   "metadata": {
    "colab": {
     "base_uri": "https://localhost:8080/",
     "height": 175
    },
    "colab_type": "code",
    "id": "DgGtFHcGgny3",
    "outputId": "77d01045-6880-409b-c30c-12f5c879dd80"
   },
   "outputs": [
    {
     "data": {
      "text/html": [
       "<div>\n",
       "<style scoped>\n",
       "    .dataframe tbody tr th:only-of-type {\n",
       "        vertical-align: middle;\n",
       "    }\n",
       "\n",
       "    .dataframe tbody tr th {\n",
       "        vertical-align: top;\n",
       "    }\n",
       "\n",
       "    .dataframe thead th {\n",
       "        text-align: right;\n",
       "    }\n",
       "</style>\n",
       "<table border=\"1\" class=\"dataframe\">\n",
       "  <thead>\n",
       "    <tr style=\"text-align: right;\">\n",
       "      <th></th>\n",
       "      <th>Roll</th>\n",
       "      <th>CT1</th>\n",
       "      <th>CT2</th>\n",
       "      <th>CTtotal</th>\n",
       "      <th>Observation</th>\n",
       "      <th>Total90</th>\n",
       "      <th>EM1</th>\n",
       "      <th>EM2</th>\n",
       "      <th>Total300</th>\n",
       "      <th>Index</th>\n",
       "    </tr>\n",
       "    <tr>\n",
       "      <th>Attendance</th>\n",
       "      <th></th>\n",
       "      <th></th>\n",
       "      <th></th>\n",
       "      <th></th>\n",
       "      <th></th>\n",
       "      <th></th>\n",
       "      <th></th>\n",
       "      <th></th>\n",
       "      <th></th>\n",
       "      <th></th>\n",
       "    </tr>\n",
       "  </thead>\n",
       "  <tbody>\n",
       "    <tr>\n",
       "      <th>10.5</th>\n",
       "      <td>47.0</td>\n",
       "      <td>16.0</td>\n",
       "      <td>15.5</td>\n",
       "      <td>46.5</td>\n",
       "      <td>13.5</td>\n",
       "      <td>70.5</td>\n",
       "      <td>9.0</td>\n",
       "      <td>57.0</td>\n",
       "      <td>136.50</td>\n",
       "      <td>41.0</td>\n",
       "    </tr>\n",
       "    <tr>\n",
       "      <th>13.5</th>\n",
       "      <td>57.0</td>\n",
       "      <td>2.5</td>\n",
       "      <td>14.0</td>\n",
       "      <td>39.0</td>\n",
       "      <td>13.5</td>\n",
       "      <td>66.0</td>\n",
       "      <td>26.5</td>\n",
       "      <td>56.0</td>\n",
       "      <td>154.25</td>\n",
       "      <td>50.0</td>\n",
       "    </tr>\n",
       "    <tr>\n",
       "      <th>15.0</th>\n",
       "      <td>30.5</td>\n",
       "      <td>12.0</td>\n",
       "      <td>15.0</td>\n",
       "      <td>44.0</td>\n",
       "      <td>13.5</td>\n",
       "      <td>73.5</td>\n",
       "      <td>36.0</td>\n",
       "      <td>60.0</td>\n",
       "      <td>165.00</td>\n",
       "      <td>26.5</td>\n",
       "    </tr>\n",
       "  </tbody>\n",
       "</table>\n",
       "</div>"
      ],
      "text/plain": [
       "            Roll   CT1   CT2  CTtotal  ...   EM1   EM2  Total300  Index\n",
       "Attendance                             ...                             \n",
       "10.5        47.0  16.0  15.5     46.5  ...   9.0  57.0    136.50   41.0\n",
       "13.5        57.0   2.5  14.0     39.0  ...  26.5  56.0    154.25   50.0\n",
       "15.0        30.5  12.0  15.0     44.0  ...  36.0  60.0    165.00   26.5\n",
       "\n",
       "[3 rows x 10 columns]"
      ]
     },
     "execution_count": 241,
     "metadata": {
      "tags": []
     },
     "output_type": "execute_result"
    }
   ],
   "source": [
    "df_amed = df.groupby('Attendance').median()\n",
    "df_amed"
   ]
  },
  {
   "cell_type": "code",
   "execution_count": 0,
   "metadata": {
    "colab": {
     "base_uri": "https://localhost:8080/",
     "height": 175
    },
    "colab_type": "code",
    "id": "h9czpuA5hi27",
    "outputId": "75ff6e38-e479-46aa-db5a-7c29f6d77f7f"
   },
   "outputs": [
    {
     "data": {
      "text/html": [
       "<div>\n",
       "<style scoped>\n",
       "    .dataframe tbody tr th:only-of-type {\n",
       "        vertical-align: middle;\n",
       "    }\n",
       "\n",
       "    .dataframe tbody tr th {\n",
       "        vertical-align: top;\n",
       "    }\n",
       "\n",
       "    .dataframe thead th {\n",
       "        text-align: right;\n",
       "    }\n",
       "</style>\n",
       "<table border=\"1\" class=\"dataframe\">\n",
       "  <thead>\n",
       "    <tr style=\"text-align: right;\">\n",
       "      <th></th>\n",
       "      <th>Roll</th>\n",
       "      <th>CT1</th>\n",
       "      <th>CT2</th>\n",
       "      <th>CTtotal</th>\n",
       "      <th>Observation</th>\n",
       "      <th>Total90</th>\n",
       "      <th>EM1</th>\n",
       "      <th>EM2</th>\n",
       "      <th>Total300</th>\n",
       "      <th>Index</th>\n",
       "    </tr>\n",
       "    <tr>\n",
       "      <th>Attendance</th>\n",
       "      <th></th>\n",
       "      <th></th>\n",
       "      <th></th>\n",
       "      <th></th>\n",
       "      <th></th>\n",
       "      <th></th>\n",
       "      <th></th>\n",
       "      <th></th>\n",
       "      <th></th>\n",
       "      <th></th>\n",
       "    </tr>\n",
       "  </thead>\n",
       "  <tbody>\n",
       "    <tr>\n",
       "      <th>10.5</th>\n",
       "      <td>47.000000</td>\n",
       "      <td>16.000000</td>\n",
       "      <td>15.500000</td>\n",
       "      <td>46.50000</td>\n",
       "      <td>13.500000</td>\n",
       "      <td>70.50000</td>\n",
       "      <td>9.000000</td>\n",
       "      <td>57.000000</td>\n",
       "      <td>136.500</td>\n",
       "      <td>41.000000</td>\n",
       "    </tr>\n",
       "    <tr>\n",
       "      <th>13.5</th>\n",
       "      <td>50.500000</td>\n",
       "      <td>5.750000</td>\n",
       "      <td>12.125000</td>\n",
       "      <td>38.75000</td>\n",
       "      <td>13.250000</td>\n",
       "      <td>65.50000</td>\n",
       "      <td>26.500000</td>\n",
       "      <td>56.875000</td>\n",
       "      <td>148.875</td>\n",
       "      <td>44.000000</td>\n",
       "    </tr>\n",
       "    <tr>\n",
       "      <th>15.0</th>\n",
       "      <td>31.096154</td>\n",
       "      <td>11.326923</td>\n",
       "      <td>15.211538</td>\n",
       "      <td>43.58654</td>\n",
       "      <td>13.807693</td>\n",
       "      <td>72.45192</td>\n",
       "      <td>37.221154</td>\n",
       "      <td>57.740385</td>\n",
       "      <td>167.125</td>\n",
       "      <td>26.519231</td>\n",
       "    </tr>\n",
       "  </tbody>\n",
       "</table>\n",
       "</div>"
      ],
      "text/plain": [
       "                 Roll        CT1        CT2  ...        EM2  Total300      Index\n",
       "Attendance                                   ...                                \n",
       "10.5        47.000000  16.000000  15.500000  ...  57.000000   136.500  41.000000\n",
       "13.5        50.500000   5.750000  12.125000  ...  56.875000   148.875  44.000000\n",
       "15.0        31.096154  11.326923  15.211538  ...  57.740385   167.125  26.519231\n",
       "\n",
       "[3 rows x 10 columns]"
      ]
     },
     "execution_count": 248,
     "metadata": {
      "tags": []
     },
     "output_type": "execute_result"
    }
   ],
   "source": [
    "df_amean =df.groupby('Attendance').mean()\n",
    "df_amean"
   ]
  },
  {
   "cell_type": "code",
   "execution_count": 0,
   "metadata": {
    "colab": {},
    "colab_type": "code",
    "id": "YVOhzo6slPjr"
   },
   "outputs": [],
   "source": [
    "import matplotlib.pyplot as plt"
   ]
  },
  {
   "cell_type": "code",
   "execution_count": 0,
   "metadata": {
    "colab": {
     "base_uri": "https://localhost:8080/",
     "height": 295
    },
    "colab_type": "code",
    "id": "_pMoZZ0b5FJt",
    "outputId": "856a20a0-e1fe-4169-83ae-6b27bf95c9b6"
   },
   "outputs": [
    {
     "data": {
      "image/png": "[encoded data removed]",
      "text/plain": [
       "<Figure size 432x288 with 1 Axes>"
      ]
     },
     "metadata": {
      "needs_background": "light",
      "tags": []
     },
     "output_type": "display_data"
    }
   ],
   "source": [
    "plt.plot(df.Attendance, df.Total300,'o', markersize=2, alpha = 0.6)\n",
    "plt.plot(df_amean.index, df_amean.Total300)\n",
    "plt.plot(df_amed.index, df_amed.Total300)\n",
    "plt.legend(['marks','mean','median'])\n",
    "plt.title('Total marks(300) vs atendance')\n",
    "plt.ylabel(\"Marks (total 300)\")\n",
    "plt.xlabel(\"Attendance\")\n",
    "plt.show()\n"
   ]
  },
  {
   "cell_type": "code",
   "execution_count": 0,
   "metadata": {
    "colab": {
     "base_uri": "https://localhost:8080/",
     "height": 34
    },
    "colab_type": "code",
    "id": "V4ynk5Tbof66",
    "outputId": "d3373028-b285-46df-db35-2f55e0ba42aa"
   },
   "outputs": [
    {
     "data": {
      "text/plain": [
       "0.1678485661600362"
      ]
     },
     "execution_count": 271,
     "metadata": {
      "tags": []
     },
     "output_type": "execute_result"
    }
   ],
   "source": [
    "#finding the correlation between the two\n",
    "\n",
    "df.Attendance.corr(df.Total300)"
   ]
  },
  {
   "cell_type": "markdown",
   "metadata": {
    "colab_type": "text",
    "id": "WzlmYx6HpJne"
   },
   "source": [
    "<h3>So, it's not clear about the correlation bw attendance and marks<br>\n",
    "We can just say that the marks increases slightly as attendance increases.</h3>"
   ]
  },
  {
   "cell_type": "code",
   "execution_count": 0,
   "metadata": {
    "colab": {
     "base_uri": "https://localhost:8080/",
     "height": 34
    },
    "colab_type": "code",
    "id": "VxnrXkM0lbtV",
    "outputId": "517e9775-54cd-434f-ea34-a19bf89e2471"
   },
   "outputs": [
    {
     "data": {
      "text/plain": [
       "0.10574616113522944"
      ]
     },
     "execution_count": 275,
     "metadata": {
      "tags": []
     },
     "output_type": "execute_result"
    }
   ],
   "source": [
    "df.Observation.corr(df.Total300)"
   ]
  },
  {
   "cell_type": "markdown",
   "metadata": {
    "colab_type": "text",
    "id": "m82uebVFWZDX"
   },
   "source": [
    "#Base Model"
   ]
  },
  {
   "cell_type": "code",
   "execution_count": 0,
   "metadata": {
    "colab": {},
    "colab_type": "code",
    "id": "r7gbXg3nGNOm"
   },
   "outputs": [],
   "source": [
    "# X = df.loc[:,{'CT1','CT2','CT3','CT4','CTtotal','Observation','Total90','EM1','EM2','Total300'}].as_matrix().astype('float')\n",
    "# y = (df['Attendance']).ravel()\n",
    "X = df.loc[:,{'CT1','CT2','CT3','CT4','CTtotal','Observation','Total90','EM1','EM2','Total300'}].to_numpy\n",
    "y = (df['Attendance']).ravel()"
   ]
  },
  {
   "cell_type": "code",
   "execution_count": 0,
   "metadata": {
    "colab": {},
    "colab_type": "code",
    "id": "WJ_saenrItgZ"
   },
   "outputs": [],
   "source": [
    "from sklearn.model_selection import train_test_split\n",
    "X_train, X_test, y_train, y_test = train_test_split(X,y,test_size=0.2, random_state= 0)\n",
    "print(X_train.shape,y_train.shape)\n",
    "print(X_test.shape,y_test.shape)"
   ]
  },
  {
   "cell_type": "code",
   "execution_count": 0,
   "metadata": {
    "colab": {},
    "colab_type": "code",
    "id": "MTDQ6AisLiwd"
   },
   "outputs": [],
   "source": [
    "import sklearn\n",
    "sklearn.__version__"
   ]
  },
  {
   "cell_type": "code",
   "execution_count": 0,
   "metadata": {
    "colab": {},
    "colab_type": "code",
    "id": "Tv_okMFZMAIs"
   },
   "outputs": [],
   "source": [
    "\n"
   ]
  },
  {
   "cell_type": "code",
   "execution_count": 0,
   "metadata": {
    "colab": {},
    "colab_type": "code",
    "id": "bKewJmnAMsSd"
   },
   "outputs": [],
   "source": []
  }
 ],
 "metadata": {
  "colab": {
   "collapsed_sections": [],
   "name": "school.ipynb",
   "provenance": []
  },
  "kernelspec": {
   "display_name": "Python 3",
   "language": "python",
   "name": "python3"
  },
  "language_info": {
   "codemirror_mode": {
    "name": "ipython",
    "version": 3
   },
   "file_extension": ".py",
   "mimetype": "text/x-python",
   "name": "python",
   "nbconvert_exporter": "python",
   "pygments_lexer": "ipython3",
   "version": "3.7.6"
  }
 },
 "nbformat": 4,
 "nbformat_minor": 1
}
