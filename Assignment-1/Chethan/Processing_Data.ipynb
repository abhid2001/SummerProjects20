{
 "cells": [
  {
   "cell_type": "markdown",
   "metadata": {},
   "source": [
    "# Processing the Data"
   ]
  },
  {
   "cell_type": "code",
   "execution_count": 19,
   "metadata": {},
   "outputs": [],
   "source": [
    "# importing the necessary libraries\n",
    "import pandas as pd\n",
    "import numpy as np\n",
    "import os\n",
    "import matplotlib.pyplot as plt"
   ]
  },
  {
   "cell_type": "code",
   "execution_count": 20,
   "metadata": {},
   "outputs": [],
   "source": [
    "# getting the path of the data and storing the dataset...\n",
    "raw_data_path = os.path.join(os.path.pardir, \"data\", \"raw\")\n",
    "dataset_path = os.path.join(raw_data_path, \"dataset.csv\")\n",
    "df = pd.read_csv(dataset_path, index_col = \"Roll\")"
   ]
  },
  {
   "cell_type": "code",
   "execution_count": 21,
   "metadata": {
    "scrolled": true
   },
   "outputs": [
    {
     "name": "stdout",
     "output_type": "stream",
     "text": [
      "<class 'pandas.core.frame.DataFrame'>\n",
      "Float64Index: 63 entries, 2.0 to 64.0\n",
      "Data columns (total 11 columns):\n",
      " #   Column                                   Non-Null Count  Dtype  \n",
      "---  ------                                   --------------  -----  \n",
      " 0   CT-1 (Marks: 20)                         57 non-null     object \n",
      " 1   CT-2 (Marks: 20)                         57 non-null     object \n",
      " 2   CT-3 (Marks: 20)                         57 non-null     object \n",
      " 3   CT-4 (Marks: 20)                         57 non-null     object \n",
      " 4   Class Test (Total of best 3, Marks: 60)  57 non-null     object \n",
      " 5   Attendance (Marks: 15)                   57 non-null     object \n",
      " 6   Observation (Marks: 15)                  57 non-null     object \n",
      " 7   Total (Marks: 90)                        57 non-null     object \n",
      " 8   Exam Mark (105)                          54 non-null     float64\n",
      " 9   Exam Mark (105).1                        54 non-null     float64\n",
      " 10  Mark total 300                           54 non-null     float64\n",
      "dtypes: float64(3), object(8)\n",
      "memory usage: 5.9+ KB\n"
     ]
    }
   ],
   "source": [
    "# getting all the columns and number of values in the dataset...\n",
    "df.info()"
   ]
  },
  {
   "cell_type": "code",
   "execution_count": 33,
   "metadata": {},
   "outputs": [
    {
     "data": {
      "text/plain": [
       "Roll\n",
       "2.0       18\n",
       "3.0       11\n",
       "4.0      6.5\n",
       "5.0        0\n",
       "6.0     15.5\n",
       "        ... \n",
       "60.0      18\n",
       "61.0       0\n",
       "62.0    12.5\n",
       "63.0     7.5\n",
       "64.0      15\n",
       "Name: CT-4 (Marks: 20), Length: 63, dtype: object"
      ]
     },
     "execution_count": 33,
     "metadata": {},
     "output_type": "execute_result"
    }
   ],
   "source": [
    "# we observe that the original dataset has 57 students\n",
    "# let us get the values of a random column to ensure we have the data...\n",
    "df[\"CT-4 (Marks: 20)\"]\n"
   ]
  },
  {
   "cell_type": "markdown",
   "metadata": {},
   "source": [
    "## Feature Engineering"
   ]
  },
  {
   "cell_type": "code",
   "execution_count": 42,
   "metadata": {},
   "outputs": [],
   "source": [
    "# changing the column syntax\n",
    "df[\"CT_1_Max_20\"] = np.where(True, df[\"CT-1 (Marks: 20)\"], 0)\n",
    "df[\"CT_2_Max_20\"] = np.where(True, df[\"CT-2 (Marks: 20)\"], 0)\n",
    "df[\"CT_3_Max_20\"] = np.where(True, df[\"CT-3 (Marks: 20)\"], 0)\n",
    "df[\"CT_4_Max_20\"] = np.where(True, df[\"CT-4 (Marks: 20)\"], 0)\n",
    "df[\"CT_Total_60\"] = np.where(True, df[\"Class Test (Total of best 3, Marks: 60)\"], 0)\n",
    "df[\"Attendance\"] = np.where(True, df[\"Attendance (Marks: 15)\"], 0)\n",
    "df[\"Observation\"] = np.where(True, df[\"Observation (Marks: 15)\"], 0)"
   ]
  },
  {
   "cell_type": "code",
   "execution_count": 35,
   "metadata": {},
   "outputs": [],
   "source": [
    "# deleting the columns that were there previously...\n",
    "# for easy readablity\n",
    "df.drop([\"CT-1 (Marks: 20)\", \"CT-2 (Marks: 20)\", \"CT-3 (Marks: 20)\", \"CT-4 (Marks: 20)\", \"Class Test (Total of best 3, Marks: 60)\", \"Attendance (Marks: 15)\", \"Observation (Marks: 15)\"], axis = 1, inplace = True)"
   ]
  },
  {
   "cell_type": "code",
   "execution_count": 43,
   "metadata": {},
   "outputs": [],
   "source": [
    "# forgot to do the column replacement for these cells...\n",
    "df[\"Exam_1_105\"] = np.where(True, df[\"Exam Mark (105)\"], 0)\n",
    "df[\"Exam_2_105\"] = np.where(True, df[\"Exam Mark (105).1\"], 0)\n",
    "df[\"Total\"] = np.where(True, df[\"Mark total 300\"], 0)\n",
    "\n",
    "# now deleting the columns present previously\n",
    "df.drop([\"Exam Mark (105)\", \"Exam Mark (105).1\", \"Mark total 300\"], axis = 1, inplace = True)"
   ]
  },
  {
   "cell_type": "code",
   "execution_count": 50,
   "metadata": {},
   "outputs": [],
   "source": [
    "# lets convert the non-numeric data to numeric...\n",
    "df['CT_1_Max_20'] = pd.to_numeric(df['CT_1_Max_20'], errors='coerce')\n",
    "df['CT_2_Max_20'] = pd.to_numeric(df['CT_2_Max_20'], errors='coerce')\n",
    "df['CT_3_Max_20'] = pd.to_numeric(df['CT_3_Max_20'], errors='coerce')\n",
    "df['CT_4_Max_20'] = pd.to_numeric(df['CT_4_Max_20'], errors='coerce')\n",
    "df['CT_Total_60'] = pd.to_numeric(df['CT_Total_60'], errors='coerce')\n",
    "df['Attendance'] = pd.to_numeric(df['Attendance'], errors='coerce')\n",
    "df['Observation'] = pd.to_numeric(df['Observation'], errors='coerce')"
   ]
  },
  {
   "cell_type": "markdown",
   "metadata": {},
   "source": [
    "## Distributions - 1"
   ]
  },
  {
   "cell_type": "code",
   "execution_count": 81,
   "metadata": {},
   "outputs": [
    {
     "data": {
      "text/plain": [
       "Attendance\n",
       "10.5    136.50\n",
       "13.5    154.25\n",
       "15.0    166.00\n",
       "Name: Total, dtype: float64"
      ]
     },
     "execution_count": 81,
     "metadata": {},
     "output_type": "execute_result"
    }
   ],
   "source": [
    "# now lets compare the attendance with the total median score\n",
    "# NOTE : WE DONT USE MEAN AS IT IS AFFECTED BY EXTREME VALUES\n",
    "df.groupby(\"Attendance\").Total.median()"
   ]
  },
  {
   "cell_type": "code",
   "execution_count": 58,
   "metadata": {},
   "outputs": [
    {
     "data": {
      "text/plain": [
       "<matplotlib.axes._subplots.AxesSubplot at 0x18cb1be1c08>"
      ]
     },
     "execution_count": 58,
     "metadata": {},
     "output_type": "execute_result"
    },
    {
     "data": {
      "image/png": "[encoded data removed]",
      "text/plain": [
       "<Figure size 432x288 with 1 Axes>"
      ]
     },
     "metadata": {
      "needs_background": "light"
     },
     "output_type": "display_data"
    }
   ],
   "source": [
    "# lets see what the scatter plot looks like\n",
    "df.plot.scatter(x = \"Attendance\", y = \"Total\", color = \"y\", title = \"Total vs Attendance : scatter plot\")"
   ]
  },
  {
   "cell_type": "code",
   "execution_count": 63,
   "metadata": {},
   "outputs": [
    {
     "data": {
      "text/plain": [
       "<matplotlib.axes._subplots.AxesSubplot at 0x18cb1d81708>"
      ]
     },
     "execution_count": 63,
     "metadata": {},
     "output_type": "execute_result"
    },
    {
     "data": {
      "image/png": "[encoded data removed]",
      "text/plain": [
       "<Figure size 432x288 with 1 Axes>"
      ]
     },
     "metadata": {
      "needs_background": "light"
     },
     "output_type": "display_data"
    }
   ],
   "source": [
    "# the scatter plot shows us that there is not much connection between having low attendance and low total...\n",
    "# now let us consider the total class test marks with attendance\n",
    "df.plot.scatter(x = \"Attendance\", y = \"CT_Total_60\", color = \"r\", title = \"Total_Classtest vs Attendance : scatter plot\", alpha = 1)"
   ]
  },
  {
   "cell_type": "code",
   "execution_count": 64,
   "metadata": {},
   "outputs": [
    {
     "data": {
      "text/plain": [
       "15.0    49\n",
       "13.5     4\n",
       "10.5     1\n",
       "Name: Attendance, dtype: int64"
      ]
     },
     "execution_count": 64,
     "metadata": {},
     "output_type": "execute_result"
    }
   ],
   "source": [
    "# again we find that the scatter plot shows that there is not much relation between attendance and total class test marks..\n",
    "# Lets get the count of the people having different attendances\n",
    "df.Attendance.value_counts()"
   ]
  },
  {
   "cell_type": "code",
   "execution_count": 65,
   "metadata": {},
   "outputs": [
    {
     "data": {
      "text/plain": [
       "<matplotlib.axes._subplots.AxesSubplot at 0x18cb1dec9c8>"
      ]
     },
     "execution_count": 65,
     "metadata": {},
     "output_type": "execute_result"
    },
    {
     "data": {
      "image/png": "[encoded data removed]",
      "text/plain": [
       "<Figure size 432x288 with 1 Axes>"
      ]
     },
     "metadata": {
      "needs_background": "light"
     },
     "output_type": "display_data"
    }
   ],
   "source": [
    "# only 5 out of 54 have a less than perfect attendance\n",
    "# this is the breakup in a bar plot\n",
    "df.Attendance.value_counts().plot(kind = \"bar\", rot = \"0\", title = \"Attendance\", color = \"g\")"
   ]
  },
  {
   "cell_type": "code",
   "execution_count": 66,
   "metadata": {},
   "outputs": [
    {
     "data": {
      "text/plain": [
       "<matplotlib.axes._subplots.AxesSubplot at 0x18cb1e43748>"
      ]
     },
     "execution_count": 66,
     "metadata": {},
     "output_type": "execute_result"
    },
    {
     "data": {
      "image/png": "[encoded data removed]",
      "text/plain": [
       "<Figure size 432x288 with 1 Axes>"
      ]
     },
     "metadata": {
      "needs_background": "light"
     },
     "output_type": "display_data"
    }
   ],
   "source": [
    "# we try the boxplot, which is almost useless...\n",
    "df.Attendance.plot(kind = \"box\")"
   ]
  },
  {
   "cell_type": "markdown",
   "metadata": {},
   "source": [
    "## Binning the marks"
   ]
  },
  {
   "cell_type": "code",
   "execution_count": 92,
   "metadata": {},
   "outputs": [
    {
     "data": {
      "text/plain": [
       "Roll\n",
       "2.0          high\n",
       "3.0      very_low\n",
       "4.0      very_low\n",
       "5.0          high\n",
       "6.0          high\n",
       "          ...    \n",
       "60.0    very_high\n",
       "61.0    very_high\n",
       "62.0     very_low\n",
       "63.0     very_low\n",
       "64.0    very_high\n",
       "Name: CT_Total_60, Length: 63, dtype: category\n",
       "Categories (4, object): [very_low < low < high < very_high]"
      ]
     },
     "execution_count": 92,
     "metadata": {},
     "output_type": "execute_result"
    }
   ],
   "source": [
    "# as we have a range of values for the marks in each test, we use outlier elimination\n",
    "# assorting the marks of each column into labelled bins(labelling the given bins)\n",
    "pd.qcut(df.CT_1_Max_20, 4, labels = [\"very_low\", \"low\", \"high\", \"very_high\"])\n",
    "pd.qcut(df.CT_2_Max_20, 4, labels = [\"very_low\", \"low\", \"high\", \"very_high\"])\n",
    "pd.qcut(df.CT_3_Max_20, 4, labels = [\"very_low\", \"low\", \"high\", \"very_high\"])\n",
    "pd.qcut(df.CT_4_Max_20, 4, labels = [\"very_low\", \"low\", \"high\", \"very_high\"])\n",
    "pd.qcut(df.Exam_1_105, 4, labels = [\"very_low\", \"low\", \"high\", \"very_high\"])\n",
    "pd.qcut(df.CT_Total_60, 4, labels = [\"very_low\", \"low\", \"high\", \"very_high\"])"
   ]
  },
  {
   "cell_type": "code",
   "execution_count": 93,
   "metadata": {},
   "outputs": [],
   "source": [
    "# creating these bins for the marks and assigning them very_low, low, high, very_high in ascending order\n",
    "df[\"CT_1_Marks_bin\"] = pd.qcut(df.CT_1_Max_20, 4, labels = [\"very_low\", \"low\", \"high\", \"very_high\"])\n",
    "df[\"CT_2_Marks_bin\"] = pd.qcut(df.CT_2_Max_20, 4, labels = [\"very_low\", \"low\", \"high\", \"very_high\"])\n",
    "df[\"CT_3_Marks_bin\"] = pd.qcut(df.CT_3_Max_20, 4, labels = [\"very_low\", \"low\", \"high\", \"very_high\"])\n",
    "df[\"CT_4_Marks_bin\"] = pd.qcut(df.CT_4_Max_20, 4, labels = [\"very_low\", \"low\", \"high\", \"very_high\"])\n",
    "df[\"Exam_1_Marks_bin\"] = pd.qcut(df.Exam_1_105, 4, labels = [\"very_low\", \"low\", \"high\", \"very_high\"])\n",
    "df[\"Exam_2_Marks_bin\"] = pd.qcut(df.Exam_2_105, 4, labels = [\"very_low\", \"low\", \"high\", \"very_high\"])\n",
    "df[\"CT_Total_bin\"] = pd.qcut(df.CT_Total_60, 4, labels = [\"very_low\", \"low\", \"high\", \"very_high\"])"
   ]
  },
  {
   "cell_type": "code",
   "execution_count": 94,
   "metadata": {},
   "outputs": [
    {
     "name": "stdout",
     "output_type": "stream",
     "text": [
      "<class 'pandas.core.frame.DataFrame'>\n",
      "Float64Index: 63 entries, 2.0 to 64.0\n",
      "Data columns (total 18 columns):\n",
      " #   Column             Non-Null Count  Dtype   \n",
      "---  ------             --------------  -----   \n",
      " 0   Total (Marks: 90)  57 non-null     object  \n",
      " 1   CT_1_Max_20        54 non-null     float64 \n",
      " 2   CT_2_Max_20        54 non-null     float64 \n",
      " 3   CT_3_Max_20        54 non-null     float64 \n",
      " 4   CT_4_Max_20        54 non-null     float64 \n",
      " 5   CT_Total_60        54 non-null     float64 \n",
      " 6   Attendance         54 non-null     float64 \n",
      " 7   Observation        54 non-null     float64 \n",
      " 8   Exam_1_105         54 non-null     float64 \n",
      " 9   Exam_2_105         54 non-null     float64 \n",
      " 10  Total              54 non-null     float64 \n",
      " 11  CT_1_Marks_bin     54 non-null     category\n",
      " 12  CT_2_Marks_bin     54 non-null     category\n",
      " 13  CT_3_Marks_bin     54 non-null     category\n",
      " 14  CT_4_Marks_bin     54 non-null     category\n",
      " 15  Exam_1_Marks_bin   54 non-null     category\n",
      " 16  Exam_2_Marks_bin   54 non-null     category\n",
      " 17  CT_Total_bin       54 non-null     category\n",
      "dtypes: category(7), float64(10), object(1)\n",
      "memory usage: 10.1+ KB\n"
     ]
    }
   ],
   "source": [
    "# checking the info once more\n",
    "df.info()"
   ]
  },
  {
   "cell_type": "markdown",
   "metadata": {},
   "source": [
    "## Distributions - 2"
   ]
  },
  {
   "cell_type": "code",
   "execution_count": 85,
   "metadata": {},
   "outputs": [
    {
     "data": {
      "text/html": [
       "<div>\n",
       "<style scoped>\n",
       "    .dataframe tbody tr th:only-of-type {\n",
       "        vertical-align: middle;\n",
       "    }\n",
       "\n",
       "    .dataframe tbody tr th {\n",
       "        vertical-align: top;\n",
       "    }\n",
       "\n",
       "    .dataframe thead th {\n",
       "        text-align: right;\n",
       "    }\n",
       "</style>\n",
       "<table border=\"1\" class=\"dataframe\">\n",
       "  <thead>\n",
       "    <tr style=\"text-align: right;\">\n",
       "      <th></th>\n",
       "      <th>Exam_1_105</th>\n",
       "      <th>Exam_2_105</th>\n",
       "    </tr>\n",
       "    <tr>\n",
       "      <th>Attendance</th>\n",
       "      <th></th>\n",
       "      <th></th>\n",
       "    </tr>\n",
       "  </thead>\n",
       "  <tbody>\n",
       "    <tr>\n",
       "      <th>10.5</th>\n",
       "      <td>9.0</td>\n",
       "      <td>57.0</td>\n",
       "    </tr>\n",
       "    <tr>\n",
       "      <th>13.5</th>\n",
       "      <td>26.5</td>\n",
       "      <td>56.0</td>\n",
       "    </tr>\n",
       "    <tr>\n",
       "      <th>15.0</th>\n",
       "      <td>38.0</td>\n",
       "      <td>60.0</td>\n",
       "    </tr>\n",
       "  </tbody>\n",
       "</table>\n",
       "</div>"
      ],
      "text/plain": [
       "            Exam_1_105  Exam_2_105\n",
       "Attendance                        \n",
       "10.5               9.0        57.0\n",
       "13.5              26.5        56.0\n",
       "15.0              38.0        60.0"
      ]
     },
     "execution_count": 85,
     "metadata": {},
     "output_type": "execute_result"
    }
   ],
   "source": [
    "# lets look at the summary stats for the new dataset\n",
    "\n",
    "df.groupby([\"Attendance\"]).agg({\"Exam_1_105\" : 'median', \"Exam_2_105\" : \"median\"})"
   ]
  },
  {
   "cell_type": "code",
   "execution_count": 86,
   "metadata": {},
   "outputs": [
    {
     "data": {
      "text/plain": [
       "<matplotlib.axes._subplots.AxesSubplot at 0x18cb2fdea48>"
      ]
     },
     "execution_count": 86,
     "metadata": {},
     "output_type": "execute_result"
    },
    {
     "data": {
      "image/png": "[encoded data removed]",
      "text/plain": [
       "<Figure size 432x288 with 1 Axes>"
      ]
     },
     "metadata": {
      "needs_background": "light"
     },
     "output_type": "display_data"
    }
   ],
   "source": [
    "# From the above data we infer that the attendance of a student had an impact on the median score in the Exam 1...\n",
    "# lets see the scatter plot...\n",
    "df.plot.scatter(x = \"Attendance\", y = \"Exam_1_105\", color = \"r\", title = \"Total_Classtest vs Attendance : scatter plot\", alpha = 1)"
   ]
  },
  {
   "cell_type": "code",
   "execution_count": 89,
   "metadata": {},
   "outputs": [
    {
     "data": {
      "text/plain": [
       "<matplotlib.axes._subplots.AxesSubplot at 0x18cb308f248>"
      ]
     },
     "execution_count": 89,
     "metadata": {},
     "output_type": "execute_result"
    },
    {
     "data": {
      "image/png": "[encoded data removed]",
      "text/plain": [
       "<Figure size 432x288 with 1 Axes>"
      ]
     },
     "metadata": {
      "needs_background": "light"
     },
     "output_type": "display_data"
    }
   ],
   "source": [
    "# we use the binning to get a distribution\n",
    "pd.crosstab(df.Attendance, df.Exam_1_Marks_bin).plot(kind = \"bar\")"
   ]
  },
  {
   "cell_type": "code",
   "execution_count": 90,
   "metadata": {},
   "outputs": [
    {
     "data": {
      "text/plain": [
       "<matplotlib.axes._subplots.AxesSubplot at 0x18cb30a4c08>"
      ]
     },
     "execution_count": 90,
     "metadata": {},
     "output_type": "execute_result"
    },
    {
     "data": {
      "image/png": "[encoded data removed]",
      "text/plain": [
       "<Figure size 432x288 with 1 Axes>"
      ]
     },
     "metadata": {
      "needs_background": "light"
     },
     "output_type": "display_data"
    }
   ],
   "source": [
    "# using the last few distributions we see that low attendence has had a negative impact on the marks in exam 1\n",
    "pd.crosstab(df.Attendance, df.Exam_2_Marks_bin).plot(kind = \"bar\")"
   ]
  },
  {
   "cell_type": "code",
   "execution_count": 91,
   "metadata": {},
   "outputs": [
    {
     "data": {
      "text/plain": [
       "<matplotlib.axes._subplots.AxesSubplot at 0x18cb31c5548>"
      ]
     },
     "execution_count": 91,
     "metadata": {},
     "output_type": "execute_result"
    },
    {
     "data": {
      "image/png": "[encoded data removed]",
      "text/plain": [
       "<Figure size 432x288 with 1 Axes>"
      ]
     },
     "metadata": {
      "needs_background": "light"
     },
     "output_type": "display_data"
    }
   ],
   "source": [
    "# attendance doesnt have that much of an impact on Exam 2 marks...\n",
    "\n",
    "# now let us look at the relation with \"observation\" column...\n",
    "pd.crosstab(df.Attendance, df.Observation).plot(kind = \"bar\")"
   ]
  },
  {
   "cell_type": "code",
   "execution_count": 95,
   "metadata": {},
   "outputs": [
    {
     "data": {
      "text/plain": [
       "<matplotlib.axes._subplots.AxesSubplot at 0x18cb322c448>"
      ]
     },
     "execution_count": 95,
     "metadata": {},
     "output_type": "execute_result"
    },
    {
     "data": {
      "image/png": "[encoded data removed]",
      "text/plain": [
       "<Figure size 432x288 with 1 Axes>"
      ]
     },
     "metadata": {
      "needs_background": "light"
     },
     "output_type": "display_data"
    }
   ],
   "source": [
    "# again, there doesnt seem to be much connection between attendance and the Observation column\n",
    "\n",
    "# now let us look at the relation with the Total class test marks\n",
    "pd.crosstab(df.Attendance, df.CT_Total_bin).plot(kind = \"bar\")"
   ]
  },
  {
   "cell_type": "code",
   "execution_count": 96,
   "metadata": {},
   "outputs": [],
   "source": [
    "# We notice that the relation between the total class test score(best of 3) is not very much connected to Attendance\n",
    "# This is the relationshio that we have found using the data\n",
    "# now let us save our processed work"
   ]
  },
  {
   "cell_type": "markdown",
   "metadata": {},
   "source": [
    "## Saving the processed data"
   ]
  },
  {
   "cell_type": "code",
   "execution_count": 100,
   "metadata": {},
   "outputs": [],
   "source": [
    "# saving the processed data\n",
    "processed_data_path = os.path.join(os.path.pardir, \"data\", \"processed\")\n",
    "write_data_path = os.path.join(processed_data_path, \"dataset.csv\")"
   ]
  },
  {
   "cell_type": "code",
   "execution_count": 101,
   "metadata": {},
   "outputs": [],
   "source": [
    "# saving the data set\n",
    "df.to_csv(write_data_path)"
   ]
  },
  {
   "cell_type": "code",
   "execution_count": null,
   "metadata": {},
   "outputs": [],
   "source": []
  }
 ],
 "metadata": {
  "kernelspec": {
   "display_name": "Python 3",
   "language": "python",
   "name": "python3"
  },
  "language_info": {
   "codemirror_mode": {
    "name": "ipython",
    "version": 3
   },
   "file_extension": ".py",
   "mimetype": "text/x-python",
   "name": "python",
   "nbconvert_exporter": "python",
   "pygments_lexer": "ipython3",
   "version": "3.7.6"
  }
 },
 "nbformat": 4,
 "nbformat_minor": 4
}
