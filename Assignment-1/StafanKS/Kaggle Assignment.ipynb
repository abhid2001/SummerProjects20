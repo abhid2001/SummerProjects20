{
 "cells": [
  {
   "cell_type": "code",
   "execution_count": 3,
   "metadata": {},
   "outputs": [],
   "source": [
    "import pandas as pd\n",
    "import os"
   ]
  },
  {
   "cell_type": "markdown",
   "metadata": {},
   "source": [
    "# Reading the values and display"
   ]
  },
  {
   "cell_type": "code",
   "execution_count": 4,
   "metadata": {},
   "outputs": [
    {
     "data": {
      "text/html": [
       "<div>\n",
       "<style scoped>\n",
       "    .dataframe tbody tr th:only-of-type {\n",
       "        vertical-align: middle;\n",
       "    }\n",
       "\n",
       "    .dataframe tbody tr th {\n",
       "        vertical-align: top;\n",
       "    }\n",
       "\n",
       "    .dataframe thead th {\n",
       "        text-align: right;\n",
       "    }\n",
       "</style>\n",
       "<table border=\"1\" class=\"dataframe\">\n",
       "  <thead>\n",
       "    <tr style=\"text-align: right;\">\n",
       "      <th></th>\n",
       "      <th>Roll</th>\n",
       "      <th>CT-1 (Marks: 20)</th>\n",
       "      <th>CT-2 (Marks: 20)</th>\n",
       "      <th>CT-3 (Marks: 20)</th>\n",
       "      <th>CT-4 (Marks: 20)</th>\n",
       "      <th>Class Test (Total of best 3, Marks: 60)</th>\n",
       "      <th>Attendance (Marks: 15)</th>\n",
       "      <th>Observation (Marks: 15)</th>\n",
       "      <th>Total (Marks: 90)</th>\n",
       "      <th>Exam Mark (105)</th>\n",
       "      <th>Exam Mark (105).1</th>\n",
       "      <th>Mark total 300</th>\n",
       "    </tr>\n",
       "  </thead>\n",
       "  <tbody>\n",
       "    <tr>\n",
       "      <th>0</th>\n",
       "      <td>2.0</td>\n",
       "      <td>12.5</td>\n",
       "      <td>15</td>\n",
       "      <td>14</td>\n",
       "      <td>18</td>\n",
       "      <td>47</td>\n",
       "      <td>15</td>\n",
       "      <td>13.5</td>\n",
       "      <td>75.5</td>\n",
       "      <td>45.0</td>\n",
       "      <td>46.5</td>\n",
       "      <td>167.0</td>\n",
       "    </tr>\n",
       "    <tr>\n",
       "      <th>1</th>\n",
       "      <td>3.0</td>\n",
       "      <td>9</td>\n",
       "      <td>10</td>\n",
       "      <td>17</td>\n",
       "      <td>11</td>\n",
       "      <td>38</td>\n",
       "      <td>15</td>\n",
       "      <td>13.5</td>\n",
       "      <td>66.5</td>\n",
       "      <td>28.0</td>\n",
       "      <td>44.0</td>\n",
       "      <td>138.5</td>\n",
       "    </tr>\n",
       "    <tr>\n",
       "      <th>2</th>\n",
       "      <td>4.0</td>\n",
       "      <td>10</td>\n",
       "      <td>15.5</td>\n",
       "      <td>12.5</td>\n",
       "      <td>6.5</td>\n",
       "      <td>38</td>\n",
       "      <td>15</td>\n",
       "      <td>13.5</td>\n",
       "      <td>66.5</td>\n",
       "      <td>26.5</td>\n",
       "      <td>43.0</td>\n",
       "      <td>136.0</td>\n",
       "    </tr>\n",
       "    <tr>\n",
       "      <th>3</th>\n",
       "      <td>5.0</td>\n",
       "      <td>14</td>\n",
       "      <td>14</td>\n",
       "      <td>18</td>\n",
       "      <td>0</td>\n",
       "      <td>46</td>\n",
       "      <td>15</td>\n",
       "      <td>15</td>\n",
       "      <td>76</td>\n",
       "      <td>46.0</td>\n",
       "      <td>44.0</td>\n",
       "      <td>166.0</td>\n",
       "    </tr>\n",
       "    <tr>\n",
       "      <th>4</th>\n",
       "      <td>6.0</td>\n",
       "      <td>14.5</td>\n",
       "      <td>15.5</td>\n",
       "      <td>15</td>\n",
       "      <td>15.5</td>\n",
       "      <td>46</td>\n",
       "      <td>15</td>\n",
       "      <td>15</td>\n",
       "      <td>76</td>\n",
       "      <td>26.0</td>\n",
       "      <td>74.5</td>\n",
       "      <td>176.5</td>\n",
       "    </tr>\n",
       "    <tr>\n",
       "      <th>...</th>\n",
       "      <td>...</td>\n",
       "      <td>...</td>\n",
       "      <td>...</td>\n",
       "      <td>...</td>\n",
       "      <td>...</td>\n",
       "      <td>...</td>\n",
       "      <td>...</td>\n",
       "      <td>...</td>\n",
       "      <td>...</td>\n",
       "      <td>...</td>\n",
       "      <td>...</td>\n",
       "      <td>...</td>\n",
       "    </tr>\n",
       "    <tr>\n",
       "      <th>58</th>\n",
       "      <td>60.0</td>\n",
       "      <td>12</td>\n",
       "      <td>20</td>\n",
       "      <td>14</td>\n",
       "      <td>18</td>\n",
       "      <td>52</td>\n",
       "      <td>15</td>\n",
       "      <td>13.5</td>\n",
       "      <td>80.5</td>\n",
       "      <td>51.0</td>\n",
       "      <td>66.0</td>\n",
       "      <td>197.5</td>\n",
       "    </tr>\n",
       "    <tr>\n",
       "      <th>59</th>\n",
       "      <td>61.0</td>\n",
       "      <td>19.5</td>\n",
       "      <td>17.5</td>\n",
       "      <td>17</td>\n",
       "      <td>0</td>\n",
       "      <td>54</td>\n",
       "      <td>15</td>\n",
       "      <td>15</td>\n",
       "      <td>84</td>\n",
       "      <td>32.0</td>\n",
       "      <td>84.0</td>\n",
       "      <td>200.0</td>\n",
       "    </tr>\n",
       "    <tr>\n",
       "      <th>60</th>\n",
       "      <td>62.0</td>\n",
       "      <td>0</td>\n",
       "      <td>4</td>\n",
       "      <td>13</td>\n",
       "      <td>12.5</td>\n",
       "      <td>29.5</td>\n",
       "      <td>15</td>\n",
       "      <td>12.5</td>\n",
       "      <td>57</td>\n",
       "      <td>50.0</td>\n",
       "      <td>77.5</td>\n",
       "      <td>184.5</td>\n",
       "    </tr>\n",
       "    <tr>\n",
       "      <th>61</th>\n",
       "      <td>63.0</td>\n",
       "      <td>0</td>\n",
       "      <td>4</td>\n",
       "      <td>16</td>\n",
       "      <td>7.5</td>\n",
       "      <td>27.5</td>\n",
       "      <td>13.5</td>\n",
       "      <td>12.5</td>\n",
       "      <td>53.5</td>\n",
       "      <td>16.0</td>\n",
       "      <td>39.0</td>\n",
       "      <td>108.5</td>\n",
       "    </tr>\n",
       "    <tr>\n",
       "      <th>62</th>\n",
       "      <td>64.0</td>\n",
       "      <td>18</td>\n",
       "      <td>16.5</td>\n",
       "      <td>0</td>\n",
       "      <td>15</td>\n",
       "      <td>49.5</td>\n",
       "      <td>13.5</td>\n",
       "      <td>13.5</td>\n",
       "      <td>76.5</td>\n",
       "      <td>12.0</td>\n",
       "      <td>45.0</td>\n",
       "      <td>133.5</td>\n",
       "    </tr>\n",
       "  </tbody>\n",
       "</table>\n",
       "<p>63 rows × 12 columns</p>\n",
       "</div>"
      ],
      "text/plain": [
       "    Roll CT-1 (Marks: 20) CT-2 (Marks: 20) CT-3 (Marks: 20) CT-4 (Marks: 20)  \\\n",
       "0    2.0             12.5               15               14               18   \n",
       "1    3.0                9               10               17               11   \n",
       "2    4.0               10             15.5             12.5              6.5   \n",
       "3    5.0               14               14               18                0   \n",
       "4    6.0             14.5             15.5               15             15.5   \n",
       "..   ...              ...              ...              ...              ...   \n",
       "58  60.0               12               20               14               18   \n",
       "59  61.0             19.5             17.5               17                0   \n",
       "60  62.0                0                4               13             12.5   \n",
       "61  63.0                0                4               16              7.5   \n",
       "62  64.0               18             16.5                0               15   \n",
       "\n",
       "   Class Test (Total of best 3, Marks: 60) Attendance (Marks: 15)  \\\n",
       "0                                       47                     15   \n",
       "1                                       38                     15   \n",
       "2                                       38                     15   \n",
       "3                                       46                     15   \n",
       "4                                       46                     15   \n",
       "..                                     ...                    ...   \n",
       "58                                      52                     15   \n",
       "59                                      54                     15   \n",
       "60                                    29.5                     15   \n",
       "61                                    27.5                   13.5   \n",
       "62                                    49.5                   13.5   \n",
       "\n",
       "   Observation (Marks: 15) Total (Marks: 90)  Exam Mark (105)  \\\n",
       "0                     13.5              75.5             45.0   \n",
       "1                     13.5              66.5             28.0   \n",
       "2                     13.5              66.5             26.5   \n",
       "3                       15                76             46.0   \n",
       "4                       15                76             26.0   \n",
       "..                     ...               ...              ...   \n",
       "58                    13.5              80.5             51.0   \n",
       "59                      15                84             32.0   \n",
       "60                    12.5                57             50.0   \n",
       "61                    12.5              53.5             16.0   \n",
       "62                    13.5              76.5             12.0   \n",
       "\n",
       "    Exam Mark (105).1  Mark total 300  \n",
       "0                46.5           167.0  \n",
       "1                44.0           138.5  \n",
       "2                43.0           136.0  \n",
       "3                44.0           166.0  \n",
       "4                74.5           176.5  \n",
       "..                ...             ...  \n",
       "58               66.0           197.5  \n",
       "59               84.0           200.0  \n",
       "60               77.5           184.5  \n",
       "61               39.0           108.5  \n",
       "62               45.0           133.5  \n",
       "\n",
       "[63 rows x 12 columns]"
      ]
     },
     "execution_count": 4,
     "metadata": {},
     "output_type": "execute_result"
    }
   ],
   "source": [
    "df = pd.read_csv(r\"dataset.csv\")\n",
    "df"
   ]
  },
  {
   "cell_type": "code",
   "execution_count": 5,
   "metadata": {},
   "outputs": [],
   "source": [
    "df.fillna(0,inplace=True)"
   ]
  },
  {
   "cell_type": "code",
   "execution_count": 6,
   "metadata": {},
   "outputs": [
    {
     "name": "stdout",
     "output_type": "stream",
     "text": [
      "<class 'pandas.core.frame.DataFrame'>\n",
      "RangeIndex: 63 entries, 0 to 62\n",
      "Data columns (total 12 columns):\n",
      " #   Column                                   Non-Null Count  Dtype  \n",
      "---  ------                                   --------------  -----  \n",
      " 0   Roll                                     63 non-null     float64\n",
      " 1   CT-1 (Marks: 20)                         63 non-null     object \n",
      " 2   CT-2 (Marks: 20)                         63 non-null     object \n",
      " 3   CT-3 (Marks: 20)                         63 non-null     object \n",
      " 4   CT-4 (Marks: 20)                         63 non-null     object \n",
      " 5   Class Test (Total of best 3, Marks: 60)  63 non-null     object \n",
      " 6   Attendance (Marks: 15)                   63 non-null     object \n",
      " 7   Observation (Marks: 15)                  63 non-null     object \n",
      " 8   Total (Marks: 90)                        63 non-null     object \n",
      " 9   Exam Mark (105)                          63 non-null     float64\n",
      " 10  Exam Mark (105).1                        63 non-null     float64\n",
      " 11  Mark total 300                           63 non-null     float64\n",
      "dtypes: float64(4), object(8)\n",
      "memory usage: 6.0+ KB\n"
     ]
    }
   ],
   "source": [
    "df.info()"
   ]
  },
  {
   "cell_type": "markdown",
   "metadata": {},
   "source": [
    "# selecting the required columns"
   ]
  },
  {
   "cell_type": "code",
   "execution_count": 7,
   "metadata": {},
   "outputs": [
    {
     "data": {
      "text/plain": [
       "15                        49\n",
       "0                          6\n",
       "13.5                       4\n",
       "Attendance (Marks: 15)     3\n",
       "10.5                       1\n",
       "Name: Attendance (Marks: 15), dtype: int64"
      ]
     },
     "execution_count": 7,
     "metadata": {},
     "output_type": "execute_result"
    }
   ],
   "source": [
    "df['Attendance (Marks: 15)'].value_counts()"
   ]
  },
  {
   "cell_type": "markdown",
   "metadata": {},
   "source": [
    "# grouping and splitting based on attendance\n",
    "\n",
    "\n"
   ]
  },
  {
   "cell_type": "code",
   "execution_count": 8,
   "metadata": {},
   "outputs": [],
   "source": [
    "g=df.groupby('Attendance (Marks: 15)')"
   ]
  },
  {
   "cell_type": "code",
   "execution_count": 9,
   "metadata": {},
   "outputs": [
    {
     "data": {
      "text/plain": [
       "141.70634920634922"
      ]
     },
     "execution_count": 9,
     "metadata": {},
     "output_type": "execute_result"
    }
   ],
   "source": [
    "df['Mark total 300'].mean()"
   ]
  },
  {
   "cell_type": "code",
   "execution_count": 10,
   "metadata": {},
   "outputs": [
    {
     "data": {
      "text/plain": [
       "Attendance (Marks: 15)\n",
       "0                           0.000000\n",
       "10.5                      136.500000\n",
       "13.5                      148.875000\n",
       "15                        167.255102\n",
       "Attendance (Marks: 15)      0.000000\n",
       "Name: Mark total 300, dtype: float64"
      ]
     },
     "execution_count": 10,
     "metadata": {},
     "output_type": "execute_result"
    }
   ],
   "source": [
    "g['Mark total 300'].mean()"
   ]
  },
  {
   "cell_type": "code",
   "execution_count": 11,
   "metadata": {},
   "outputs": [
    {
     "data": {
      "text/plain": [
       "Attendance (Marks: 15)\n",
       "0                           0.00\n",
       "10.5                      136.50\n",
       "13.5                      154.25\n",
       "15                        166.00\n",
       "Attendance (Marks: 15)      0.00\n",
       "Name: Mark total 300, dtype: float64"
      ]
     },
     "execution_count": 11,
     "metadata": {},
     "output_type": "execute_result"
    }
   ],
   "source": [
    "g['Mark total 300'].median()"
   ]
  },
  {
   "cell_type": "code",
   "execution_count": 12,
   "metadata": {},
   "outputs": [
    {
     "data": {
      "text/plain": [
       "160.0"
      ]
     },
     "execution_count": 12,
     "metadata": {},
     "output_type": "execute_result"
    }
   ],
   "source": [
    "df['Mark total 300'].median()"
   ]
  },
  {
   "cell_type": "markdown",
   "metadata": {},
   "source": [
    "# with reference to the total marks scored students with both 13.5 and 15 marks in attendance scored above the average but only students with 15 marks in attendance crossed the median"
   ]
  },
  {
   "cell_type": "code",
   "execution_count": 13,
   "metadata": {},
   "outputs": [],
   "source": [
    "df['CT-1 (Marks: 20)']=pd.to_numeric(df['CT-1 (Marks: 20)'],errors='coerce')\n",
    "df['CT-2 (Marks: 20)']=pd.to_numeric(df['CT-2 (Marks: 20)'],errors='coerce')\n",
    "df['CT-3 (Marks: 20)']=pd.to_numeric(df['CT-3 (Marks: 20)'],errors='coerce')\n",
    "df['CT-4 (Marks: 20)']=pd.to_numeric(df['CT-4 (Marks: 20)'],errors='coerce')\n",
    "df['Class Test (Total of best 3, Marks: 60)']=pd.to_numeric(df['Class Test (Total of best 3, Marks: 60)'],errors='coerce')"
   ]
  },
  {
   "cell_type": "code",
   "execution_count": 14,
   "metadata": {},
   "outputs": [
    {
     "data": {
      "text/plain": [
       "9.866666666666667"
      ]
     },
     "execution_count": 14,
     "metadata": {},
     "output_type": "execute_result"
    }
   ],
   "source": [
    "df['CT-1 (Marks: 20)'].mean()"
   ]
  },
  {
   "cell_type": "code",
   "execution_count": 15,
   "metadata": {},
   "outputs": [
    {
     "data": {
      "text/plain": [
       "11.25"
      ]
     },
     "execution_count": 15,
     "metadata": {},
     "output_type": "execute_result"
    }
   ],
   "source": [
    "df['CT-1 (Marks: 20)'].median()"
   ]
  },
  {
   "cell_type": "code",
   "execution_count": 16,
   "metadata": {},
   "outputs": [
    {
     "data": {
      "text/plain": [
       "Attendance (Marks: 15)\n",
       "0                          0.000000\n",
       "10.5                      16.000000\n",
       "13.5                       5.750000\n",
       "15                        11.285714\n",
       "Attendance (Marks: 15)          NaN\n",
       "Name: CT-1 (Marks: 20), dtype: float64"
      ]
     },
     "execution_count": 16,
     "metadata": {},
     "output_type": "execute_result"
    }
   ],
   "source": [
    "g['CT-1 (Marks: 20)'].mean()"
   ]
  },
  {
   "cell_type": "code",
   "execution_count": 17,
   "metadata": {},
   "outputs": [
    {
     "data": {
      "text/plain": [
       "Attendance (Marks: 15)\n",
       "0                          0.0\n",
       "10.5                      16.0\n",
       "13.5                       2.5\n",
       "15                        12.0\n",
       "Attendance (Marks: 15)     NaN\n",
       "Name: CT-1 (Marks: 20), dtype: float64"
      ]
     },
     "execution_count": 17,
     "metadata": {},
     "output_type": "execute_result"
    }
   ],
   "source": [
    "g['CT-1 (Marks: 20)'].median()"
   ]
  },
  {
   "cell_type": "markdown",
   "metadata": {},
   "source": [
    "# class test 1 results seem to have no relation with attendance with students with the least attendance scoring the highest "
   ]
  },
  {
   "cell_type": "code",
   "execution_count": 18,
   "metadata": {},
   "outputs": [
    {
     "data": {
      "text/plain": [
       "13.5"
      ]
     },
     "execution_count": 18,
     "metadata": {},
     "output_type": "execute_result"
    }
   ],
   "source": [
    "df['CT-2 (Marks: 20)'].mean()"
   ]
  },
  {
   "cell_type": "code",
   "execution_count": 19,
   "metadata": {},
   "outputs": [
    {
     "data": {
      "text/plain": [
       "15.0"
      ]
     },
     "execution_count": 19,
     "metadata": {},
     "output_type": "execute_result"
    }
   ],
   "source": [
    "df['CT-2 (Marks: 20)'].median()"
   ]
  },
  {
   "cell_type": "code",
   "execution_count": 20,
   "metadata": {},
   "outputs": [
    {
     "data": {
      "text/plain": [
       "Attendance (Marks: 15)\n",
       "0                          0.00000\n",
       "10.5                      15.50000\n",
       "13.5                      12.12500\n",
       "15                        15.22449\n",
       "Attendance (Marks: 15)         NaN\n",
       "Name: CT-2 (Marks: 20), dtype: float64"
      ]
     },
     "execution_count": 20,
     "metadata": {},
     "output_type": "execute_result"
    }
   ],
   "source": [
    "g['CT-2 (Marks: 20)'].mean()"
   ]
  },
  {
   "cell_type": "code",
   "execution_count": 21,
   "metadata": {},
   "outputs": [
    {
     "data": {
      "text/plain": [
       "Attendance (Marks: 15)\n",
       "0                          0.0\n",
       "10.5                      15.5\n",
       "13.5                      14.0\n",
       "15                        15.0\n",
       "Attendance (Marks: 15)     NaN\n",
       "Name: CT-2 (Marks: 20), dtype: float64"
      ]
     },
     "execution_count": 21,
     "metadata": {},
     "output_type": "execute_result"
    }
   ],
   "source": [
    "g['CT-2 (Marks: 20)'].median()"
   ]
  },
  {
   "cell_type": "markdown",
   "metadata": {},
   "source": [
    "# once again it seems that students with the least attendance seem to be doing better at class tests and students with mediocre attendance performed poorly again"
   ]
  },
  {
   "cell_type": "code",
   "execution_count": 22,
   "metadata": {},
   "outputs": [
    {
     "data": {
      "text/plain": [
       "12.583333333333334"
      ]
     },
     "execution_count": 22,
     "metadata": {},
     "output_type": "execute_result"
    }
   ],
   "source": [
    "df['CT-3 (Marks: 20)'].mean()"
   ]
  },
  {
   "cell_type": "code",
   "execution_count": 23,
   "metadata": {},
   "outputs": [
    {
     "data": {
      "text/plain": [
       "14.0"
      ]
     },
     "execution_count": 23,
     "metadata": {},
     "output_type": "execute_result"
    }
   ],
   "source": [
    "df['CT-3 (Marks: 20)'].median()"
   ]
  },
  {
   "cell_type": "code",
   "execution_count": 24,
   "metadata": {},
   "outputs": [
    {
     "data": {
      "text/plain": [
       "Attendance (Marks: 15)\n",
       "0                          0.000000\n",
       "10.5                      15.000000\n",
       "13.5                      10.500000\n",
       "15                        14.244898\n",
       "Attendance (Marks: 15)          NaN\n",
       "Name: CT-3 (Marks: 20), dtype: float64"
      ]
     },
     "execution_count": 24,
     "metadata": {},
     "output_type": "execute_result"
    }
   ],
   "source": [
    "g['CT-3 (Marks: 20)'].mean()"
   ]
  },
  {
   "cell_type": "code",
   "execution_count": 25,
   "metadata": {},
   "outputs": [
    {
     "data": {
      "text/plain": [
       "Attendance (Marks: 15)\n",
       "0                          0.0\n",
       "10.5                      15.0\n",
       "13.5                      13.0\n",
       "15                        14.5\n",
       "Attendance (Marks: 15)     NaN\n",
       "Name: CT-3 (Marks: 20), dtype: float64"
      ]
     },
     "execution_count": 25,
     "metadata": {},
     "output_type": "execute_result"
    }
   ],
   "source": [
    "g['CT-3 (Marks: 20)'].median()"
   ]
  },
  {
   "cell_type": "markdown",
   "metadata": {},
   "source": [
    "# similar trend as the last  two class tests "
   ]
  },
  {
   "cell_type": "code",
   "execution_count": 26,
   "metadata": {},
   "outputs": [
    {
     "data": {
      "text/plain": [
       "8.875"
      ]
     },
     "execution_count": 26,
     "metadata": {},
     "output_type": "execute_result"
    }
   ],
   "source": [
    "df['CT-4 (Marks: 20)'].mean()"
   ]
  },
  {
   "cell_type": "code",
   "execution_count": 27,
   "metadata": {},
   "outputs": [
    {
     "data": {
      "text/plain": [
       "8.75"
      ]
     },
     "execution_count": 27,
     "metadata": {},
     "output_type": "execute_result"
    }
   ],
   "source": [
    "df['CT-4 (Marks: 20)'].median()"
   ]
  },
  {
   "cell_type": "code",
   "execution_count": 28,
   "metadata": {},
   "outputs": [
    {
     "data": {
      "text/plain": [
       "Attendance (Marks: 15)\n",
       "0                          0.000000\n",
       "10.5                       0.000000\n",
       "13.5                      11.625000\n",
       "15                         9.918367\n",
       "Attendance (Marks: 15)          NaN\n",
       "Name: CT-4 (Marks: 20), dtype: float64"
      ]
     },
     "execution_count": 28,
     "metadata": {},
     "output_type": "execute_result"
    }
   ],
   "source": [
    "g['CT-4 (Marks: 20)'].mean()"
   ]
  },
  {
   "cell_type": "code",
   "execution_count": 29,
   "metadata": {},
   "outputs": [
    {
     "data": {
      "text/plain": [
       "Attendance (Marks: 15)\n",
       "0                          0.0\n",
       "10.5                       0.0\n",
       "13.5                      12.0\n",
       "15                        10.5\n",
       "Attendance (Marks: 15)     NaN\n",
       "Name: CT-4 (Marks: 20), dtype: float64"
      ]
     },
     "execution_count": 29,
     "metadata": {},
     "output_type": "execute_result"
    }
   ],
   "source": [
    "g['CT-4 (Marks: 20)'].median()"
   ]
  },
  {
   "cell_type": "markdown",
   "metadata": {},
   "source": [
    "# its clearly visible that quite a few students did not attend this test since only the best of 3  was considered for the internals"
   ]
  },
  {
   "cell_type": "code",
   "execution_count": 30,
   "metadata": {},
   "outputs": [
    {
     "data": {
      "text/plain": [
       "38.93333333333333"
      ]
     },
     "execution_count": 30,
     "metadata": {},
     "output_type": "execute_result"
    }
   ],
   "source": [
    "df['Class Test (Total of best 3, Marks: 60)'].mean()"
   ]
  },
  {
   "cell_type": "code",
   "execution_count": 31,
   "metadata": {},
   "outputs": [
    {
     "data": {
      "text/plain": [
       "43.5"
      ]
     },
     "execution_count": 31,
     "metadata": {},
     "output_type": "execute_result"
    }
   ],
   "source": [
    "df['Class Test (Total of best 3, Marks: 60)'].median()"
   ]
  },
  {
   "cell_type": "code",
   "execution_count": 32,
   "metadata": {},
   "outputs": [
    {
     "data": {
      "text/plain": [
       "Attendance (Marks: 15)\n",
       "0                          0.000000\n",
       "10.5                      46.500000\n",
       "13.5                      38.750000\n",
       "15                        43.561224\n",
       "Attendance (Marks: 15)          NaN\n",
       "Name: Class Test (Total of best 3, Marks: 60), dtype: float64"
      ]
     },
     "execution_count": 32,
     "metadata": {},
     "output_type": "execute_result"
    }
   ],
   "source": [
    "g['Class Test (Total of best 3, Marks: 60)'].mean()"
   ]
  },
  {
   "cell_type": "code",
   "execution_count": 43,
   "metadata": {},
   "outputs": [
    {
     "data": {
      "text/plain": [
       "Attendance (Marks: 15)\n",
       "0                          0.0\n",
       "10.5                      46.5\n",
       "13.5                      39.0\n",
       "15                        44.0\n",
       "Attendance (Marks: 15)     NaN\n",
       "Name: Class Test (Total of best 3, Marks: 60), dtype: float64"
      ]
     },
     "execution_count": 43,
     "metadata": {},
     "output_type": "execute_result"
    }
   ],
   "source": [
    "g['Class Test (Total of best 3, Marks: 60)'].median()"
   ]
  },
  {
   "cell_type": "markdown",
   "metadata": {},
   "source": [
    "# overall the students with least attendance have come out on top for the class test marks "
   ]
  },
  {
   "cell_type": "code",
   "execution_count": 34,
   "metadata": {},
   "outputs": [
    {
     "data": {
      "text/plain": [
       "30.833333333333332"
      ]
     },
     "execution_count": 34,
     "metadata": {},
     "output_type": "execute_result"
    }
   ],
   "source": [
    "df['Exam Mark (105)'].mean()"
   ]
  },
  {
   "cell_type": "code",
   "execution_count": 35,
   "metadata": {},
   "outputs": [
    {
     "data": {
      "text/plain": [
       "30.0"
      ]
     },
     "execution_count": 35,
     "metadata": {},
     "output_type": "execute_result"
    }
   ],
   "source": [
    "df['Exam Mark (105)'].median()"
   ]
  },
  {
   "cell_type": "code",
   "execution_count": 36,
   "metadata": {},
   "outputs": [
    {
     "data": {
      "text/plain": [
       "Attendance (Marks: 15)\n",
       "0                          0.000000\n",
       "10.5                       9.000000\n",
       "13.5                      26.500000\n",
       "15                        37.295918\n",
       "Attendance (Marks: 15)     0.000000\n",
       "Name: Exam Mark (105), dtype: float64"
      ]
     },
     "execution_count": 36,
     "metadata": {},
     "output_type": "execute_result"
    }
   ],
   "source": [
    "g['Exam Mark (105)'].mean()"
   ]
  },
  {
   "cell_type": "code",
   "execution_count": 37,
   "metadata": {},
   "outputs": [
    {
     "data": {
      "text/plain": [
       "Attendance (Marks: 15)\n",
       "0                          0.0\n",
       "10.5                       9.0\n",
       "13.5                      26.5\n",
       "15                        38.0\n",
       "Attendance (Marks: 15)     0.0\n",
       "Name: Exam Mark (105), dtype: float64"
      ]
     },
     "execution_count": 37,
     "metadata": {},
     "output_type": "execute_result"
    }
   ],
   "source": [
    "g['Exam Mark (105)'].median()"
   ]
  },
  {
   "cell_type": "markdown",
   "metadata": {},
   "source": [
    "# in the final exam marks however there is a clear distinction in the performance based on atendance"
   ]
  },
  {
   "cell_type": "code",
   "execution_count": 38,
   "metadata": {},
   "outputs": [
    {
     "data": {
      "text/plain": [
       "49.317460317460316"
      ]
     },
     "execution_count": 38,
     "metadata": {},
     "output_type": "execute_result"
    }
   ],
   "source": [
    "df['Exam Mark (105).1'].mean()"
   ]
  },
  {
   "cell_type": "code",
   "execution_count": 40,
   "metadata": {},
   "outputs": [
    {
     "data": {
      "text/plain": [
       "55.0"
      ]
     },
     "execution_count": 40,
     "metadata": {},
     "output_type": "execute_result"
    }
   ],
   "source": [
    "df['Exam Mark (105).1'].median()"
   ]
  },
  {
   "cell_type": "code",
   "execution_count": 41,
   "metadata": {},
   "outputs": [
    {
     "data": {
      "text/plain": [
       "Attendance (Marks: 15)\n",
       "0                          0.000000\n",
       "10.5                      57.000000\n",
       "13.5                      56.875000\n",
       "15                        57.602041\n",
       "Attendance (Marks: 15)     0.000000\n",
       "Name: Exam Mark (105).1, dtype: float64"
      ]
     },
     "execution_count": 41,
     "metadata": {},
     "output_type": "execute_result"
    }
   ],
   "source": [
    "g['Exam Mark (105).1'].mean()"
   ]
  },
  {
   "cell_type": "code",
   "execution_count": 42,
   "metadata": {},
   "outputs": [
    {
     "data": {
      "text/plain": [
       "Attendance (Marks: 15)\n",
       "0                          0.0\n",
       "10.5                      57.0\n",
       "13.5                      56.0\n",
       "15                        60.0\n",
       "Attendance (Marks: 15)     0.0\n",
       "Name: Exam Mark (105).1, dtype: float64"
      ]
     },
     "execution_count": 42,
     "metadata": {},
     "output_type": "execute_result"
    }
   ],
   "source": [
    "g['Exam Mark (105).1'].median()"
   ]
  },
  {
   "cell_type": "markdown",
   "metadata": {},
   "source": [
    "# this distinction in performace is reflective of the attendance in class where students with the highest attendance perfomed better"
   ]
  },
  {
   "cell_type": "markdown",
   "metadata": {},
   "source": [
    "# also something thats clearly visible in the fianl result"
   ]
  },
  {
   "cell_type": "code",
   "execution_count": null,
   "metadata": {},
   "outputs": [],
   "source": []
  }
 ],
 "metadata": {
  "kernelspec": {
   "display_name": "Python 3",
   "language": "python",
   "name": "python3"
  },
  "language_info": {
   "codemirror_mode": {
    "name": "ipython",
    "version": 3
   },
   "file_extension": ".py",
   "mimetype": "text/x-python",
   "name": "python",
   "nbconvert_exporter": "python",
   "pygments_lexer": "ipython3",
   "version": "3.7.6"
  }
 },
 "nbformat": 4,
 "nbformat_minor": 4
}
