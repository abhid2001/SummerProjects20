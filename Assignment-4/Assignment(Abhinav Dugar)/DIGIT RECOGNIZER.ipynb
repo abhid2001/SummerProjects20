{
 "cells": [
  {
   "cell_type": "markdown",
   "metadata": {},
   "source": [
    "# Digit Recognizer Kaggle Challenge using the MNIST Dataset\n",
    "### https://www.kaggle.com/c/digit-recognizer/overview\n",
    "\n",
    "### Made with the help of \n",
    "### https://www.kaggle.com/abhinand05/mnist-introduction-to-computervision-with-pytorch\n",
    "### and \n",
    "### https://www.kaggle.com/kanncaa1/pytorch-tutorial-for-deep-learning-lovers/notebook"
   ]
  },
  {
   "cell_type": "markdown",
   "metadata": {},
   "source": [
    "## Importing Libraries \n"
   ]
  },
  {
   "cell_type": "code",
   "execution_count": 3,
   "metadata": {},
   "outputs": [],
   "source": [
    "import numpy as np\n",
    "import pandas as pd\n",
    "import matplotlib.pyplot as plt \n",
    "%matplotlib inline \n",
    "import torch\n",
    "from torch.autograd import Variable\n",
    "from torch import nn,optim\n",
    "import torch.nn.functional as F\n",
    "from torch.autograd import Variable\n",
    "import warnings \n",
    "warnings.filterwarnings('ignore')\n",
    "#from torchvision import transforms, models\n",
    "from sklearn.model_selection import train_test_split"
   ]
  },
  {
   "cell_type": "markdown",
   "metadata": {},
   "source": [
    "## Importing Dataset"
   ]
  },
  {
   "cell_type": "code",
   "execution_count": 4,
   "metadata": {},
   "outputs": [],
   "source": [
    "train = pd.read_csv('train.csv',dtype = np.float32)\n",
    "test = pd.read_csv('test.csv',dtype = np.float32)\n",
    "sub = pd.read_csv('sample_submission.csv')"
   ]
  },
  {
   "cell_type": "code",
   "execution_count": 5,
   "metadata": {},
   "outputs": [],
   "source": [
    "target = train.label.values"
   ]
  },
  {
   "cell_type": "code",
   "execution_count": 6,
   "metadata": {},
   "outputs": [
    {
     "data": {
      "text/plain": [
       "array([[0., 0., 0., ..., 0., 0., 0.],\n",
       "       [0., 0., 0., ..., 0., 0., 0.],\n",
       "       [0., 0., 0., ..., 0., 0., 0.],\n",
       "       ...,\n",
       "       [0., 0., 0., ..., 0., 0., 0.],\n",
       "       [0., 0., 0., ..., 0., 0., 0.],\n",
       "       [0., 0., 0., ..., 0., 0., 0.]], dtype=float32)"
      ]
     },
     "execution_count": 6,
     "metadata": {},
     "output_type": "execute_result"
    }
   ],
   "source": [
    "features = train.loc[:,train.columns != 'label'].values/255 #Scaling the features\n",
    "features"
   ]
  },
  {
   "cell_type": "code",
   "execution_count": 7,
   "metadata": {},
   "outputs": [],
   "source": [
    "X_train, X_test, Y_train, Y_test = train_test_split(features, target, test_size = 0.2, random_state = 42)"
   ]
  },
  {
   "cell_type": "code",
   "execution_count": 11,
   "metadata": {},
   "outputs": [],
   "source": [
    "# numpy to torch conversion\n",
    "X_Train = torch.from_numpy(X_train)\n",
    "Y_Train = torch.from_numpy(Y_train).type(torch.LongTensor)\n",
    "\n",
    "X_Test = torch.from_numpy(X_test)\n",
    "Y_Test = torch.from_numpy(Y_test).type(torch.LongTensor)\n"
   ]
  },
  {
   "cell_type": "code",
   "execution_count": 12,
   "metadata": {},
   "outputs": [],
   "source": [
    "# Set our torch train + test\n",
    "\n",
    "train = torch.utils.data.TensorDataset(X_Train, Y_Train)\n",
    "test = torch.utils.data.TensorDataset(X_Test, Y_Test)"
   ]
  },
  {
   "cell_type": "code",
   "execution_count": 13,
   "metadata": {},
   "outputs": [],
   "source": [
    "batch_size = 100\n",
    "n_iters = 10000\n",
    "num_epochs = n_iters / (len(train) / batch_size)\n",
    "num_epochs = int(num_epochs)"
   ]
  },
  {
   "cell_type": "code",
   "execution_count": 14,
   "metadata": {},
   "outputs": [],
   "source": [
    "# Set our data loaders\n",
    "train_loader = torch.utils.data.DataLoader(train, batch_size = batch_size, shuffle = True)\n",
    "test_loader = torch.utils.data.DataLoader(test, batch_size = batch_size, shuffle = True)"
   ]
  },
  {
   "cell_type": "code",
   "execution_count": 15,
   "metadata": {},
   "outputs": [
    {
     "data": {
      "image/png": "[encoded data removed]",
      "text/plain": [
       "<Figure size 432x288 with 1 Axes>"
      ]
     },
     "metadata": {},
     "output_type": "display_data"
    }
   ],
   "source": [
    "plt.imshow(features[10].reshape(28,28))\n",
    "plt.axis(\"ON\")\n",
    "plt.title(str(target[10]))\n",
    "plt.savefig('graph.png')\n",
    "plt.show()"
   ]
  },
  {
   "cell_type": "markdown",
   "metadata": {},
   "source": [
    "## Logistic Regression"
   ]
  },
  {
   "cell_type": "code",
   "execution_count": 16,
   "metadata": {},
   "outputs": [],
   "source": [
    "# Create Logistic Regression Model\n",
    "class LogisticRegressionModel(nn.Module):\n",
    "    def __init__(self, input_dim, output_dim):\n",
    "        super(LogisticRegressionModel, self).__init__()\n",
    "        self.linear = nn.Linear(input_dim, output_dim)\n",
    "       \n",
    "    def forward(self, x):\n",
    "        out = self.linear(x)\n",
    "        return out"
   ]
  },
  {
   "cell_type": "code",
   "execution_count": 17,
   "metadata": {},
   "outputs": [],
   "source": [
    "input_dim = 28*28 \n",
    "output_dim = 10  \n",
    "\n",
    "model = LogisticRegressionModel(input_dim, output_dim)\n",
    "\n",
    "error = nn.CrossEntropyLoss()\n",
    "\n",
    "learning_rate = 0.001\n",
    "optimizer = torch.optim.SGD(model.parameters(), lr=learning_rate)"
   ]
  },
  {
   "cell_type": "code",
   "execution_count": 19,
   "metadata": {},
   "outputs": [
    {
     "name": "stdout",
     "output_type": "stream",
     "text": [
      "Iteration: 500  Loss: 0.4993867576122284  Accuracy: 85.95237731933594%\n",
      "Iteration: 1000  Loss: 0.5159269571304321  Accuracy: 86.0952377319336%\n",
      "Iteration: 1500  Loss: 0.5932170748710632  Accuracy: 86.21428680419922%\n",
      "Iteration: 2000  Loss: 0.7193505167961121  Accuracy: 86.28571319580078%\n",
      "Iteration: 2500  Loss: 0.6261521577835083  Accuracy: 86.3452377319336%\n",
      "Iteration: 3000  Loss: 0.45912283658981323  Accuracy: 86.48809814453125%\n",
      "Iteration: 3500  Loss: 0.6129841208457947  Accuracy: 86.57142639160156%\n",
      "Iteration: 4000  Loss: 0.5174145102500916  Accuracy: 86.69047546386719%\n",
      "Iteration: 4500  Loss: 0.5987500548362732  Accuracy: 86.79762268066406%\n",
      "Iteration: 5000  Loss: 0.5823884010314941  Accuracy: 86.86904907226562%\n",
      "Iteration: 5500  Loss: 0.6803264021873474  Accuracy: 86.97618865966797%\n",
      "Iteration: 6000  Loss: 0.5666166543960571  Accuracy: 87.02381134033203%\n",
      "Iteration: 6500  Loss: 0.6059433221817017  Accuracy: 87.11904907226562%\n",
      "Iteration: 7000  Loss: 0.4729689061641693  Accuracy: 87.19047546386719%\n",
      "Iteration: 7500  Loss: 0.5073206424713135  Accuracy: 87.25%\n",
      "Iteration: 8000  Loss: 0.5773935317993164  Accuracy: 87.27381134033203%\n",
      "Iteration: 8500  Loss: 0.5648164749145508  Accuracy: 87.30952453613281%\n",
      "Iteration: 9000  Loss: 0.4594669044017792  Accuracy: 87.41666412353516%\n",
      "Iteration: 9500  Loss: 0.5012255907058716  Accuracy: 87.46428680419922%\n"
     ]
    }
   ],
   "source": [
    "# Training the Model\n",
    "count = 0\n",
    "loss_list = []\n",
    "iteration_list = []\n",
    "for epoch in range(num_epochs):\n",
    "    for i, (images, labels) in enumerate(train_loader):\n",
    "        \n",
    "        \n",
    "        train = Variable(images.view(-1, 28*28))\n",
    "        labels = Variable(labels)\n",
    "        \n",
    "        optimizer.zero_grad()\n",
    "        \n",
    "        outputs = model(train)\n",
    "        \n",
    "        loss = error(outputs, labels)\n",
    "        \n",
    "        loss.backward()\n",
    "        \n",
    "        optimizer.step()\n",
    "        \n",
    "        count += 1\n",
    "        \n",
    "        if count % 50 == 0:\n",
    "            correct = 0\n",
    "            total = 0\n",
    "            for images, labels in test_loader: \n",
    "                test = Variable(images.view(-1, 28*28))\n",
    "                \n",
    "                outputs = model(test)\n",
    "                predicted = torch.max(outputs.data, 1)[1]\n",
    "                \n",
    "                total += len(labels)\n",
    "                \n",
    "                correct += (predicted == labels).sum()\n",
    "            \n",
    "            accuracy = 100 * correct / float(total)\n",
    "            \n",
    "            loss_list.append(loss.data)\n",
    "            iteration_list.append(count)\n",
    "        if count % 500 == 0:\n",
    "            print('Iteration: {}  Loss: {}  Accuracy: {}%'.format(count, loss.data, accuracy))"
   ]
  },
  {
   "cell_type": "markdown",
   "metadata": {},
   "source": [
    "###  We can see that the accuracy comes of comes out to be pretty low by using Standard Logistic Regression"
   ]
  },
  {
   "cell_type": "markdown",
   "metadata": {},
   "source": [
    "# CNN Model "
   ]
  },
  {
   "cell_type": "code",
   "execution_count": 54,
   "metadata": {},
   "outputs": [
    {
     "data": {
      "text/plain": [
       "0    1.0\n",
       "1    0.0\n",
       "2    1.0\n",
       "3    4.0\n",
       "4    0.0\n",
       "Name: label, dtype: float32"
      ]
     },
     "execution_count": 54,
     "metadata": {},
     "output_type": "execute_result"
    }
   ],
   "source": [
    "train = pd.read_csv(\"train.csv\", dtype=np.float32)\n",
    "final_test = pd.read_csv(\"test.csv\", dtype=np.float32)\n",
    "sample_sub = pd.read_csv(\"sample_submission.csv\")\n",
    "train.label.head()\n"
   ]
  },
  {
   "cell_type": "code",
   "execution_count": 55,
   "metadata": {},
   "outputs": [],
   "source": [
    "targets_np = train.label.values\n",
    "features_np = train.loc[:, train.columns != 'label'].values/255\n",
    "\n",
    "# Split into training and test set\n",
    "features_train, features_test, target_train, target_test = train_test_split(features_np, targets_np, test_size=0.2, random_state=42)"
   ]
  },
  {
   "cell_type": "code",
   "execution_count": 56,
   "metadata": {},
   "outputs": [],
   "source": [
    "featuresTrain = torch.from_numpy(features_train)\n",
    "targetsTrain = torch.from_numpy(target_train).type(torch.LongTensor) # data type is long\n",
    "\n",
    "# create feature and targets tensor for test set.\n",
    "featuresTest = torch.from_numpy(features_test)\n",
    "targetsTest = torch.from_numpy(target_test).type(torch.LongTensor) # data type is long"
   ]
  },
  {
   "cell_type": "code",
   "execution_count": 57,
   "metadata": {},
   "outputs": [],
   "source": [
    "batch_size = 256\n",
    "\n",
    "# Pytorch train and test sets\n",
    "train = torch.utils.data.TensorDataset(featuresTrain,targetsTrain)\n",
    "test = torch.utils.data.TensorDataset(featuresTest,targetsTest)\n",
    "\n",
    "# data loader\n",
    "train_loader = torch.utils.data.DataLoader(train, batch_size = batch_size, shuffle = True)\n",
    "test_loader = torch.utils.data.DataLoader(test, batch_size = batch_size, shuffle = True)"
   ]
  },
  {
   "cell_type": "code",
   "execution_count": 58,
   "metadata": {},
   "outputs": [
    {
     "data": {
      "image/png": "[encoded data removed]",
      "text/plain": [
       "<Figure size 432x288 with 1 Axes>"
      ]
     },
     "metadata": {},
     "output_type": "display_data"
    }
   ],
   "source": [
    "def visualize_image(data, index, pred=False, val=0):\n",
    "    '''This funtion can be used to visualize the images'''\n",
    "    plt.imshow(data[index].reshape(28,28))\n",
    "    plt.axis(\"off\")\n",
    "    plt.title(\"Handwritten Digit Image\")\n",
    "    plt.show()\n",
    "visualize_image(features_np, 12)"
   ]
  },
  {
   "cell_type": "code",
   "execution_count": 59,
   "metadata": {},
   "outputs": [],
   "source": [
    "class Classifier(nn.Module):\n",
    "    def __init__(self):\n",
    "        super().__init__()\n",
    "        # 5 Hidden Layer Network\n",
    "        self.fc1 = nn.Linear(28*28, 512)\n",
    "        self.fc2 = nn.Linear(512, 256)\n",
    "        self.fc3 = nn.Linear(256, 128)\n",
    "        self.fc4 = nn.Linear(128, 64)\n",
    "        self.fc5 = nn.Linear(64, 10)\n",
    "        \n",
    "        # Dropout module with 0.2 probbability\n",
    "        self.dropout = nn.Dropout(p=0.2)\n",
    "        # Add softmax on output layer\n",
    "        self.log_softmax = F.log_softmax\n",
    "        \n",
    "    def forward(self, x):\n",
    "        x = self.dropout(F.relu(self.fc1(x)))\n",
    "        x = self.dropout(F.relu(self.fc2(x)))\n",
    "        x = self.dropout(F.relu(self.fc3(x)))\n",
    "        x = self.dropout(F.relu(self.fc4(x)))\n",
    "        \n",
    "        x = self.log_softmax(self.fc5(x), dim=1)\n",
    "        \n",
    "        return x"
   ]
  },
  {
   "cell_type": "code",
   "execution_count": 60,
   "metadata": {},
   "outputs": [
    {
     "name": "stdout",
     "output_type": "stream",
     "text": [
      "Epoch: 1/25..  Training Loss: 0.412..  Test Loss: 0.422..  Test Accuracy: 0.872\n",
      "Epoch: 1/25..  Training Loss: 0.568..  Test Loss: 0.287..  Test Accuracy: 0.917\n",
      "Epoch: 2/25..  Training Loss: 0.037..  Test Loss: 0.212..  Test Accuracy: 0.936\n",
      "Epoch: 2/25..  Training Loss: 0.123..  Test Loss: 0.189..  Test Accuracy: 0.945\n",
      "Epoch: 2/25..  Training Loss: 0.200..  Test Loss: 0.173..  Test Accuracy: 0.947\n",
      "Epoch: 3/25..  Training Loss: 0.043..  Test Loss: 0.155..  Test Accuracy: 0.953\n",
      "Epoch: 3/25..  Training Loss: 0.103..  Test Loss: 0.132..  Test Accuracy: 0.960\n",
      "Epoch: 4/25..  Training Loss: 0.004..  Test Loss: 0.155..  Test Accuracy: 0.956\n",
      "Epoch: 4/25..  Training Loss: 0.052..  Test Loss: 0.118..  Test Accuracy: 0.965\n",
      "Epoch: 4/25..  Training Loss: 0.094..  Test Loss: 0.120..  Test Accuracy: 0.966\n",
      "Epoch: 5/25..  Training Loss: 0.017..  Test Loss: 0.125..  Test Accuracy: 0.964\n",
      "Epoch: 5/25..  Training Loss: 0.055..  Test Loss: 0.112..  Test Accuracy: 0.968\n",
      "Epoch: 5/25..  Training Loss: 0.090..  Test Loss: 0.110..  Test Accuracy: 0.969\n",
      "Epoch: 6/25..  Training Loss: 0.023..  Test Loss: 0.101..  Test Accuracy: 0.973\n",
      "Epoch: 6/25..  Training Loss: 0.055..  Test Loss: 0.104..  Test Accuracy: 0.970\n",
      "Epoch: 7/25..  Training Loss: 0.004..  Test Loss: 0.098..  Test Accuracy: 0.971\n",
      "Epoch: 7/25..  Training Loss: 0.030..  Test Loss: 0.095..  Test Accuracy: 0.973\n",
      "Epoch: 7/25..  Training Loss: 0.056..  Test Loss: 0.105..  Test Accuracy: 0.972\n",
      "Epoch: 8/25..  Training Loss: 0.012..  Test Loss: 0.109..  Test Accuracy: 0.971\n",
      "Epoch: 8/25..  Training Loss: 0.035..  Test Loss: 0.103..  Test Accuracy: 0.971\n",
      "Epoch: 8/25..  Training Loss: 0.058..  Test Loss: 0.099..  Test Accuracy: 0.972\n",
      "Epoch: 9/25..  Training Loss: 0.015..  Test Loss: 0.099..  Test Accuracy: 0.975\n",
      "Epoch: 9/25..  Training Loss: 0.034..  Test Loss: 0.101..  Test Accuracy: 0.974\n",
      "Epoch: 10/25..  Training Loss: 0.005..  Test Loss: 0.094..  Test Accuracy: 0.975\n",
      "Epoch: 10/25..  Training Loss: 0.020..  Test Loss: 0.112..  Test Accuracy: 0.973\n",
      "Epoch: 10/25..  Training Loss: 0.045..  Test Loss: 0.096..  Test Accuracy: 0.972\n",
      "Epoch: 11/25..  Training Loss: 0.009..  Test Loss: 0.105..  Test Accuracy: 0.976\n",
      "Epoch: 11/25..  Training Loss: 0.027..  Test Loss: 0.102..  Test Accuracy: 0.973\n",
      "Epoch: 11/25..  Training Loss: 0.043..  Test Loss: 0.097..  Test Accuracy: 0.975\n",
      "Epoch: 12/25..  Training Loss: 0.014..  Test Loss: 0.096..  Test Accuracy: 0.976\n",
      "Epoch: 12/25..  Training Loss: 0.026..  Test Loss: 0.109..  Test Accuracy: 0.974\n",
      "Epoch: 13/25..  Training Loss: 0.006..  Test Loss: 0.113..  Test Accuracy: 0.973\n",
      "Epoch: 13/25..  Training Loss: 0.022..  Test Loss: 0.095..  Test Accuracy: 0.977\n",
      "Epoch: 13/25..  Training Loss: 0.035..  Test Loss: 0.102..  Test Accuracy: 0.976\n",
      "Epoch: 14/25..  Training Loss: 0.011..  Test Loss: 0.094..  Test Accuracy: 0.977\n",
      "Epoch: 14/25..  Training Loss: 0.022..  Test Loss: 0.110..  Test Accuracy: 0.974\n",
      "Epoch: 15/25..  Training Loss: 0.000..  Test Loss: 0.104..  Test Accuracy: 0.975\n",
      "Epoch: 15/25..  Training Loss: 0.011..  Test Loss: 0.103..  Test Accuracy: 0.977\n",
      "Epoch: 15/25..  Training Loss: 0.020..  Test Loss: 0.103..  Test Accuracy: 0.976\n",
      "Epoch: 16/25..  Training Loss: 0.007..  Test Loss: 0.094..  Test Accuracy: 0.976\n",
      "Epoch: 16/25..  Training Loss: 0.018..  Test Loss: 0.103..  Test Accuracy: 0.974\n",
      "Epoch: 16/25..  Training Loss: 0.029..  Test Loss: 0.108..  Test Accuracy: 0.977\n",
      "Epoch: 17/25..  Training Loss: 0.009..  Test Loss: 0.118..  Test Accuracy: 0.974\n",
      "Epoch: 17/25..  Training Loss: 0.022..  Test Loss: 0.103..  Test Accuracy: 0.976\n",
      "Epoch: 18/25..  Training Loss: 0.001..  Test Loss: 0.100..  Test Accuracy: 0.976\n",
      "Epoch: 18/25..  Training Loss: 0.012..  Test Loss: 0.102..  Test Accuracy: 0.977\n",
      "Epoch: 18/25..  Training Loss: 0.021..  Test Loss: 0.117..  Test Accuracy: 0.974\n",
      "Epoch: 19/25..  Training Loss: 0.004..  Test Loss: 0.109..  Test Accuracy: 0.976\n",
      "Epoch: 19/25..  Training Loss: 0.012..  Test Loss: 0.104..  Test Accuracy: 0.975\n",
      "Epoch: 19/25..  Training Loss: 0.021..  Test Loss: 0.106..  Test Accuracy: 0.978\n",
      "Epoch: 20/25..  Training Loss: 0.007..  Test Loss: 0.112..  Test Accuracy: 0.974\n",
      "Epoch: 20/25..  Training Loss: 0.017..  Test Loss: 0.112..  Test Accuracy: 0.975\n",
      "Epoch: 21/25..  Training Loss: 0.003..  Test Loss: 0.115..  Test Accuracy: 0.976\n",
      "Epoch: 21/25..  Training Loss: 0.013..  Test Loss: 0.099..  Test Accuracy: 0.978\n",
      "Epoch: 21/25..  Training Loss: 0.022..  Test Loss: 0.102..  Test Accuracy: 0.977\n",
      "Epoch: 22/25..  Training Loss: 0.006..  Test Loss: 0.097..  Test Accuracy: 0.978\n",
      "Epoch: 22/25..  Training Loss: 0.013..  Test Loss: 0.106..  Test Accuracy: 0.977\n",
      "Epoch: 22/25..  Training Loss: 0.024..  Test Loss: 0.096..  Test Accuracy: 0.977\n",
      "Epoch: 23/25..  Training Loss: 0.005..  Test Loss: 0.102..  Test Accuracy: 0.977\n",
      "Epoch: 23/25..  Training Loss: 0.011..  Test Loss: 0.107..  Test Accuracy: 0.976\n",
      "Epoch: 24/25..  Training Loss: 0.002..  Test Loss: 0.105..  Test Accuracy: 0.978\n",
      "Epoch: 24/25..  Training Loss: 0.009..  Test Loss: 0.113..  Test Accuracy: 0.976\n",
      "Epoch: 24/25..  Training Loss: 0.019..  Test Loss: 0.112..  Test Accuracy: 0.978\n",
      "Epoch: 25/25..  Training Loss: 0.003..  Test Loss: 0.114..  Test Accuracy: 0.976\n",
      "Epoch: 25/25..  Training Loss: 0.012..  Test Loss: 0.116..  Test Accuracy: 0.976\n",
      "Epoch: 25/25..  Training Loss: 0.020..  Test Loss: 0.112..  Test Accuracy: 0.977\n"
     ]
    }
   ],
   "source": [
    "model = Classifier()\n",
    "# Define our loss function\n",
    "criterion = nn.NLLLoss()\n",
    "# Define the optimier\n",
    "optimizer = optim.Adam(model.parameters(), lr=0.0015)\n",
    "\n",
    "epochs = 25\n",
    "steps = 0\n",
    "print_every = 50\n",
    "train_losses, test_losses = [], []\n",
    "\n",
    "for e in range(epochs):\n",
    "    running_loss = 0\n",
    "    for images, labels in train_loader:\n",
    "        steps += 1\n",
    "        # Prevent accumulation of gradients\n",
    "        optimizer.zero_grad()\n",
    "        # Make predictions\n",
    "        log_ps = model(images)\n",
    "        loss = criterion(log_ps, labels)\n",
    "        #backprop\n",
    "        loss.backward()\n",
    "        optimizer.step()\n",
    "        \n",
    "        running_loss += loss.item()\n",
    "        if steps % print_every == 0:\n",
    "            test_loss = 0\n",
    "            accuracy = 0\n",
    "\n",
    "            # Turn off gradients for validation\n",
    "            with torch.no_grad():\n",
    "                model.eval()\n",
    "                for images, labels in test_loader:\n",
    "                    log_ps = model(images)\n",
    "                    test_loss += criterion(log_ps, labels)\n",
    "\n",
    "                    ps = torch.exp(log_ps)\n",
    "                    # Get our top predictions\n",
    "                    top_p, top_class = ps.topk(1, dim=1)\n",
    "                    equals = top_class == labels.view(*top_class.shape)\n",
    "                    accuracy += torch.mean(equals.type(torch.FloatTensor))\n",
    "\n",
    "            model.train()\n",
    "\n",
    "            train_losses.append(running_loss/len(train_loader))\n",
    "            test_losses.append(test_loss/len(test_loader))\n",
    "\n",
    "            print(\"Epoch: {}/{}.. \".format(e+1, epochs),\n",
    "                  \"Training Loss: {:.3f}.. \".format(train_losses[-1]),\n",
    "                  \"Test Loss: {:.3f}.. \".format(test_losses[-1]),\n",
    "                  \"Test Accuracy: {:.3f}\".format(accuracy/len(test_loader)))"
   ]
  },
  {
   "cell_type": "code",
   "execution_count": 61,
   "metadata": {},
   "outputs": [
    {
     "data": {
      "text/plain": [
       "<matplotlib.legend.Legend at 0x1a235dfa90>"
      ]
     },
     "execution_count": 61,
     "metadata": {},
     "output_type": "execute_result"
    },
    {
     "data": {
      "image/png": "[encoded data removed]",
      "text/plain": [
       "<Figure size 432x288 with 1 Axes>"
      ]
     },
     "metadata": {
      "image/png": {
       "height": 250,
       "width": 373
      }
     },
     "output_type": "display_data"
    }
   ],
   "source": [
    "%config InlineBackend.figure_format = 'retina'\n",
    "\n",
    "plt.plot(train_losses, label='Training loss')\n",
    "plt.plot(test_losses, label='Validation loss')\n",
    "plt.legend(frameon=False)"
   ]
  },
  {
   "cell_type": "code",
   "execution_count": 62,
   "metadata": {},
   "outputs": [],
   "source": [
    "def view_classify(img, ps):\n",
    "    ''' Function for viewing an image and it's predicted classes.\n",
    "    '''\n",
    "    ps = ps.data.numpy().squeeze()\n",
    "\n",
    "    fig, (ax1, ax2) = plt.subplots(figsize=(6,9), ncols=2)\n",
    "    ax1.imshow(img.resize_(1, 28, 28).numpy().squeeze())\n",
    "    ax1.axis('off')\n",
    "    ax2.barh(np.arange(10), ps)\n",
    "    ax2.set_aspect(0.1)\n",
    "    ax2.set_yticks(np.arange(10))\n",
    "    ax2.set_yticklabels(np.arange(10))\n",
    "    ax2.set_title('Class Probability')\n",
    "    ax2.set_xlim(0, 1.1)\n",
    "\n",
    "    plt.tight_layout()"
   ]
  },
  {
   "cell_type": "code",
   "execution_count": 63,
   "metadata": {},
   "outputs": [],
   "source": [
    "%matplotlib inline\n",
    "def make_prediction(data):\n",
    "    images, labels = next(iter(data))\n",
    "\n",
    "    img = images[42].view(1, 784)\n",
    "    # Turn off gradients to speed up this part\n",
    "    with torch.no_grad():\n",
    "        logps = model(img)\n",
    "\n",
    "    # Output of the network are log-probabilities, need to take exponential for probabilities\n",
    "    ps = torch.exp(logps)\n",
    "    view_classify(img.view(1, 28, 28), ps)"
   ]
  },
  {
   "cell_type": "code",
   "execution_count": 64,
   "metadata": {},
   "outputs": [
    {
     "data": {
      "image/png": "[encoded data removed]",
      "text/plain": [
       "<Figure size 432x648 with 2 Axes>"
      ]
     },
     "metadata": {
      "image/png": {
       "height": 224,
       "width": 423
      }
     },
     "output_type": "display_data"
    }
   ],
   "source": [
    "final_test_np = final_test.values/255\n",
    "test_tn = torch.from_numpy(final_test_np)\n",
    "\n",
    "fake_labels = np.zeros(final_test_np.shape)\n",
    "fake_labels = torch.from_numpy(fake_labels)\n",
    "\n",
    "submission_tn_data = torch.utils.data.TensorDataset(test_tn, fake_labels)\n",
    "\n",
    "submission_loader = torch.utils.data.DataLoader(submission_tn_data, batch_size = batch_size, shuffle = False)\n",
    "make_prediction(submission_loader)\n"
   ]
  },
  {
   "cell_type": "code",
   "execution_count": 65,
   "metadata": {},
   "outputs": [],
   "source": [
    "submission = [['ImageId', 'Label']]\n",
    "\n",
    "# Turn off gradients for validation\n",
    "with torch.no_grad():\n",
    "    model.eval()\n",
    "    image_id = 1\n",
    "    for images, _ in submission_loader:\n",
    "        log_ps = model(images)\n",
    "        ps = torch.exp(log_ps)\n",
    "        top_p, top_class = ps.topk(1, dim=1)\n",
    "        \n",
    "        for prediction in top_class:\n",
    "            submission.append([image_id, prediction.item()])\n",
    "            image_id += 1"
   ]
  },
  {
   "cell_type": "code",
   "execution_count": 66,
   "metadata": {},
   "outputs": [],
   "source": [
    "submission_df = pd.DataFrame(submission)\n",
    "submission_df.columns = submission_df.iloc[0]\n",
    "submission_df = submission_df.drop(0, axis=0)"
   ]
  },
  {
   "cell_type": "code",
   "execution_count": 67,
   "metadata": {},
   "outputs": [],
   "source": [
    "submission_df.to_csv(\"submission.csv\", index=False)\n"
   ]
  },
  {
   "cell_type": "code",
   "execution_count": null,
   "metadata": {},
   "outputs": [],
   "source": []
  }
 ],
 "metadata": {
  "kernelspec": {
   "display_name": "Python 3",
   "language": "python",
   "name": "python3"
  },
  "language_info": {
   "codemirror_mode": {
    "name": "ipython",
    "version": 3
   },
   "file_extension": ".py",
   "mimetype": "text/x-python",
   "name": "python",
   "nbconvert_exporter": "python",
   "pygments_lexer": "ipython3",
   "version": "3.6.8"
  }
 },
 "nbformat": 4,
 "nbformat_minor": 2
}
